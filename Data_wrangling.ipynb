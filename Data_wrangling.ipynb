{
 "cells": [
  {
   "cell_type": "code",
   "execution_count": 1,
   "metadata": {},
   "outputs": [],
   "source": [
    "#Import libraries\n",
    "import json\n",
    "from pandas import json_normalize\n",
    "import pandas as pd\n",
    "import numpy as np\n",
    "from sentinelhub import SHConfig\n",
    "from sentinelhub import WmsRequest, WcsRequest, MimeType, CRS, BBox, CustomUrlParam\n",
    "from tqdm.auto import tqdm\n",
    "import matplotlib.pyplot as plt"
   ]
  },
  {
   "cell_type": "markdown",
   "metadata": {},
   "source": [
    "## Import data\n"
   ]
  },
  {
   "cell_type": "code",
   "execution_count": 2,
   "metadata": {},
   "outputs": [
    {
     "data": {
      "text/html": [
       "<div>\n",
       "<style scoped>\n",
       "    .dataframe tbody tr th:only-of-type {\n",
       "        vertical-align: middle;\n",
       "    }\n",
       "\n",
       "    .dataframe tbody tr th {\n",
       "        vertical-align: top;\n",
       "    }\n",
       "\n",
       "    .dataframe thead th {\n",
       "        text-align: right;\n",
       "    }\n",
       "</style>\n",
       "<table border=\"1\" class=\"dataframe\">\n",
       "  <thead>\n",
       "    <tr style=\"text-align: right;\">\n",
       "      <th></th>\n",
       "      <th>type</th>\n",
       "      <th>geometry.type</th>\n",
       "      <th>geometry.coordinates</th>\n",
       "      <th>properties.values</th>\n",
       "      <th>properties.unit.state.area</th>\n",
       "      <th>properties.unit.state.year_of_planting</th>\n",
       "      <th>properties.unit.state.variety</th>\n",
       "      <th>properties.unit.metadata</th>\n",
       "      <th>properties.unit.id</th>\n",
       "      <th>properties.unit.full_name</th>\n",
       "      <th>properties.unit.name</th>\n",
       "    </tr>\n",
       "  </thead>\n",
       "  <tbody>\n",
       "    <tr>\n",
       "      <th>0</th>\n",
       "      <td>Feature</td>\n",
       "      <td>Polygon</td>\n",
       "      <td>[[[-75.6396578867764, -14.199701335951724], [-...</td>\n",
       "      <td>[{'value': 3581.158766439885, 'variety': {}, '...</td>\n",
       "      <td>6.530601</td>\n",
       "      <td>[2019]</td>\n",
       "      <td>[hass, fuerte, zutano]</td>\n",
       "      <td>[{'level_name': 'empresa', 'name': 'agricola c...</td>\n",
       "      <td>90214</td>\n",
       "      <td>lote AGRICOLA CHAPI.DON ERNESTO.PAL-1.36</td>\n",
       "      <td>AGRICOLA CHAPI.DON ERNESTO.PAL-1.36</td>\n",
       "    </tr>\n",
       "    <tr>\n",
       "      <th>1</th>\n",
       "      <td>Feature</td>\n",
       "      <td>Polygon</td>\n",
       "      <td>[[[-75.64231663022875, -14.20062882414364], [-...</td>\n",
       "      <td>[{'value': 4037.3751791811173, 'variety': {}, ...</td>\n",
       "      <td>6.555069</td>\n",
       "      <td>[2019]</td>\n",
       "      <td>[hass, fuerte, zutano]</td>\n",
       "      <td>[{'level_name': 'empresa', 'name': 'agricola c...</td>\n",
       "      <td>90215</td>\n",
       "      <td>lote AGRICOLA CHAPI.DON ERNESTO.PAL-1.37</td>\n",
       "      <td>AGRICOLA CHAPI.DON ERNESTO.PAL-1.37</td>\n",
       "    </tr>\n",
       "    <tr>\n",
       "      <th>2</th>\n",
       "      <td>Feature</td>\n",
       "      <td>Polygon</td>\n",
       "      <td>[[[-75.63898926117189, -14.201527268326426], [...</td>\n",
       "      <td>[{'value': 4658.420440484501, 'variety': {}, '...</td>\n",
       "      <td>6.533254</td>\n",
       "      <td>[2019]</td>\n",
       "      <td>[hass, fuerte, zutano]</td>\n",
       "      <td>[{'level_name': 'empresa', 'name': 'agricola c...</td>\n",
       "      <td>90216</td>\n",
       "      <td>lote AGRICOLA CHAPI.DON ERNESTO.PAL-1.42</td>\n",
       "      <td>AGRICOLA CHAPI.DON ERNESTO.PAL-1.42</td>\n",
       "    </tr>\n",
       "    <tr>\n",
       "      <th>3</th>\n",
       "      <td>Feature</td>\n",
       "      <td>Polygon</td>\n",
       "      <td>[[[-75.64164955317383, -14.202454024468352], [...</td>\n",
       "      <td>[{'value': 4196.272165747293, 'variety': {}, '...</td>\n",
       "      <td>6.551013</td>\n",
       "      <td>[2019]</td>\n",
       "      <td>[hass, fuerte, zutano]</td>\n",
       "      <td>[{'level_name': 'empresa', 'name': 'agricola c...</td>\n",
       "      <td>90217</td>\n",
       "      <td>lote AGRICOLA CHAPI.DON ERNESTO.PAL-1.43</td>\n",
       "      <td>AGRICOLA CHAPI.DON ERNESTO.PAL-1.43</td>\n",
       "    </tr>\n",
       "    <tr>\n",
       "      <th>4</th>\n",
       "      <td>Feature</td>\n",
       "      <td>Polygon</td>\n",
       "      <td>[[[-75.64164955317383, -14.202454024468352], [...</td>\n",
       "      <td>[{'value': 4744.580970357842, 'variety': {}, '...</td>\n",
       "      <td>6.534646</td>\n",
       "      <td>[2019]</td>\n",
       "      <td>[hass, fuerte, zutano]</td>\n",
       "      <td>[{'level_name': 'empresa', 'name': 'agricola c...</td>\n",
       "      <td>90218</td>\n",
       "      <td>lote AGRICOLA CHAPI.DON ERNESTO.PAL-1.48</td>\n",
       "      <td>AGRICOLA CHAPI.DON ERNESTO.PAL-1.48</td>\n",
       "    </tr>\n",
       "    <tr>\n",
       "      <th>5</th>\n",
       "      <td>Feature</td>\n",
       "      <td>Polygon</td>\n",
       "      <td>[[[-75.64431888131925, -14.203383890611855], [...</td>\n",
       "      <td>[{'value': 4914.518933170159, 'variety': {}, '...</td>\n",
       "      <td>6.562506</td>\n",
       "      <td>[2019]</td>\n",
       "      <td>[hass, fuerte, zutano]</td>\n",
       "      <td>[{'level_name': 'empresa', 'name': 'agricola c...</td>\n",
       "      <td>90219</td>\n",
       "      <td>lote AGRICOLA CHAPI.DON ERNESTO.PAL-1.49</td>\n",
       "      <td>AGRICOLA CHAPI.DON ERNESTO.PAL-1.49</td>\n",
       "    </tr>\n",
       "    <tr>\n",
       "      <th>6</th>\n",
       "      <td>Feature</td>\n",
       "      <td>Polygon</td>\n",
       "      <td>[[[-75.63765710540375, -14.20516513033943], [-...</td>\n",
       "      <td>[{'value': 3081.5154889943, 'variety': {}, 'me...</td>\n",
       "      <td>6.498691</td>\n",
       "      <td>[2019]</td>\n",
       "      <td>[hass, fuerte, zutano]</td>\n",
       "      <td>[{'level_name': 'empresa', 'name': 'agricola c...</td>\n",
       "      <td>90221</td>\n",
       "      <td>lote AGRICOLA CHAPI.DON ERNESTO.PAL-2.54</td>\n",
       "      <td>AGRICOLA CHAPI.DON ERNESTO.PAL-2.54</td>\n",
       "    </tr>\n",
       "    <tr>\n",
       "      <th>7</th>\n",
       "      <td>Feature</td>\n",
       "      <td>Polygon</td>\n",
       "      <td>[[[-75.64031869971863, -14.206095306337506], [...</td>\n",
       "      <td>[{'value': 2970.0807760737507, 'variety': {}, ...</td>\n",
       "      <td>6.525776</td>\n",
       "      <td>[2019]</td>\n",
       "      <td>[hass, fuerte, zutano]</td>\n",
       "      <td>[{'level_name': 'empresa', 'name': 'agricola c...</td>\n",
       "      <td>90222</td>\n",
       "      <td>lote AGRICOLA CHAPI.DON ERNESTO.PAL-2.55</td>\n",
       "      <td>AGRICOLA CHAPI.DON ERNESTO.PAL-2.55</td>\n",
       "    </tr>\n",
       "    <tr>\n",
       "      <th>8</th>\n",
       "      <td>Feature</td>\n",
       "      <td>Polygon</td>\n",
       "      <td>[[[-75.64031869971863, -14.206095306337506], [...</td>\n",
       "      <td>[{'value': 4789.354613313465, 'variety': {}, '...</td>\n",
       "      <td>6.561207</td>\n",
       "      <td>[2019]</td>\n",
       "      <td>[hass, fuerte, zutano]</td>\n",
       "      <td>[{'level_name': 'empresa', 'name': 'agricola c...</td>\n",
       "      <td>90224</td>\n",
       "      <td>lote AGRICOLA CHAPI.DON ERNESTO.PAL-3.60</td>\n",
       "      <td>AGRICOLA CHAPI.DON ERNESTO.PAL-3.60</td>\n",
       "    </tr>\n",
       "    <tr>\n",
       "      <th>9</th>\n",
       "      <td>Feature</td>\n",
       "      <td>Polygon</td>\n",
       "      <td>[[[-75.64298986878343, -14.20702879053244], [-...</td>\n",
       "      <td>[{'value': 4222.732171703558, 'variety': {}, '...</td>\n",
       "      <td>6.569781</td>\n",
       "      <td>[2019]</td>\n",
       "      <td>[hass, fuerte, zutano]</td>\n",
       "      <td>[{'level_name': 'empresa', 'name': 'agricola c...</td>\n",
       "      <td>90225</td>\n",
       "      <td>lote AGRICOLA CHAPI.DON ERNESTO.PAL-3.61</td>\n",
       "      <td>AGRICOLA CHAPI.DON ERNESTO.PAL-3.61</td>\n",
       "    </tr>\n",
       "    <tr>\n",
       "      <th>10</th>\n",
       "      <td>Feature</td>\n",
       "      <td>Polygon</td>\n",
       "      <td>[[[-75.63632248518424, -14.208809605114135], [...</td>\n",
       "      <td>[{'value': 6276.873684788184, 'variety': {}, '...</td>\n",
       "      <td>6.500289</td>\n",
       "      <td>[2019]</td>\n",
       "      <td>[hass, fuerte, zutano]</td>\n",
       "      <td>[{'level_name': 'empresa', 'name': 'agricola c...</td>\n",
       "      <td>90227</td>\n",
       "      <td>lote AGRICOLA CHAPI.DON ERNESTO.PAL-4.66</td>\n",
       "      <td>AGRICOLA CHAPI.DON ERNESTO.PAL-4.66</td>\n",
       "    </tr>\n",
       "    <tr>\n",
       "      <th>11</th>\n",
       "      <td>Feature</td>\n",
       "      <td>Polygon</td>\n",
       "      <td>[[[-75.63898670766262, -14.209739586312066], [...</td>\n",
       "      <td>[{'value': 5119.125264626776, 'variety': {}, '...</td>\n",
       "      <td>6.536344</td>\n",
       "      <td>[2019]</td>\n",
       "      <td>[hass, fuerte, zutano]</td>\n",
       "      <td>[{'level_name': 'empresa', 'name': 'agricola c...</td>\n",
       "      <td>90228</td>\n",
       "      <td>lote AGRICOLA CHAPI.DON ERNESTO.PAL-4.67</td>\n",
       "      <td>AGRICOLA CHAPI.DON ERNESTO.PAL-4.67</td>\n",
       "    </tr>\n",
       "    <tr>\n",
       "      <th>12</th>\n",
       "      <td>Feature</td>\n",
       "      <td>Polygon</td>\n",
       "      <td>[[[-75.63565550101005, -14.210630908493748], [...</td>\n",
       "      <td>[{'value': 5492.066598919182, 'variety': {}, '...</td>\n",
       "      <td>6.529297</td>\n",
       "      <td>[2019]</td>\n",
       "      <td>[hass, fuerte, zutano]</td>\n",
       "      <td>[{'level_name': 'empresa', 'name': 'agricola c...</td>\n",
       "      <td>90229</td>\n",
       "      <td>lote AGRICOLA CHAPI.DON ERNESTO.PAL-4.72</td>\n",
       "      <td>AGRICOLA CHAPI.DON ERNESTO.PAL-4.72</td>\n",
       "    </tr>\n",
       "    <tr>\n",
       "      <th>13</th>\n",
       "      <td>Feature</td>\n",
       "      <td>Polygon</td>\n",
       "      <td>[[[-75.63832148728072, -14.211559560260621], [...</td>\n",
       "      <td>[{'value': 5500.603222883152, 'variety': {}, '...</td>\n",
       "      <td>6.548133</td>\n",
       "      <td>[2019]</td>\n",
       "      <td>[hass, fuerte, zutano]</td>\n",
       "      <td>[{'level_name': 'empresa', 'name': 'agricola c...</td>\n",
       "      <td>90230</td>\n",
       "      <td>lote AGRICOLA CHAPI.DON ERNESTO.PAL-4.73</td>\n",
       "      <td>AGRICOLA CHAPI.DON ERNESTO.PAL-4.73</td>\n",
       "    </tr>\n",
       "    <tr>\n",
       "      <th>14</th>\n",
       "      <td>Feature</td>\n",
       "      <td>Polygon</td>\n",
       "      <td>[[[-75.63498773608408, -14.212454314475199], [...</td>\n",
       "      <td>[{'value': 5779.100809810456, 'variety': {}, '...</td>\n",
       "      <td>6.544873</td>\n",
       "      <td>[2019]</td>\n",
       "      <td>[hass, fuerte, zutano]</td>\n",
       "      <td>[{'level_name': 'empresa', 'name': 'agricola c...</td>\n",
       "      <td>90231</td>\n",
       "      <td>lote AGRICOLA CHAPI.DON ERNESTO.PAL-4.78</td>\n",
       "      <td>AGRICOLA CHAPI.DON ERNESTO.PAL-4.78</td>\n",
       "    </tr>\n",
       "    <tr>\n",
       "      <th>15</th>\n",
       "      <td>Feature</td>\n",
       "      <td>Polygon</td>\n",
       "      <td>[[[-75.63765440850564, -14.213384589206255], [...</td>\n",
       "      <td>[{'value': 5194.8620884443, 'variety': {}, 'me...</td>\n",
       "      <td>6.575069</td>\n",
       "      <td>[2019]</td>\n",
       "      <td>[hass, fuerte, zutano]</td>\n",
       "      <td>[{'level_name': 'empresa', 'name': 'agricola c...</td>\n",
       "      <td>90232</td>\n",
       "      <td>lote AGRICOLA CHAPI.DON ERNESTO.PAL-4.79</td>\n",
       "      <td>AGRICOLA CHAPI.DON ERNESTO.PAL-4.79</td>\n",
       "    </tr>\n",
       "    <tr>\n",
       "      <th>16</th>\n",
       "      <td>Feature</td>\n",
       "      <td>Polygon</td>\n",
       "      <td>[[[-75.63765440850564, -14.213384589206255], [...</td>\n",
       "      <td>[{'value': 5348.496340542419, 'variety': {}, '...</td>\n",
       "      <td>6.304632</td>\n",
       "      <td>[2019]</td>\n",
       "      <td>[hass, fuerte, zutano]</td>\n",
       "      <td>[{'level_name': 'empresa', 'name': 'agricola c...</td>\n",
       "      <td>90233</td>\n",
       "      <td>lote AGRICOLA CHAPI.DON ERNESTO.PAL-4.84</td>\n",
       "      <td>AGRICOLA CHAPI.DON ERNESTO.PAL-4.84</td>\n",
       "    </tr>\n",
       "    <tr>\n",
       "      <th>17</th>\n",
       "      <td>Feature</td>\n",
       "      <td>Polygon</td>\n",
       "      <td>[[[-75.64033173320622, -14.214318541860234], [...</td>\n",
       "      <td>[{'value': 5390.6656650079785, 'variety': {}, ...</td>\n",
       "      <td>6.333013</td>\n",
       "      <td>[2019]</td>\n",
       "      <td>[hass, fuerte, zutano]</td>\n",
       "      <td>[{'level_name': 'empresa', 'name': 'agricola c...</td>\n",
       "      <td>90234</td>\n",
       "      <td>lote AGRICOLA CHAPI.DON ERNESTO.PAL-4.85</td>\n",
       "      <td>AGRICOLA CHAPI.DON ERNESTO.PAL-4.85</td>\n",
       "    </tr>\n",
       "    <tr>\n",
       "      <th>18</th>\n",
       "      <td>Feature</td>\n",
       "      <td>Polygon</td>\n",
       "      <td>[[[-75.64434649855319, -14.19514832766311], [-...</td>\n",
       "      <td>[{'value': 4245.59610452465, 'variety': {}, 'm...</td>\n",
       "      <td>6.372246</td>\n",
       "      <td>[2019]</td>\n",
       "      <td>[hass, fuerte, zutano]</td>\n",
       "      <td>[{'level_name': 'empresa', 'name': 'agricola c...</td>\n",
       "      <td>90250</td>\n",
       "      <td>lote AGRICOLA CHAPI.DON ERNESTO.PAL-5.19</td>\n",
       "      <td>AGRICOLA CHAPI.DON ERNESTO.PAL-5.19</td>\n",
       "    </tr>\n",
       "    <tr>\n",
       "      <th>19</th>\n",
       "      <td>Feature</td>\n",
       "      <td>Polygon</td>\n",
       "      <td>[[[-75.6523179645351, -14.19796021341869], [-7...</td>\n",
       "      <td>[{'value': 4589.172339437979, 'variety': {}, '...</td>\n",
       "      <td>6.302315</td>\n",
       "      <td>[2019]</td>\n",
       "      <td>[hass, fuerte, zutano]</td>\n",
       "      <td>[{'level_name': 'empresa', 'name': 'agricola c...</td>\n",
       "      <td>90251</td>\n",
       "      <td>lote AGRICOLA CHAPI.DON ERNESTO.PAL-5.27</td>\n",
       "      <td>AGRICOLA CHAPI.DON ERNESTO.PAL-5.27</td>\n",
       "    </tr>\n",
       "    <tr>\n",
       "      <th>20</th>\n",
       "      <td>Feature</td>\n",
       "      <td>Polygon</td>\n",
       "      <td>[[[-75.64364239237688, -14.19694295233761], [-...</td>\n",
       "      <td>[{'value': 4703.701322623691, 'variety': {}, '...</td>\n",
       "      <td>6.355310</td>\n",
       "      <td>[2019]</td>\n",
       "      <td>[hass, fuerte, zutano]</td>\n",
       "      <td>[{'level_name': 'empresa', 'name': 'agricola c...</td>\n",
       "      <td>90246</td>\n",
       "      <td>lote AGRICOLA CHAPI.DON ERNESTO.PAL-5.30</td>\n",
       "      <td>AGRICOLA CHAPI.DON ERNESTO.PAL-5.30</td>\n",
       "    </tr>\n",
       "    <tr>\n",
       "      <th>21</th>\n",
       "      <td>Feature</td>\n",
       "      <td>Polygon</td>\n",
       "      <td>[[[-75.64632350714204, -14.197881148780363], [...</td>\n",
       "      <td>[{'value': 4719.9518967964505, 'variety': {}, ...</td>\n",
       "      <td>6.330826</td>\n",
       "      <td>[2019]</td>\n",
       "      <td>[hass, fuerte, zutano]</td>\n",
       "      <td>[{'level_name': 'empresa', 'name': 'agricola c...</td>\n",
       "      <td>90247</td>\n",
       "      <td>lote AGRICOLA CHAPI.DON ERNESTO.PAL-5.31</td>\n",
       "      <td>AGRICOLA CHAPI.DON ERNESTO.PAL-5.31</td>\n",
       "    </tr>\n",
       "    <tr>\n",
       "      <th>22</th>\n",
       "      <td>Feature</td>\n",
       "      <td>Polygon</td>\n",
       "      <td>[[[-75.65166673445216, -14.19973524297276], [-...</td>\n",
       "      <td>[{'value': 5116.360841332233, 'variety': {}, '...</td>\n",
       "      <td>6.287884</td>\n",
       "      <td>[2019]</td>\n",
       "      <td>[hass, fuerte, zutano]</td>\n",
       "      <td>[{'level_name': 'empresa', 'name': 'agricola c...</td>\n",
       "      <td>90248</td>\n",
       "      <td>lote AGRICOLA CHAPI.DON ERNESTO.PAL-5.33</td>\n",
       "      <td>AGRICOLA CHAPI.DON ERNESTO.PAL-5.33</td>\n",
       "    </tr>\n",
       "    <tr>\n",
       "      <th>23</th>\n",
       "      <td>Feature</td>\n",
       "      <td>Polygon</td>\n",
       "      <td>[[[-75.64497315728985, -14.193291049214046], [...</td>\n",
       "      <td>[{'value': 537.1202632311536, 'variety': {}, '...</td>\n",
       "      <td>6.237954</td>\n",
       "      <td>[2019]</td>\n",
       "      <td>[hass, fuerte, zutano]</td>\n",
       "      <td>[{'level_name': 'empresa', 'name': 'agricola c...</td>\n",
       "      <td>90236</td>\n",
       "      <td>lote AGRICOLA CHAPI.DON ERNESTO.PAL-6.13</td>\n",
       "      <td>AGRICOLA CHAPI.DON ERNESTO.PAL-6.13</td>\n",
       "    </tr>\n",
       "    <tr>\n",
       "      <th>24</th>\n",
       "      <td>Feature</td>\n",
       "      <td>Polygon</td>\n",
       "      <td>[[[-75.64769678112165, -14.194238756458473], [...</td>\n",
       "      <td>[{'value': 758.980571201504, 'variety': {}, 'm...</td>\n",
       "      <td>6.226690</td>\n",
       "      <td>[2019]</td>\n",
       "      <td>[hass, fuerte, zutano]</td>\n",
       "      <td>[{'level_name': 'empresa', 'name': 'agricola c...</td>\n",
       "      <td>90237</td>\n",
       "      <td>lote AGRICOLA CHAPI.DON ERNESTO.PAL-6.14</td>\n",
       "      <td>AGRICOLA CHAPI.DON ERNESTO.PAL-6.14</td>\n",
       "    </tr>\n",
       "    <tr>\n",
       "      <th>25</th>\n",
       "      <td>Feature</td>\n",
       "      <td>Polygon</td>\n",
       "      <td>[[[-75.6503776656775, -14.195171553670908], [-...</td>\n",
       "      <td>[{'value': 791.561625424644, 'variety': {}, 'm...</td>\n",
       "      <td>6.191944</td>\n",
       "      <td>[2019]</td>\n",
       "      <td>[hass, fuerte, zutano]</td>\n",
       "      <td>[{'level_name': 'empresa', 'name': 'agricola c...</td>\n",
       "      <td>90238</td>\n",
       "      <td>lote AGRICOLA CHAPI.DON ERNESTO.PAL-6.15</td>\n",
       "      <td>AGRICOLA CHAPI.DON ERNESTO.PAL-6.15</td>\n",
       "    </tr>\n",
       "    <tr>\n",
       "      <th>26</th>\n",
       "      <td>Feature</td>\n",
       "      <td>Polygon</td>\n",
       "      <td>[[[-75.64166749773169, -14.194213164268845], [...</td>\n",
       "      <td>[{'value': 767.2799291882275, 'variety': {}, '...</td>\n",
       "      <td>6.334700</td>\n",
       "      <td>[2019]</td>\n",
       "      <td>[hass, fuerte, zutano]</td>\n",
       "      <td>[{'level_name': 'empresa', 'name': 'agricola c...</td>\n",
       "      <td>90239</td>\n",
       "      <td>lote AGRICOLA CHAPI.DON ERNESTO.PAL-6.18</td>\n",
       "      <td>AGRICOLA CHAPI.DON ERNESTO.PAL-6.18</td>\n",
       "    </tr>\n",
       "    <tr>\n",
       "      <th>27</th>\n",
       "      <td>Feature</td>\n",
       "      <td>Polygon</td>\n",
       "      <td>[[[-75.64701007809187, -14.196107720636288], [...</td>\n",
       "      <td>[{'value': 1474.8459764210165, 'variety': {}, ...</td>\n",
       "      <td>6.469184</td>\n",
       "      <td>[2019]</td>\n",
       "      <td>[hass, fuerte, zutano]</td>\n",
       "      <td>[{'level_name': 'empresa', 'name': 'agricola c...</td>\n",
       "      <td>90240</td>\n",
       "      <td>lote AGRICOLA CHAPI.DON ERNESTO.PAL-6.20</td>\n",
       "      <td>AGRICOLA CHAPI.DON ERNESTO.PAL-6.20</td>\n",
       "    </tr>\n",
       "    <tr>\n",
       "      <th>28</th>\n",
       "      <td>Feature</td>\n",
       "      <td>Polygon</td>\n",
       "      <td>[[[-75.64968970670726, -14.19704295019232], [-...</td>\n",
       "      <td>[{'value': 920.4547379474349, 'variety': {}, '...</td>\n",
       "      <td>6.448333</td>\n",
       "      <td>[2019]</td>\n",
       "      <td>[hass, fuerte, zutano]</td>\n",
       "      <td>[{'level_name': 'empresa', 'name': 'agricola c...</td>\n",
       "      <td>90241</td>\n",
       "      <td>lote AGRICOLA CHAPI.DON ERNESTO.PAL-6.21</td>\n",
       "      <td>AGRICOLA CHAPI.DON ERNESTO.PAL-6.21</td>\n",
       "    </tr>\n",
       "    <tr>\n",
       "      <th>29</th>\n",
       "      <td>Feature</td>\n",
       "      <td>Polygon</td>\n",
       "      <td>[[[-75.64430202199843, -14.195132802468311], [...</td>\n",
       "      <td>[{'value': 746.8765918999529, 'variety': {}, '...</td>\n",
       "      <td>6.423636</td>\n",
       "      <td>[2019]</td>\n",
       "      <td>[hass, fuerte, zutano]</td>\n",
       "      <td>[{'level_name': 'empresa', 'name': 'agricola c...</td>\n",
       "      <td>90242</td>\n",
       "      <td>lote AGRICOLA CHAPI.DON ERNESTO.PAL-6.24</td>\n",
       "      <td>AGRICOLA CHAPI.DON ERNESTO.PAL-6.24</td>\n",
       "    </tr>\n",
       "    <tr>\n",
       "      <th>30</th>\n",
       "      <td>Feature</td>\n",
       "      <td>Polygon</td>\n",
       "      <td>[[[-75.6469826482682, -14.196068495618299], [-...</td>\n",
       "      <td>[{'value': 1808.8183141168263, 'variety': {}, ...</td>\n",
       "      <td>6.423337</td>\n",
       "      <td>[2019]</td>\n",
       "      <td>[hass, fuerte, zutano]</td>\n",
       "      <td>[{'level_name': 'empresa', 'name': 'agricola c...</td>\n",
       "      <td>90243</td>\n",
       "      <td>lote AGRICOLA CHAPI.DON ERNESTO.PAL-6.25</td>\n",
       "      <td>AGRICOLA CHAPI.DON ERNESTO.PAL-6.25</td>\n",
       "    </tr>\n",
       "    <tr>\n",
       "      <th>31</th>\n",
       "      <td>Feature</td>\n",
       "      <td>Polygon</td>\n",
       "      <td>[[[-75.64964409685477, -14.19702703200722], [-...</td>\n",
       "      <td>[{'value': 1151.5213313888864, 'variety': {}, ...</td>\n",
       "      <td>6.329574</td>\n",
       "      <td>[2019]</td>\n",
       "      <td>[hass, fuerte, zutano]</td>\n",
       "      <td>[{'level_name': 'empresa', 'name': 'agricola c...</td>\n",
       "      <td>90244</td>\n",
       "      <td>lote AGRICOLA CHAPI.DON ERNESTO.PAL-6.26</td>\n",
       "      <td>AGRICOLA CHAPI.DON ERNESTO.PAL-6.26</td>\n",
       "    </tr>\n",
       "    <tr>\n",
       "      <th>32</th>\n",
       "      <td>Feature</td>\n",
       "      <td>Polygon</td>\n",
       "      <td>[[[-75.64898805011781, -14.198813508297691], [...</td>\n",
       "      <td>[{'value': 755.4045733546169, 'variety': {}, '...</td>\n",
       "      <td>6.302737</td>\n",
       "      <td>[2019]</td>\n",
       "      <td>[hass, fuerte, zutano]</td>\n",
       "      <td>[{'level_name': 'empresa', 'name': 'agricola c...</td>\n",
       "      <td>90249</td>\n",
       "      <td>lote AGRICOLA CHAPI.DON ERNESTO.PAL-6.32</td>\n",
       "      <td>AGRICOLA CHAPI.DON ERNESTO.PAL-6.32</td>\n",
       "    </tr>\n",
       "  </tbody>\n",
       "</table>\n",
       "</div>"
      ],
      "text/plain": [
       "       type geometry.type                               geometry.coordinates  \\\n",
       "0   Feature       Polygon  [[[-75.6396578867764, -14.199701335951724], [-...   \n",
       "1   Feature       Polygon  [[[-75.64231663022875, -14.20062882414364], [-...   \n",
       "2   Feature       Polygon  [[[-75.63898926117189, -14.201527268326426], [...   \n",
       "3   Feature       Polygon  [[[-75.64164955317383, -14.202454024468352], [...   \n",
       "4   Feature       Polygon  [[[-75.64164955317383, -14.202454024468352], [...   \n",
       "5   Feature       Polygon  [[[-75.64431888131925, -14.203383890611855], [...   \n",
       "6   Feature       Polygon  [[[-75.63765710540375, -14.20516513033943], [-...   \n",
       "7   Feature       Polygon  [[[-75.64031869971863, -14.206095306337506], [...   \n",
       "8   Feature       Polygon  [[[-75.64031869971863, -14.206095306337506], [...   \n",
       "9   Feature       Polygon  [[[-75.64298986878343, -14.20702879053244], [-...   \n",
       "10  Feature       Polygon  [[[-75.63632248518424, -14.208809605114135], [...   \n",
       "11  Feature       Polygon  [[[-75.63898670766262, -14.209739586312066], [...   \n",
       "12  Feature       Polygon  [[[-75.63565550101005, -14.210630908493748], [...   \n",
       "13  Feature       Polygon  [[[-75.63832148728072, -14.211559560260621], [...   \n",
       "14  Feature       Polygon  [[[-75.63498773608408, -14.212454314475199], [...   \n",
       "15  Feature       Polygon  [[[-75.63765440850564, -14.213384589206255], [...   \n",
       "16  Feature       Polygon  [[[-75.63765440850564, -14.213384589206255], [...   \n",
       "17  Feature       Polygon  [[[-75.64033173320622, -14.214318541860234], [...   \n",
       "18  Feature       Polygon  [[[-75.64434649855319, -14.19514832766311], [-...   \n",
       "19  Feature       Polygon  [[[-75.6523179645351, -14.19796021341869], [-7...   \n",
       "20  Feature       Polygon  [[[-75.64364239237688, -14.19694295233761], [-...   \n",
       "21  Feature       Polygon  [[[-75.64632350714204, -14.197881148780363], [...   \n",
       "22  Feature       Polygon  [[[-75.65166673445216, -14.19973524297276], [-...   \n",
       "23  Feature       Polygon  [[[-75.64497315728985, -14.193291049214046], [...   \n",
       "24  Feature       Polygon  [[[-75.64769678112165, -14.194238756458473], [...   \n",
       "25  Feature       Polygon  [[[-75.6503776656775, -14.195171553670908], [-...   \n",
       "26  Feature       Polygon  [[[-75.64166749773169, -14.194213164268845], [...   \n",
       "27  Feature       Polygon  [[[-75.64701007809187, -14.196107720636288], [...   \n",
       "28  Feature       Polygon  [[[-75.64968970670726, -14.19704295019232], [-...   \n",
       "29  Feature       Polygon  [[[-75.64430202199843, -14.195132802468311], [...   \n",
       "30  Feature       Polygon  [[[-75.6469826482682, -14.196068495618299], [-...   \n",
       "31  Feature       Polygon  [[[-75.64964409685477, -14.19702703200722], [-...   \n",
       "32  Feature       Polygon  [[[-75.64898805011781, -14.198813508297691], [...   \n",
       "\n",
       "                                    properties.values  \\\n",
       "0   [{'value': 3581.158766439885, 'variety': {}, '...   \n",
       "1   [{'value': 4037.3751791811173, 'variety': {}, ...   \n",
       "2   [{'value': 4658.420440484501, 'variety': {}, '...   \n",
       "3   [{'value': 4196.272165747293, 'variety': {}, '...   \n",
       "4   [{'value': 4744.580970357842, 'variety': {}, '...   \n",
       "5   [{'value': 4914.518933170159, 'variety': {}, '...   \n",
       "6   [{'value': 3081.5154889943, 'variety': {}, 'me...   \n",
       "7   [{'value': 2970.0807760737507, 'variety': {}, ...   \n",
       "8   [{'value': 4789.354613313465, 'variety': {}, '...   \n",
       "9   [{'value': 4222.732171703558, 'variety': {}, '...   \n",
       "10  [{'value': 6276.873684788184, 'variety': {}, '...   \n",
       "11  [{'value': 5119.125264626776, 'variety': {}, '...   \n",
       "12  [{'value': 5492.066598919182, 'variety': {}, '...   \n",
       "13  [{'value': 5500.603222883152, 'variety': {}, '...   \n",
       "14  [{'value': 5779.100809810456, 'variety': {}, '...   \n",
       "15  [{'value': 5194.8620884443, 'variety': {}, 'me...   \n",
       "16  [{'value': 5348.496340542419, 'variety': {}, '...   \n",
       "17  [{'value': 5390.6656650079785, 'variety': {}, ...   \n",
       "18  [{'value': 4245.59610452465, 'variety': {}, 'm...   \n",
       "19  [{'value': 4589.172339437979, 'variety': {}, '...   \n",
       "20  [{'value': 4703.701322623691, 'variety': {}, '...   \n",
       "21  [{'value': 4719.9518967964505, 'variety': {}, ...   \n",
       "22  [{'value': 5116.360841332233, 'variety': {}, '...   \n",
       "23  [{'value': 537.1202632311536, 'variety': {}, '...   \n",
       "24  [{'value': 758.980571201504, 'variety': {}, 'm...   \n",
       "25  [{'value': 791.561625424644, 'variety': {}, 'm...   \n",
       "26  [{'value': 767.2799291882275, 'variety': {}, '...   \n",
       "27  [{'value': 1474.8459764210165, 'variety': {}, ...   \n",
       "28  [{'value': 920.4547379474349, 'variety': {}, '...   \n",
       "29  [{'value': 746.8765918999529, 'variety': {}, '...   \n",
       "30  [{'value': 1808.8183141168263, 'variety': {}, ...   \n",
       "31  [{'value': 1151.5213313888864, 'variety': {}, ...   \n",
       "32  [{'value': 755.4045733546169, 'variety': {}, '...   \n",
       "\n",
       "    properties.unit.state.area properties.unit.state.year_of_planting  \\\n",
       "0                     6.530601                                 [2019]   \n",
       "1                     6.555069                                 [2019]   \n",
       "2                     6.533254                                 [2019]   \n",
       "3                     6.551013                                 [2019]   \n",
       "4                     6.534646                                 [2019]   \n",
       "5                     6.562506                                 [2019]   \n",
       "6                     6.498691                                 [2019]   \n",
       "7                     6.525776                                 [2019]   \n",
       "8                     6.561207                                 [2019]   \n",
       "9                     6.569781                                 [2019]   \n",
       "10                    6.500289                                 [2019]   \n",
       "11                    6.536344                                 [2019]   \n",
       "12                    6.529297                                 [2019]   \n",
       "13                    6.548133                                 [2019]   \n",
       "14                    6.544873                                 [2019]   \n",
       "15                    6.575069                                 [2019]   \n",
       "16                    6.304632                                 [2019]   \n",
       "17                    6.333013                                 [2019]   \n",
       "18                    6.372246                                 [2019]   \n",
       "19                    6.302315                                 [2019]   \n",
       "20                    6.355310                                 [2019]   \n",
       "21                    6.330826                                 [2019]   \n",
       "22                    6.287884                                 [2019]   \n",
       "23                    6.237954                                 [2019]   \n",
       "24                    6.226690                                 [2019]   \n",
       "25                    6.191944                                 [2019]   \n",
       "26                    6.334700                                 [2019]   \n",
       "27                    6.469184                                 [2019]   \n",
       "28                    6.448333                                 [2019]   \n",
       "29                    6.423636                                 [2019]   \n",
       "30                    6.423337                                 [2019]   \n",
       "31                    6.329574                                 [2019]   \n",
       "32                    6.302737                                 [2019]   \n",
       "\n",
       "   properties.unit.state.variety  \\\n",
       "0         [hass, fuerte, zutano]   \n",
       "1         [hass, fuerte, zutano]   \n",
       "2         [hass, fuerte, zutano]   \n",
       "3         [hass, fuerte, zutano]   \n",
       "4         [hass, fuerte, zutano]   \n",
       "5         [hass, fuerte, zutano]   \n",
       "6         [hass, fuerte, zutano]   \n",
       "7         [hass, fuerte, zutano]   \n",
       "8         [hass, fuerte, zutano]   \n",
       "9         [hass, fuerte, zutano]   \n",
       "10        [hass, fuerte, zutano]   \n",
       "11        [hass, fuerte, zutano]   \n",
       "12        [hass, fuerte, zutano]   \n",
       "13        [hass, fuerte, zutano]   \n",
       "14        [hass, fuerte, zutano]   \n",
       "15        [hass, fuerte, zutano]   \n",
       "16        [hass, fuerte, zutano]   \n",
       "17        [hass, fuerte, zutano]   \n",
       "18        [hass, fuerte, zutano]   \n",
       "19        [hass, fuerte, zutano]   \n",
       "20        [hass, fuerte, zutano]   \n",
       "21        [hass, fuerte, zutano]   \n",
       "22        [hass, fuerte, zutano]   \n",
       "23        [hass, fuerte, zutano]   \n",
       "24        [hass, fuerte, zutano]   \n",
       "25        [hass, fuerte, zutano]   \n",
       "26        [hass, fuerte, zutano]   \n",
       "27        [hass, fuerte, zutano]   \n",
       "28        [hass, fuerte, zutano]   \n",
       "29        [hass, fuerte, zutano]   \n",
       "30        [hass, fuerte, zutano]   \n",
       "31        [hass, fuerte, zutano]   \n",
       "32        [hass, fuerte, zutano]   \n",
       "\n",
       "                             properties.unit.metadata  properties.unit.id  \\\n",
       "0   [{'level_name': 'empresa', 'name': 'agricola c...               90214   \n",
       "1   [{'level_name': 'empresa', 'name': 'agricola c...               90215   \n",
       "2   [{'level_name': 'empresa', 'name': 'agricola c...               90216   \n",
       "3   [{'level_name': 'empresa', 'name': 'agricola c...               90217   \n",
       "4   [{'level_name': 'empresa', 'name': 'agricola c...               90218   \n",
       "5   [{'level_name': 'empresa', 'name': 'agricola c...               90219   \n",
       "6   [{'level_name': 'empresa', 'name': 'agricola c...               90221   \n",
       "7   [{'level_name': 'empresa', 'name': 'agricola c...               90222   \n",
       "8   [{'level_name': 'empresa', 'name': 'agricola c...               90224   \n",
       "9   [{'level_name': 'empresa', 'name': 'agricola c...               90225   \n",
       "10  [{'level_name': 'empresa', 'name': 'agricola c...               90227   \n",
       "11  [{'level_name': 'empresa', 'name': 'agricola c...               90228   \n",
       "12  [{'level_name': 'empresa', 'name': 'agricola c...               90229   \n",
       "13  [{'level_name': 'empresa', 'name': 'agricola c...               90230   \n",
       "14  [{'level_name': 'empresa', 'name': 'agricola c...               90231   \n",
       "15  [{'level_name': 'empresa', 'name': 'agricola c...               90232   \n",
       "16  [{'level_name': 'empresa', 'name': 'agricola c...               90233   \n",
       "17  [{'level_name': 'empresa', 'name': 'agricola c...               90234   \n",
       "18  [{'level_name': 'empresa', 'name': 'agricola c...               90250   \n",
       "19  [{'level_name': 'empresa', 'name': 'agricola c...               90251   \n",
       "20  [{'level_name': 'empresa', 'name': 'agricola c...               90246   \n",
       "21  [{'level_name': 'empresa', 'name': 'agricola c...               90247   \n",
       "22  [{'level_name': 'empresa', 'name': 'agricola c...               90248   \n",
       "23  [{'level_name': 'empresa', 'name': 'agricola c...               90236   \n",
       "24  [{'level_name': 'empresa', 'name': 'agricola c...               90237   \n",
       "25  [{'level_name': 'empresa', 'name': 'agricola c...               90238   \n",
       "26  [{'level_name': 'empresa', 'name': 'agricola c...               90239   \n",
       "27  [{'level_name': 'empresa', 'name': 'agricola c...               90240   \n",
       "28  [{'level_name': 'empresa', 'name': 'agricola c...               90241   \n",
       "29  [{'level_name': 'empresa', 'name': 'agricola c...               90242   \n",
       "30  [{'level_name': 'empresa', 'name': 'agricola c...               90243   \n",
       "31  [{'level_name': 'empresa', 'name': 'agricola c...               90244   \n",
       "32  [{'level_name': 'empresa', 'name': 'agricola c...               90249   \n",
       "\n",
       "                   properties.unit.full_name  \\\n",
       "0   lote AGRICOLA CHAPI.DON ERNESTO.PAL-1.36   \n",
       "1   lote AGRICOLA CHAPI.DON ERNESTO.PAL-1.37   \n",
       "2   lote AGRICOLA CHAPI.DON ERNESTO.PAL-1.42   \n",
       "3   lote AGRICOLA CHAPI.DON ERNESTO.PAL-1.43   \n",
       "4   lote AGRICOLA CHAPI.DON ERNESTO.PAL-1.48   \n",
       "5   lote AGRICOLA CHAPI.DON ERNESTO.PAL-1.49   \n",
       "6   lote AGRICOLA CHAPI.DON ERNESTO.PAL-2.54   \n",
       "7   lote AGRICOLA CHAPI.DON ERNESTO.PAL-2.55   \n",
       "8   lote AGRICOLA CHAPI.DON ERNESTO.PAL-3.60   \n",
       "9   lote AGRICOLA CHAPI.DON ERNESTO.PAL-3.61   \n",
       "10  lote AGRICOLA CHAPI.DON ERNESTO.PAL-4.66   \n",
       "11  lote AGRICOLA CHAPI.DON ERNESTO.PAL-4.67   \n",
       "12  lote AGRICOLA CHAPI.DON ERNESTO.PAL-4.72   \n",
       "13  lote AGRICOLA CHAPI.DON ERNESTO.PAL-4.73   \n",
       "14  lote AGRICOLA CHAPI.DON ERNESTO.PAL-4.78   \n",
       "15  lote AGRICOLA CHAPI.DON ERNESTO.PAL-4.79   \n",
       "16  lote AGRICOLA CHAPI.DON ERNESTO.PAL-4.84   \n",
       "17  lote AGRICOLA CHAPI.DON ERNESTO.PAL-4.85   \n",
       "18  lote AGRICOLA CHAPI.DON ERNESTO.PAL-5.19   \n",
       "19  lote AGRICOLA CHAPI.DON ERNESTO.PAL-5.27   \n",
       "20  lote AGRICOLA CHAPI.DON ERNESTO.PAL-5.30   \n",
       "21  lote AGRICOLA CHAPI.DON ERNESTO.PAL-5.31   \n",
       "22  lote AGRICOLA CHAPI.DON ERNESTO.PAL-5.33   \n",
       "23  lote AGRICOLA CHAPI.DON ERNESTO.PAL-6.13   \n",
       "24  lote AGRICOLA CHAPI.DON ERNESTO.PAL-6.14   \n",
       "25  lote AGRICOLA CHAPI.DON ERNESTO.PAL-6.15   \n",
       "26  lote AGRICOLA CHAPI.DON ERNESTO.PAL-6.18   \n",
       "27  lote AGRICOLA CHAPI.DON ERNESTO.PAL-6.20   \n",
       "28  lote AGRICOLA CHAPI.DON ERNESTO.PAL-6.21   \n",
       "29  lote AGRICOLA CHAPI.DON ERNESTO.PAL-6.24   \n",
       "30  lote AGRICOLA CHAPI.DON ERNESTO.PAL-6.25   \n",
       "31  lote AGRICOLA CHAPI.DON ERNESTO.PAL-6.26   \n",
       "32  lote AGRICOLA CHAPI.DON ERNESTO.PAL-6.32   \n",
       "\n",
       "                   properties.unit.name  \n",
       "0   AGRICOLA CHAPI.DON ERNESTO.PAL-1.36  \n",
       "1   AGRICOLA CHAPI.DON ERNESTO.PAL-1.37  \n",
       "2   AGRICOLA CHAPI.DON ERNESTO.PAL-1.42  \n",
       "3   AGRICOLA CHAPI.DON ERNESTO.PAL-1.43  \n",
       "4   AGRICOLA CHAPI.DON ERNESTO.PAL-1.48  \n",
       "5   AGRICOLA CHAPI.DON ERNESTO.PAL-1.49  \n",
       "6   AGRICOLA CHAPI.DON ERNESTO.PAL-2.54  \n",
       "7   AGRICOLA CHAPI.DON ERNESTO.PAL-2.55  \n",
       "8   AGRICOLA CHAPI.DON ERNESTO.PAL-3.60  \n",
       "9   AGRICOLA CHAPI.DON ERNESTO.PAL-3.61  \n",
       "10  AGRICOLA CHAPI.DON ERNESTO.PAL-4.66  \n",
       "11  AGRICOLA CHAPI.DON ERNESTO.PAL-4.67  \n",
       "12  AGRICOLA CHAPI.DON ERNESTO.PAL-4.72  \n",
       "13  AGRICOLA CHAPI.DON ERNESTO.PAL-4.73  \n",
       "14  AGRICOLA CHAPI.DON ERNESTO.PAL-4.78  \n",
       "15  AGRICOLA CHAPI.DON ERNESTO.PAL-4.79  \n",
       "16  AGRICOLA CHAPI.DON ERNESTO.PAL-4.84  \n",
       "17  AGRICOLA CHAPI.DON ERNESTO.PAL-4.85  \n",
       "18  AGRICOLA CHAPI.DON ERNESTO.PAL-5.19  \n",
       "19  AGRICOLA CHAPI.DON ERNESTO.PAL-5.27  \n",
       "20  AGRICOLA CHAPI.DON ERNESTO.PAL-5.30  \n",
       "21  AGRICOLA CHAPI.DON ERNESTO.PAL-5.31  \n",
       "22  AGRICOLA CHAPI.DON ERNESTO.PAL-5.33  \n",
       "23  AGRICOLA CHAPI.DON ERNESTO.PAL-6.13  \n",
       "24  AGRICOLA CHAPI.DON ERNESTO.PAL-6.14  \n",
       "25  AGRICOLA CHAPI.DON ERNESTO.PAL-6.15  \n",
       "26  AGRICOLA CHAPI.DON ERNESTO.PAL-6.18  \n",
       "27  AGRICOLA CHAPI.DON ERNESTO.PAL-6.20  \n",
       "28  AGRICOLA CHAPI.DON ERNESTO.PAL-6.21  \n",
       "29  AGRICOLA CHAPI.DON ERNESTO.PAL-6.24  \n",
       "30  AGRICOLA CHAPI.DON ERNESTO.PAL-6.25  \n",
       "31  AGRICOLA CHAPI.DON ERNESTO.PAL-6.26  \n",
       "32  AGRICOLA CHAPI.DON ERNESTO.PAL-6.32  "
      ]
     },
     "execution_count": 2,
     "metadata": {},
     "output_type": "execute_result"
    }
   ],
   "source": [
    "#Import json and convert into dataframe\n",
    "with open('inputs\\\\farm_map.json') as f:\n",
    "    data = json.load(f)\n",
    "df_data = json_normalize(data[\"features\"]) \n",
    "df_data"
   ]
  },
  {
   "cell_type": "code",
   "execution_count": null,
   "metadata": {},
   "outputs": [],
   "source": [
    "#Get important variables as columns\n",
    "df_data['Kg/Ha'] = df_data[\"properties.values\"].apply(lambda x: x[0][\"value\"])\n",
    "df_data['Kg/Ha_date'] = df_data[\"properties.values\"].apply(lambda x: x[0][\"date_stamp\"])"
   ]
  },
  {
   "cell_type": "code",
   "execution_count": 3,
   "metadata": {},
   "outputs": [
    {
     "data": {
      "text/html": [
       "<div>\n",
       "<style scoped>\n",
       "    .dataframe tbody tr th:only-of-type {\n",
       "        vertical-align: middle;\n",
       "    }\n",
       "\n",
       "    .dataframe tbody tr th {\n",
       "        vertical-align: top;\n",
       "    }\n",
       "\n",
       "    .dataframe thead th {\n",
       "        text-align: right;\n",
       "    }\n",
       "</style>\n",
       "<table border=\"1\" class=\"dataframe\">\n",
       "  <thead>\n",
       "    <tr style=\"text-align: right;\">\n",
       "      <th></th>\n",
       "      <th>id</th>\n",
       "      <th>farm</th>\n",
       "      <th>_date</th>\n",
       "      <th>_datetime_utc</th>\n",
       "      <th>validated</th>\n",
       "    </tr>\n",
       "  </thead>\n",
       "  <tbody>\n",
       "    <tr>\n",
       "      <th>88</th>\n",
       "      <td>8519</td>\n",
       "      <td>163</td>\n",
       "      <td>2016-07-15</td>\n",
       "      <td>2016-07-15 15:23:58</td>\n",
       "      <td>1</td>\n",
       "    </tr>\n",
       "    <tr>\n",
       "      <th>87</th>\n",
       "      <td>8518</td>\n",
       "      <td>163</td>\n",
       "      <td>2016-09-13</td>\n",
       "      <td>2016-09-13 15:26:48</td>\n",
       "      <td>1</td>\n",
       "    </tr>\n",
       "    <tr>\n",
       "      <th>86</th>\n",
       "      <td>8515</td>\n",
       "      <td>163</td>\n",
       "      <td>2016-11-22</td>\n",
       "      <td>2016-11-22 15:19:30</td>\n",
       "      <td>1</td>\n",
       "    </tr>\n",
       "    <tr>\n",
       "      <th>85</th>\n",
       "      <td>8514</td>\n",
       "      <td>163</td>\n",
       "      <td>2016-12-02</td>\n",
       "      <td>2016-12-02 15:21:03</td>\n",
       "      <td>1</td>\n",
       "    </tr>\n",
       "    <tr>\n",
       "      <th>84</th>\n",
       "      <td>8513</td>\n",
       "      <td>163</td>\n",
       "      <td>2016-12-22</td>\n",
       "      <td>2016-12-22 15:23:53</td>\n",
       "      <td>1</td>\n",
       "    </tr>\n",
       "    <tr>\n",
       "      <th>...</th>\n",
       "      <td>...</td>\n",
       "      <td>...</td>\n",
       "      <td>...</td>\n",
       "      <td>...</td>\n",
       "      <td>...</td>\n",
       "    </tr>\n",
       "    <tr>\n",
       "      <th>4</th>\n",
       "      <td>10946</td>\n",
       "      <td>163</td>\n",
       "      <td>2020-02-10</td>\n",
       "      <td>2020-02-10 15:26:52</td>\n",
       "      <td>1</td>\n",
       "    </tr>\n",
       "    <tr>\n",
       "      <th>3</th>\n",
       "      <td>11202</td>\n",
       "      <td>163</td>\n",
       "      <td>2020-02-15</td>\n",
       "      <td>2020-02-15 15:26:51</td>\n",
       "      <td>1</td>\n",
       "    </tr>\n",
       "    <tr>\n",
       "      <th>2</th>\n",
       "      <td>11899</td>\n",
       "      <td>163</td>\n",
       "      <td>2020-03-11</td>\n",
       "      <td>2020-03-11 15:26:55</td>\n",
       "      <td>1</td>\n",
       "    </tr>\n",
       "    <tr>\n",
       "      <th>1</th>\n",
       "      <td>13892</td>\n",
       "      <td>163</td>\n",
       "      <td>2020-04-15</td>\n",
       "      <td>2020-04-15 15:26:57</td>\n",
       "      <td>1</td>\n",
       "    </tr>\n",
       "    <tr>\n",
       "      <th>0</th>\n",
       "      <td>14180</td>\n",
       "      <td>163</td>\n",
       "      <td>2020-04-20</td>\n",
       "      <td>2020-04-20 15:26:52</td>\n",
       "      <td>1</td>\n",
       "    </tr>\n",
       "  </tbody>\n",
       "</table>\n",
       "<p>89 rows × 5 columns</p>\n",
       "</div>"
      ],
      "text/plain": [
       "       id  farm       _date        _datetime_utc  validated\n",
       "88   8519   163  2016-07-15  2016-07-15 15:23:58          1\n",
       "87   8518   163  2016-09-13  2016-09-13 15:26:48          1\n",
       "86   8515   163  2016-11-22  2016-11-22 15:19:30          1\n",
       "85   8514   163  2016-12-02  2016-12-02 15:21:03          1\n",
       "84   8513   163  2016-12-22  2016-12-22 15:23:53          1\n",
       "..    ...   ...         ...                  ...        ...\n",
       "4   10946   163  2020-02-10  2020-02-10 15:26:52          1\n",
       "3   11202   163  2020-02-15  2020-02-15 15:26:51          1\n",
       "2   11899   163  2020-03-11  2020-03-11 15:26:55          1\n",
       "1   13892   163  2020-04-15  2020-04-15 15:26:57          1\n",
       "0   14180   163  2020-04-20  2020-04-20 15:26:52          1\n",
       "\n",
       "[89 rows x 5 columns]"
      ]
     },
     "execution_count": 3,
     "metadata": {},
     "output_type": "execute_result"
    }
   ],
   "source": [
    "#Import dates excel\n",
    "df = pd.read_excel(\"inputs\\\\SentinelHubImage-available_dates.xlsx\")\n",
    "df = df.sort_values(\"_datetime_utc\", ascending = True)\n",
    "df"
   ]
  },
  {
   "cell_type": "markdown",
   "metadata": {},
   "source": [
    "# Data wrangling - format"
   ]
  },
  {
   "cell_type": "code",
   "execution_count": 4,
   "metadata": {},
   "outputs": [],
   "source": [
    "#Give the polygon coordinates BBox format and Geometry Url Polygon format\n",
    "#To check Polygon format: https://github.com/sentinel-hub/sentinelhub-py/issues/37\n",
    "def poly_to_format(x):\n",
    "    lons = []\n",
    "    lats = []\n",
    "    for i in x[0]:\n",
    "        lons += [i[0]]\n",
    "        lats += [i[1]]\n",
    "    \n",
    "    box = [max(lons), max(lats), min(lons), min(lats)]\n",
    "    \n",
    "    poly = \"POLYGON((\"\n",
    "    for lon, lat in zip(lons, lats):\n",
    "        lon_lat = str(lon) +\" \"+ str(lat) + \", \"\n",
    "        poly += lon_lat     \n",
    "    poly = poly[0:-2]\n",
    "    poly += \"))\"\n",
    "      \n",
    "    return(box, poly)   "
   ]
  },
  {
   "cell_type": "code",
   "execution_count": 5,
   "metadata": {},
   "outputs": [
    {
     "data": {
      "text/html": [
       "<div>\n",
       "<style scoped>\n",
       "    .dataframe tbody tr th:only-of-type {\n",
       "        vertical-align: middle;\n",
       "    }\n",
       "\n",
       "    .dataframe tbody tr th {\n",
       "        vertical-align: top;\n",
       "    }\n",
       "\n",
       "    .dataframe thead th {\n",
       "        text-align: right;\n",
       "    }\n",
       "</style>\n",
       "<table border=\"1\" class=\"dataframe\">\n",
       "  <thead>\n",
       "    <tr style=\"text-align: right;\">\n",
       "      <th></th>\n",
       "      <th>bbox_coordinates</th>\n",
       "      <th>poly_coordinates</th>\n",
       "    </tr>\n",
       "  </thead>\n",
       "  <tbody>\n",
       "    <tr>\n",
       "      <th>0</th>\n",
       "      <td>[-75.6396578867764, -14.197876401443217, -75.6...</td>\n",
       "      <td>POLYGON((-75.6396578867764 -14.199701335951724...</td>\n",
       "    </tr>\n",
       "    <tr>\n",
       "      <th>1</th>\n",
       "      <td>[-75.64231663022875, -14.198802571721302, -75....</td>\n",
       "      <td>POLYGON((-75.64231663022875 -14.20062882414364...</td>\n",
       "    </tr>\n",
       "    <tr>\n",
       "      <th>2</th>\n",
       "      <td>[-75.63898926117189, -14.199701335951724, -75....</td>\n",
       "      <td>POLYGON((-75.63898926117189 -14.20152726832642...</td>\n",
       "    </tr>\n",
       "    <tr>\n",
       "      <th>3</th>\n",
       "      <td>[-75.64164955317383, -14.20062882414364, -75.6...</td>\n",
       "      <td>POLYGON((-75.64164955317383 -14.20245402446835...</td>\n",
       "    </tr>\n",
       "    <tr>\n",
       "      <th>4</th>\n",
       "      <td>[-75.63832124398837, -14.201527268326426, -75....</td>\n",
       "      <td>POLYGON((-75.64164955317383 -14.20245402446835...</td>\n",
       "    </tr>\n",
       "    <tr>\n",
       "      <th>5</th>\n",
       "      <td>[-75.64098212423809, -14.202454024468352, -75....</td>\n",
       "      <td>POLYGON((-75.64431888131925 -14.20338389061185...</td>\n",
       "    </tr>\n",
       "    <tr>\n",
       "      <th>6</th>\n",
       "      <td>[-75.63765710540375, -14.203351509792409, -75....</td>\n",
       "      <td>POLYGON((-75.63765710540375 -14.20516513033943...</td>\n",
       "    </tr>\n",
       "    <tr>\n",
       "      <th>7</th>\n",
       "      <td>[-75.64031869971863, -14.20428015816881, -75.6...</td>\n",
       "      <td>POLYGON((-75.64031869971863 -14.20609530633750...</td>\n",
       "    </tr>\n",
       "    <tr>\n",
       "      <th>8</th>\n",
       "      <td>[-75.6369858615888, -14.20516513033943, -75.64...</td>\n",
       "      <td>POLYGON((-75.64031869971863 -14.20609530633750...</td>\n",
       "    </tr>\n",
       "    <tr>\n",
       "      <th>9</th>\n",
       "      <td>[-75.63965014888008, -14.206095306337506, -75....</td>\n",
       "      <td>POLYGON((-75.64298986878343 -14.20702879053244...</td>\n",
       "    </tr>\n",
       "    <tr>\n",
       "      <th>10</th>\n",
       "      <td>[-75.63632248518424, -14.206998124239671, -75....</td>\n",
       "      <td>POLYGON((-75.63632248518424 -14.20880960511413...</td>\n",
       "    </tr>\n",
       "    <tr>\n",
       "      <th>11</th>\n",
       "      <td>[-75.63898670766262, -14.207924450844159, -75....</td>\n",
       "      <td>POLYGON((-75.63898670766262 -14.20973958631206...</td>\n",
       "    </tr>\n",
       "    <tr>\n",
       "      <th>12</th>\n",
       "      <td>[-75.63565550101005, -14.208809605114135, -75....</td>\n",
       "      <td>POLYGON((-75.63565550101005 -14.21063090849374...</td>\n",
       "    </tr>\n",
       "    <tr>\n",
       "      <th>13</th>\n",
       "      <td>[-75.63832148728072, -14.209739586312066, -75....</td>\n",
       "      <td>POLYGON((-75.63832148728072 -14.21155956026062...</td>\n",
       "    </tr>\n",
       "    <tr>\n",
       "      <th>14</th>\n",
       "      <td>[-75.63498773608408, -14.210630908493748, -75....</td>\n",
       "      <td>POLYGON((-75.63498773608408 -14.21245431447519...</td>\n",
       "    </tr>\n",
       "    <tr>\n",
       "      <th>15</th>\n",
       "      <td>[-75.63765440850564, -14.211559560260621, -75....</td>\n",
       "      <td>POLYGON((-75.63765440850564 -14.21338458920625...</td>\n",
       "    </tr>\n",
       "    <tr>\n",
       "      <th>16</th>\n",
       "      <td>[-75.63434467014613, -14.212454314475199, -75....</td>\n",
       "      <td>POLYGON((-75.63765440850564 -14.21338458920625...</td>\n",
       "    </tr>\n",
       "    <tr>\n",
       "      <th>17</th>\n",
       "      <td>[-75.6370121373286, -14.213384589206255, -75.6...</td>\n",
       "      <td>POLYGON((-75.64033173320622 -14.21431854186023...</td>\n",
       "    </tr>\n",
       "    <tr>\n",
       "      <th>18</th>\n",
       "      <td>[-75.64434649855319, -14.193355636804679, -75....</td>\n",
       "      <td>POLYGON((-75.64434649855319 -14.19514832766311...</td>\n",
       "    </tr>\n",
       "    <tr>\n",
       "      <th>19</th>\n",
       "      <td>[-75.64903310741902, -14.19704295019232, -75.6...</td>\n",
       "      <td>POLYGON((-75.6523179645351 -14.19796021341869,...</td>\n",
       "    </tr>\n",
       "    <tr>\n",
       "      <th>20</th>\n",
       "      <td>[-75.64034854294998, -14.196024977214783, -75....</td>\n",
       "      <td>POLYGON((-75.64364239237688 -14.19694295233761...</td>\n",
       "    </tr>\n",
       "    <tr>\n",
       "      <th>21</th>\n",
       "      <td>[-75.64303695733564, -14.196958888817509, -75....</td>\n",
       "      <td>POLYGON((-75.64632350714204 -14.19788114878036...</td>\n",
       "    </tr>\n",
       "    <tr>\n",
       "      <th>22</th>\n",
       "      <td>[-75.64838136235278, -14.198829012819262, -75....</td>\n",
       "      <td>POLYGON((-75.65166673445216 -14.19973524297276...</td>\n",
       "    </tr>\n",
       "    <tr>\n",
       "      <th>23</th>\n",
       "      <td>[-75.64234056627969, -14.190610001340819, -75....</td>\n",
       "      <td>POLYGON((-75.64497315728985 -14.19329104921404...</td>\n",
       "    </tr>\n",
       "    <tr>\n",
       "      <th>24</th>\n",
       "      <td>[-75.64769678112165, -14.192480425330247, -75....</td>\n",
       "      <td>POLYGON((-75.64769678112165 -14.19423875645847...</td>\n",
       "    </tr>\n",
       "    <tr>\n",
       "      <th>25</th>\n",
       "      <td>[-75.6503776656775, -14.193419099501112, -75.6...</td>\n",
       "      <td>POLYGON((-75.6503776656775 -14.195171553670908...</td>\n",
       "    </tr>\n",
       "    <tr>\n",
       "      <th>26</th>\n",
       "      <td>[-75.64166749773169, -14.192429748404132, -75....</td>\n",
       "      <td>POLYGON((-75.64166749773169 -14.19421316426884...</td>\n",
       "    </tr>\n",
       "    <tr>\n",
       "      <th>27</th>\n",
       "      <td>[-75.64701007809187, -14.194282863638566, -75....</td>\n",
       "      <td>POLYGON((-75.64701007809187 -14.19610772063628...</td>\n",
       "    </tr>\n",
       "    <tr>\n",
       "      <th>28</th>\n",
       "      <td>[-75.64968970670726, -14.195219776748338, -75....</td>\n",
       "      <td>POLYGON((-75.64968970670726 -14.19704295019232...</td>\n",
       "    </tr>\n",
       "    <tr>\n",
       "      <th>29</th>\n",
       "      <td>[-75.64100407458932, -14.194213164268845, -75....</td>\n",
       "      <td>POLYGON((-75.64430202199843 -14.19513280246831...</td>\n",
       "    </tr>\n",
       "    <tr>\n",
       "      <th>30</th>\n",
       "      <td>[-75.64368793366349, -14.19514832766311, -75.6...</td>\n",
       "      <td>POLYGON((-75.6469826482682 -14.196068495618299...</td>\n",
       "    </tr>\n",
       "    <tr>\n",
       "      <th>31</th>\n",
       "      <td>[-75.6463550733476, -14.196107720636288, -75.6...</td>\n",
       "      <td>POLYGON((-75.64964409685477 -14.19702703200722...</td>\n",
       "    </tr>\n",
       "    <tr>\n",
       "      <th>32</th>\n",
       "      <td>[-75.64570305607081, -14.1978903845171, -75.64...</td>\n",
       "      <td>POLYGON((-75.64898805011781 -14.19881350829769...</td>\n",
       "    </tr>\n",
       "  </tbody>\n",
       "</table>\n",
       "</div>"
      ],
      "text/plain": [
       "                                     bbox_coordinates  \\\n",
       "0   [-75.6396578867764, -14.197876401443217, -75.6...   \n",
       "1   [-75.64231663022875, -14.198802571721302, -75....   \n",
       "2   [-75.63898926117189, -14.199701335951724, -75....   \n",
       "3   [-75.64164955317383, -14.20062882414364, -75.6...   \n",
       "4   [-75.63832124398837, -14.201527268326426, -75....   \n",
       "5   [-75.64098212423809, -14.202454024468352, -75....   \n",
       "6   [-75.63765710540375, -14.203351509792409, -75....   \n",
       "7   [-75.64031869971863, -14.20428015816881, -75.6...   \n",
       "8   [-75.6369858615888, -14.20516513033943, -75.64...   \n",
       "9   [-75.63965014888008, -14.206095306337506, -75....   \n",
       "10  [-75.63632248518424, -14.206998124239671, -75....   \n",
       "11  [-75.63898670766262, -14.207924450844159, -75....   \n",
       "12  [-75.63565550101005, -14.208809605114135, -75....   \n",
       "13  [-75.63832148728072, -14.209739586312066, -75....   \n",
       "14  [-75.63498773608408, -14.210630908493748, -75....   \n",
       "15  [-75.63765440850564, -14.211559560260621, -75....   \n",
       "16  [-75.63434467014613, -14.212454314475199, -75....   \n",
       "17  [-75.6370121373286, -14.213384589206255, -75.6...   \n",
       "18  [-75.64434649855319, -14.193355636804679, -75....   \n",
       "19  [-75.64903310741902, -14.19704295019232, -75.6...   \n",
       "20  [-75.64034854294998, -14.196024977214783, -75....   \n",
       "21  [-75.64303695733564, -14.196958888817509, -75....   \n",
       "22  [-75.64838136235278, -14.198829012819262, -75....   \n",
       "23  [-75.64234056627969, -14.190610001340819, -75....   \n",
       "24  [-75.64769678112165, -14.192480425330247, -75....   \n",
       "25  [-75.6503776656775, -14.193419099501112, -75.6...   \n",
       "26  [-75.64166749773169, -14.192429748404132, -75....   \n",
       "27  [-75.64701007809187, -14.194282863638566, -75....   \n",
       "28  [-75.64968970670726, -14.195219776748338, -75....   \n",
       "29  [-75.64100407458932, -14.194213164268845, -75....   \n",
       "30  [-75.64368793366349, -14.19514832766311, -75.6...   \n",
       "31  [-75.6463550733476, -14.196107720636288, -75.6...   \n",
       "32  [-75.64570305607081, -14.1978903845171, -75.64...   \n",
       "\n",
       "                                     poly_coordinates  \n",
       "0   POLYGON((-75.6396578867764 -14.199701335951724...  \n",
       "1   POLYGON((-75.64231663022875 -14.20062882414364...  \n",
       "2   POLYGON((-75.63898926117189 -14.20152726832642...  \n",
       "3   POLYGON((-75.64164955317383 -14.20245402446835...  \n",
       "4   POLYGON((-75.64164955317383 -14.20245402446835...  \n",
       "5   POLYGON((-75.64431888131925 -14.20338389061185...  \n",
       "6   POLYGON((-75.63765710540375 -14.20516513033943...  \n",
       "7   POLYGON((-75.64031869971863 -14.20609530633750...  \n",
       "8   POLYGON((-75.64031869971863 -14.20609530633750...  \n",
       "9   POLYGON((-75.64298986878343 -14.20702879053244...  \n",
       "10  POLYGON((-75.63632248518424 -14.20880960511413...  \n",
       "11  POLYGON((-75.63898670766262 -14.20973958631206...  \n",
       "12  POLYGON((-75.63565550101005 -14.21063090849374...  \n",
       "13  POLYGON((-75.63832148728072 -14.21155956026062...  \n",
       "14  POLYGON((-75.63498773608408 -14.21245431447519...  \n",
       "15  POLYGON((-75.63765440850564 -14.21338458920625...  \n",
       "16  POLYGON((-75.63765440850564 -14.21338458920625...  \n",
       "17  POLYGON((-75.64033173320622 -14.21431854186023...  \n",
       "18  POLYGON((-75.64434649855319 -14.19514832766311...  \n",
       "19  POLYGON((-75.6523179645351 -14.19796021341869,...  \n",
       "20  POLYGON((-75.64364239237688 -14.19694295233761...  \n",
       "21  POLYGON((-75.64632350714204 -14.19788114878036...  \n",
       "22  POLYGON((-75.65166673445216 -14.19973524297276...  \n",
       "23  POLYGON((-75.64497315728985 -14.19329104921404...  \n",
       "24  POLYGON((-75.64769678112165 -14.19423875645847...  \n",
       "25  POLYGON((-75.6503776656775 -14.195171553670908...  \n",
       "26  POLYGON((-75.64166749773169 -14.19421316426884...  \n",
       "27  POLYGON((-75.64701007809187 -14.19610772063628...  \n",
       "28  POLYGON((-75.64968970670726 -14.19704295019232...  \n",
       "29  POLYGON((-75.64430202199843 -14.19513280246831...  \n",
       "30  POLYGON((-75.6469826482682 -14.196068495618299...  \n",
       "31  POLYGON((-75.64964409685477 -14.19702703200722...  \n",
       "32  POLYGON((-75.64898805011781 -14.19881350829769...  "
      ]
     },
     "execution_count": 5,
     "metadata": {},
     "output_type": "execute_result"
    }
   ],
   "source": [
    "#Apply function to pass coordinates to BBox format and Polygon format\n",
    "df_data[\"bbox_coordinates\"] = df_data[\"geometry.coordinates\"].apply(lambda x: poly_to_format(x)[0])\n",
    "df_data[\"poly_coordinates\"] = df_data[\"geometry.coordinates\"].apply(lambda x: poly_to_format(x)[1])\n",
    "df_data[[\"bbox_coordinates\", \"poly_coordinates\"]]"
   ]
  },
  {
   "cell_type": "markdown",
   "metadata": {},
   "source": [
    "# Start with Sentinel"
   ]
  },
  {
   "cell_type": "code",
   "execution_count": 6,
   "metadata": {},
   "outputs": [],
   "source": [
    "#Open Sentinel instance\n",
    "INSTANCE_ID = '13c0b719-d307-47fe-9472-666ef2332582'  \n",
    "\n",
    "if INSTANCE_ID:\n",
    "    config = SHConfig()\n",
    "    config.instance_id = INSTANCE_ID\n",
    "else:\n",
    "    config = None\n"
   ]
  },
  {
   "cell_type": "code",
   "execution_count": 7,
   "metadata": {},
   "outputs": [],
   "source": [
    "#Get array and average NDVI for a specific space-time picture\n",
    "\n",
    "#NDVI layer calculation:\n",
    "#var ndvi = (B08-B04)/(B08+B04);\n",
    "#return [ndvi];\n",
    "\n",
    "def get_mean_NDVI(box, date, poly):\n",
    "    bbox = BBox(bbox=box, crs=CRS.WGS84)\n",
    "    #Request NDVI layer for 500 width TIFF_d32f image\n",
    "    NDVI_request = WmsRequest(\n",
    "        layer='NDVI',\n",
    "        bbox=bbox,\n",
    "        time=date,\n",
    "        width=500,\n",
    "        custom_url_params={\n",
    "                        CustomUrlParam.GEOMETRY: poly\n",
    "                        },\n",
    "        image_format = MimeType.TIFF_d32f,\n",
    "        config=config\n",
    "    )\n",
    "    NDVIs = NDVI_request.get_data()\n",
    "    #Create list with all NDVI values from image to calculate average\n",
    "    ndvis = []\n",
    "    for ndvi_list in NDVIs[0]:\n",
    "        for ndvi in ndvi_list:\n",
    "            #Ignore low values (not in field or damaged by clouds) and 1s (out of polygon)\n",
    "            if (ndvi>0.2) & (ndvi<1):\n",
    "                ndvis += [ndvi]\n",
    "    #Case for images with all NDVI low values an 1, return nan for average\n",
    "    if len(ndvis)>0:\n",
    "        NDVI = sum(ndvis) / len(ndvis)\n",
    "    else:\n",
    "        NDVI = np.nan\n",
    "        print(box, date)\n",
    "        \n",
    "    #Return image and average\n",
    "    return(NDVIs, NDVI)"
   ]
  },
  {
   "cell_type": "code",
   "execution_count": 8,
   "metadata": {},
   "outputs": [],
   "source": [
    "#Function for saving images\n",
    "\n",
    "def save_image(image, path, factor=1):\n",
    "    fig = plt.subplots(nrows=1, ncols=1, figsize=(15, 7))\n",
    "\n",
    "    if np.issubdtype(image.dtype, np.floating):\n",
    "        \n",
    "        plt.imshow(np.minimum(image * factor, 1))\n",
    "    else:\n",
    "        plt.imshow(image)\n",
    "    plt.savefig(path)\n",
    "    plt.close()"
   ]
  },
  {
   "cell_type": "code",
   "execution_count": 9,
   "metadata": {},
   "outputs": [
    {
     "data": {
      "application/vnd.jupyter.widget-view+json": {
       "model_id": "ed06b08955544024a0d5648e5a8d0cf8",
       "version_major": 2,
       "version_minor": 0
      },
      "text/plain": [
       "HBox(children=(FloatProgress(value=0.0, max=89.0), HTML(value='')))"
      ]
     },
     "metadata": {},
     "output_type": "display_data"
    },
    {
     "name": "stdout",
     "output_type": "stream",
     "text": [
      "2016-07-15\n"
     ]
    },
    {
     "data": {
      "application/vnd.jupyter.widget-view+json": {
       "model_id": "c3acd70d560f47ab9f7c7eac1d8376e3",
       "version_major": 2,
       "version_minor": 0
      },
      "text/plain": [
       "HBox(children=(FloatProgress(value=1.0, bar_style='info', max=1.0), HTML(value='')))"
      ]
     },
     "metadata": {},
     "output_type": "display_data"
    },
    {
     "name": "stdout",
     "output_type": "stream",
     "text": [
      "[-75.64769678112165, -14.192480425330247, -75.65097557981476, -14.19515473241042] 2016-07-15\n",
      "[-75.64166749773169, -14.192429748404132, -75.64495509648042, -14.195132802468311] 2016-07-15\n",
      "[-75.64100407458932, -14.194213164268845, -75.64430202199843, -14.19694295233761] 2016-07-15\n",
      "\n",
      "2016-09-13\n"
     ]
    },
    {
     "data": {
      "application/vnd.jupyter.widget-view+json": {
       "model_id": "5cd3969216ed4da0b910f019eae9f259",
       "version_major": 2,
       "version_minor": 0
      },
      "text/plain": [
       "HBox(children=(FloatProgress(value=1.0, bar_style='info', max=1.0), HTML(value='')))"
      ]
     },
     "metadata": {},
     "output_type": "display_data"
    },
    {
     "name": "stdout",
     "output_type": "stream",
     "text": [
      "[-75.64434649855319, -14.193355636804679, -75.64763941311051, -14.196068495618299] 2016-09-13\n",
      "[-75.64769678112165, -14.192480425330247, -75.65097557981476, -14.19515473241042] 2016-09-13\n",
      "[-75.64166749773169, -14.192429748404132, -75.64495509648042, -14.195132802468311] 2016-09-13\n",
      "[-75.64701007809187, -14.194282863638566, -75.65031370091558, -14.19702703200722] 2016-09-13\n",
      "[-75.64100407458932, -14.194213164268845, -75.64430202199843, -14.19694295233761] 2016-09-13\n",
      "[-75.64368793366349, -14.19514832766311, -75.6469826482682, -14.197881148780363] 2016-09-13\n",
      "\n",
      "2016-11-22\n"
     ]
    },
    {
     "data": {
      "application/vnd.jupyter.widget-view+json": {
       "model_id": "36efed37814c49f6b411d5f0ce3d0826",
       "version_major": 2,
       "version_minor": 0
      },
      "text/plain": [
       "HBox(children=(FloatProgress(value=1.0, bar_style='info', max=1.0), HTML(value='')))"
      ]
     },
     "metadata": {},
     "output_type": "display_data"
    },
    {
     "name": "stdout",
     "output_type": "stream",
     "text": [
      "[-75.64769678112165, -14.192480425330247, -75.65097557981476, -14.19515473241042] 2016-11-22\n",
      "[-75.64166749773169, -14.192429748404132, -75.64495509648042, -14.195132802468311] 2016-11-22\n",
      "[-75.64701007809187, -14.194282863638566, -75.65031370091558, -14.19702703200722] 2016-11-22\n",
      "[-75.64100407458932, -14.194213164268845, -75.64430202199843, -14.19694295233761] 2016-11-22\n",
      "[-75.64570305607081, -14.1978903845171, -75.64898805011781, -14.200586462611307] 2016-11-22\n",
      "\n",
      "2016-12-02\n"
     ]
    },
    {
     "data": {
      "application/vnd.jupyter.widget-view+json": {
       "model_id": "4ef108e2e123401b947e201148d187e2",
       "version_major": 2,
       "version_minor": 0
      },
      "text/plain": [
       "HBox(children=(FloatProgress(value=1.0, bar_style='info', max=1.0), HTML(value='')))"
      ]
     },
     "metadata": {},
     "output_type": "display_data"
    },
    {
     "name": "stdout",
     "output_type": "stream",
     "text": [
      "[-75.64234056627969, -14.190610001340819, -75.64561150025328, -14.193291049214046] 2016-12-02\n",
      "[-75.64166749773169, -14.192429748404132, -75.64495509648042, -14.195132802468311] 2016-12-02\n",
      "[-75.64701007809187, -14.194282863638566, -75.65031370091558, -14.19702703200722] 2016-12-02\n",
      "[-75.64100407458932, -14.194213164268845, -75.64430202199843, -14.19694295233761] 2016-12-02\n",
      "[-75.6463550733476, -14.196107720636288, -75.64964409685477, -14.198813508297691] 2016-12-02\n",
      "[-75.64570305607081, -14.1978903845171, -75.64898805011781, -14.200586462611307] 2016-12-02\n",
      "\n",
      "2016-12-22\n"
     ]
    },
    {
     "data": {
      "application/vnd.jupyter.widget-view+json": {
       "model_id": "c6be80a40dbd4265aa8ecc23def030e1",
       "version_major": 2,
       "version_minor": 0
      },
      "text/plain": [
       "HBox(children=(FloatProgress(value=1.0, bar_style='info', max=1.0), HTML(value='')))"
      ]
     },
     "metadata": {},
     "output_type": "display_data"
    },
    {
     "name": "stdout",
     "output_type": "stream",
     "text": [
      "[-75.64434649855319, -14.193355636804679, -75.64763941311051, -14.196068495618299] 2016-12-22\n",
      "[-75.64234056627969, -14.190610001340819, -75.64561150025328, -14.193291049214046] 2016-12-22\n",
      "[-75.64769678112165, -14.192480425330247, -75.65097557981476, -14.19515473241042] 2016-12-22\n",
      "[-75.64166749773169, -14.192429748404132, -75.64495509648042, -14.195132802468311] 2016-12-22\n",
      "[-75.64100407458932, -14.194213164268845, -75.64430202199843, -14.19694295233761] 2016-12-22\n",
      "[-75.64570305607081, -14.1978903845171, -75.64898805011781, -14.200586462611307] 2016-12-22\n",
      "\n",
      "2017-01-01\n"
     ]
    },
    {
     "data": {
      "application/vnd.jupyter.widget-view+json": {
       "model_id": "eecfe878f6e24c0797b96d15151e87fd",
       "version_major": 2,
       "version_minor": 0
      },
      "text/plain": [
       "HBox(children=(FloatProgress(value=1.0, bar_style='info', max=1.0), HTML(value='')))"
      ]
     },
     "metadata": {},
     "output_type": "display_data"
    },
    {
     "name": "stdout",
     "output_type": "stream",
     "text": [
      "[-75.64434649855319, -14.193355636804679, -75.64763941311051, -14.196068495618299] 2017-01-01\n",
      "[-75.64234056627969, -14.190610001340819, -75.64561150025328, -14.193291049214046] 2017-01-01\n",
      "[-75.64769678112165, -14.192480425330247, -75.65097557981476, -14.19515473241042] 2017-01-01\n",
      "[-75.64166749773169, -14.192429748404132, -75.64495509648042, -14.195132802468311] 2017-01-01\n",
      "[-75.64968970670726, -14.195219776748338, -75.65298643203063, -14.19796021341869] 2017-01-01\n",
      "[-75.64100407458932, -14.194213164268845, -75.64430202199843, -14.19694295233761] 2017-01-01\n",
      "[-75.64570305607081, -14.1978903845171, -75.64898805011781, -14.200586462611307] 2017-01-01\n",
      "\n",
      "2017-02-20\n"
     ]
    },
    {
     "data": {
      "application/vnd.jupyter.widget-view+json": {
       "model_id": "33c14fbb14144e8ea09accae5c657082",
       "version_major": 2,
       "version_minor": 0
      },
      "text/plain": [
       "HBox(children=(FloatProgress(value=1.0, bar_style='info', max=1.0), HTML(value='')))"
      ]
     },
     "metadata": {},
     "output_type": "display_data"
    },
    {
     "name": "stdout",
     "output_type": "stream",
     "text": [
      "[-75.64434649855319, -14.193355636804679, -75.64763941311051, -14.196068495618299] 2017-02-20\n",
      "[-75.64234056627969, -14.190610001340819, -75.64561150025328, -14.193291049214046] 2017-02-20\n",
      "[-75.64769678112165, -14.192480425330247, -75.65097557981476, -14.19515473241042] 2017-02-20\n",
      "[-75.64166749773169, -14.192429748404132, -75.64495509648042, -14.195132802468311] 2017-02-20\n",
      "[-75.64701007809187, -14.194282863638566, -75.65031370091558, -14.19702703200722] 2017-02-20\n",
      "[-75.64100407458932, -14.194213164268845, -75.64430202199843, -14.19694295233761] 2017-02-20\n",
      "[-75.64368793366349, -14.19514832766311, -75.6469826482682, -14.197881148780363] 2017-02-20\n",
      "[-75.6463550733476, -14.196107720636288, -75.64964409685477, -14.198813508297691] 2017-02-20\n",
      "[-75.64570305607081, -14.1978903845171, -75.64898805011781, -14.200586462611307] 2017-02-20\n",
      "\n",
      "2017-04-01\n"
     ]
    },
    {
     "data": {
      "application/vnd.jupyter.widget-view+json": {
       "model_id": "316ce2f3148e485aa2287a959d7a4c6e",
       "version_major": 2,
       "version_minor": 0
      },
      "text/plain": [
       "HBox(children=(FloatProgress(value=1.0, bar_style='info', max=1.0), HTML(value='')))"
      ]
     },
     "metadata": {},
     "output_type": "display_data"
    },
    {
     "name": "stdout",
     "output_type": "stream",
     "text": [
      "[-75.64434649855319, -14.193355636804679, -75.64763941311051, -14.196068495618299] 2017-04-01\n",
      "[-75.64838136235278, -14.198829012819262, -75.65166673445216, -14.201513798702576] 2017-04-01\n",
      "[-75.64769678112165, -14.192480425330247, -75.65097557981476, -14.19515473241042] 2017-04-01\n",
      "[-75.64166749773169, -14.192429748404132, -75.64495509648042, -14.195132802468311] 2017-04-01\n",
      "[-75.64701007809187, -14.194282863638566, -75.65031370091558, -14.19702703200722] 2017-04-01\n",
      "[-75.64100407458932, -14.194213164268845, -75.64430202199843, -14.19694295233761] 2017-04-01\n",
      "[-75.64368793366349, -14.19514832766311, -75.6469826482682, -14.197881148780363] 2017-04-01\n",
      "[-75.6463550733476, -14.196107720636288, -75.64964409685477, -14.198813508297691] 2017-04-01\n",
      "[-75.64570305607081, -14.1978903845171, -75.64898805011781, -14.200586462611307] 2017-04-01\n",
      "\n",
      "2017-07-10\n"
     ]
    },
    {
     "data": {
      "application/vnd.jupyter.widget-view+json": {
       "model_id": "0d1cc23b0c5e49cdb8faca35cbcb74f6",
       "version_major": 2,
       "version_minor": 0
      },
      "text/plain": [
       "HBox(children=(FloatProgress(value=1.0, bar_style='info', max=1.0), HTML(value='')))"
      ]
     },
     "metadata": {},
     "output_type": "display_data"
    },
    {
     "name": "stdout",
     "output_type": "stream",
     "text": [
      "[-75.64769678112165, -14.192480425330247, -75.65097557981476, -14.19515473241042] 2017-07-10\n",
      "[-75.64166749773169, -14.192429748404132, -75.64495509648042, -14.195132802468311] 2017-07-10\n",
      "\n",
      "2017-08-19\n"
     ]
    },
    {
     "data": {
      "application/vnd.jupyter.widget-view+json": {
       "model_id": "203f2cfe422644c1abf4cf257d6da442",
       "version_major": 2,
       "version_minor": 0
      },
      "text/plain": [
       "HBox(children=(FloatProgress(value=1.0, bar_style='info', max=1.0), HTML(value='')))"
      ]
     },
     "metadata": {},
     "output_type": "display_data"
    },
    {
     "name": "stdout",
     "output_type": "stream",
     "text": [
      "[-75.64769678112165, -14.192480425330247, -75.65097557981476, -14.19515473241042] 2017-08-19\n",
      "[-75.64570305607081, -14.1978903845171, -75.64898805011781, -14.200586462611307] 2017-08-19\n",
      "\n",
      "2017-09-08\n"
     ]
    },
    {
     "data": {
      "application/vnd.jupyter.widget-view+json": {
       "model_id": "81a29416cc83432c9a3c58a879470f27",
       "version_major": 2,
       "version_minor": 0
      },
      "text/plain": [
       "HBox(children=(FloatProgress(value=1.0, bar_style='info', max=1.0), HTML(value='')))"
      ]
     },
     "metadata": {},
     "output_type": "display_data"
    },
    {
     "name": "stdout",
     "output_type": "stream",
     "text": [
      "[-75.64234056627969, -14.190610001340819, -75.64561150025328, -14.193291049214046] 2017-09-08\n",
      "[-75.64769678112165, -14.192480425330247, -75.65097557981476, -14.19515473241042] 2017-09-08\n",
      "[-75.64166749773169, -14.192429748404132, -75.64495509648042, -14.195132802468311] 2017-09-08\n",
      "[-75.64701007809187, -14.194282863638566, -75.65031370091558, -14.19702703200722] 2017-09-08\n",
      "\n",
      "2017-09-28\n"
     ]
    },
    {
     "data": {
      "application/vnd.jupyter.widget-view+json": {
       "model_id": "7bd5f794dc324d84bb470dc57dcf6e97",
       "version_major": 2,
       "version_minor": 0
      },
      "text/plain": [
       "HBox(children=(FloatProgress(value=1.0, bar_style='info', max=1.0), HTML(value='')))"
      ]
     },
     "metadata": {},
     "output_type": "display_data"
    },
    {
     "name": "stdout",
     "output_type": "stream",
     "text": [
      "[-75.64434649855319, -14.193355636804679, -75.64763941311051, -14.196068495618299] 2017-09-28\n",
      "[-75.64769678112165, -14.192480425330247, -75.65097557981476, -14.19515473241042] 2017-09-28\n",
      "[-75.64100407458932, -14.194213164268845, -75.64430202199843, -14.19694295233761] 2017-09-28\n",
      "\n",
      "2017-10-03\n"
     ]
    },
    {
     "data": {
      "application/vnd.jupyter.widget-view+json": {
       "model_id": "b4821068f12241e0a823e80a71b9ccac",
       "version_major": 2,
       "version_minor": 0
      },
      "text/plain": [
       "HBox(children=(FloatProgress(value=1.0, bar_style='info', max=1.0), HTML(value='')))"
      ]
     },
     "metadata": {},
     "output_type": "display_data"
    },
    {
     "name": "stdout",
     "output_type": "stream",
     "text": [
      "[-75.64434649855319, -14.193355636804679, -75.64763941311051, -14.196068495618299] 2017-10-03\n",
      "[-75.64838136235278, -14.198829012819262, -75.65166673445216, -14.201513798702576] 2017-10-03\n",
      "[-75.64769678112165, -14.192480425330247, -75.65097557981476, -14.19515473241042] 2017-10-03\n",
      "[-75.64166749773169, -14.192429748404132, -75.64495509648042, -14.195132802468311] 2017-10-03\n",
      "[-75.64701007809187, -14.194282863638566, -75.65031370091558, -14.19702703200722] 2017-10-03\n",
      "[-75.64100407458932, -14.194213164268845, -75.64430202199843, -14.19694295233761] 2017-10-03\n",
      "[-75.64368793366349, -14.19514832766311, -75.6469826482682, -14.197881148780363] 2017-10-03\n",
      "\n",
      "2017-10-18\n"
     ]
    },
    {
     "data": {
      "application/vnd.jupyter.widget-view+json": {
       "model_id": "ec467f7111684f03921e1246cd8876a5",
       "version_major": 2,
       "version_minor": 0
      },
      "text/plain": [
       "HBox(children=(FloatProgress(value=1.0, bar_style='info', max=1.0), HTML(value='')))"
      ]
     },
     "metadata": {},
     "output_type": "display_data"
    },
    {
     "name": "stdout",
     "output_type": "stream",
     "text": [
      "[-75.64434649855319, -14.193355636804679, -75.64763941311051, -14.196068495618299] 2017-10-18\n",
      "[-75.64838136235278, -14.198829012819262, -75.65166673445216, -14.201513798702576] 2017-10-18\n",
      "[-75.64769678112165, -14.192480425330247, -75.65097557981476, -14.19515473241042] 2017-10-18\n",
      "[-75.64701007809187, -14.194282863638566, -75.65031370091558, -14.19702703200722] 2017-10-18\n",
      "[-75.64368793366349, -14.19514832766311, -75.6469826482682, -14.197881148780363] 2017-10-18\n",
      "\n",
      "2017-11-07\n"
     ]
    },
    {
     "data": {
      "application/vnd.jupyter.widget-view+json": {
       "model_id": "2d2083412fa54b97957e66e6ad41a429",
       "version_major": 2,
       "version_minor": 0
      },
      "text/plain": [
       "HBox(children=(FloatProgress(value=1.0, bar_style='info', max=1.0), HTML(value='')))"
      ]
     },
     "metadata": {},
     "output_type": "display_data"
    },
    {
     "name": "stdout",
     "output_type": "stream",
     "text": [
      "[-75.64701007809187, -14.194282863638566, -75.65031370091558, -14.19702703200722] 2017-11-07\n",
      "[-75.64368793366349, -14.19514832766311, -75.6469826482682, -14.197881148780363] 2017-11-07\n",
      "\n",
      "2017-11-12\n"
     ]
    },
    {
     "data": {
      "application/vnd.jupyter.widget-view+json": {
       "model_id": "c39732f3f3b2410a923d42221315fe31",
       "version_major": 2,
       "version_minor": 0
      },
      "text/plain": [
       "HBox(children=(FloatProgress(value=1.0, bar_style='info', max=1.0), HTML(value='')))"
      ]
     },
     "metadata": {},
     "output_type": "display_data"
    },
    {
     "name": "stdout",
     "output_type": "stream",
     "text": [
      "[-75.64701007809187, -14.194282863638566, -75.65031370091558, -14.19702703200722] 2017-11-12\n",
      "[-75.64968970670726, -14.195219776748338, -75.65298643203063, -14.19796021341869] 2017-11-12\n",
      "[-75.64368793366349, -14.19514832766311, -75.6469826482682, -14.197881148780363] 2017-11-12\n",
      "[-75.6463550733476, -14.196107720636288, -75.64964409685477, -14.198813508297691] 2017-11-12\n",
      "\n",
      "2018-01-21\n"
     ]
    },
    {
     "data": {
      "application/vnd.jupyter.widget-view+json": {
       "model_id": "3b1665cd541b414d8a56582feecb56e4",
       "version_major": 2,
       "version_minor": 0
      },
      "text/plain": [
       "HBox(children=(FloatProgress(value=1.0, bar_style='info', max=1.0), HTML(value='')))"
      ]
     },
     "metadata": {},
     "output_type": "display_data"
    },
    {
     "name": "stdout",
     "output_type": "stream",
     "text": [
      "[-75.64166749773169, -14.192429748404132, -75.64495509648042, -14.195132802468311] 2018-01-21\n",
      "[-75.64701007809187, -14.194282863638566, -75.65031370091558, -14.19702703200722] 2018-01-21\n",
      "[-75.64368793366349, -14.19514832766311, -75.6469826482682, -14.197881148780363] 2018-01-21\n",
      "[-75.6463550733476, -14.196107720636288, -75.64964409685477, -14.198813508297691] 2018-01-21\n",
      "\n",
      "2018-01-26\n"
     ]
    },
    {
     "data": {
      "application/vnd.jupyter.widget-view+json": {
       "model_id": "60e566a5038a4e289c2548bf2107c220",
       "version_major": 2,
       "version_minor": 0
      },
      "text/plain": [
       "HBox(children=(FloatProgress(value=1.0, bar_style='info', max=1.0), HTML(value='')))"
      ]
     },
     "metadata": {},
     "output_type": "display_data"
    },
    {
     "name": "stdout",
     "output_type": "stream",
     "text": [
      "[-75.64368793366349, -14.19514832766311, -75.6469826482682, -14.197881148780363] 2018-01-26\n",
      "[-75.6463550733476, -14.196107720636288, -75.64964409685477, -14.198813508297691] 2018-01-26\n",
      "\n",
      "2018-03-02\n"
     ]
    },
    {
     "data": {
      "application/vnd.jupyter.widget-view+json": {
       "model_id": "46835f6e81b844e283b959d3697b3823",
       "version_major": 2,
       "version_minor": 0
      },
      "text/plain": [
       "HBox(children=(FloatProgress(value=1.0, bar_style='info', max=1.0), HTML(value='')))"
      ]
     },
     "metadata": {},
     "output_type": "display_data"
    },
    {
     "name": "stdout",
     "output_type": "stream",
     "text": [
      "[-75.6463550733476, -14.196107720636288, -75.64964409685477, -14.198813508297691] 2018-03-02\n",
      "\n",
      "2018-03-22\n"
     ]
    },
    {
     "data": {
      "application/vnd.jupyter.widget-view+json": {
       "model_id": "c21fea727f064179b51969b6e404691b",
       "version_major": 2,
       "version_minor": 0
      },
      "text/plain": [
       "HBox(children=(FloatProgress(value=1.0, bar_style='info', max=1.0), HTML(value='')))"
      ]
     },
     "metadata": {},
     "output_type": "display_data"
    },
    {
     "name": "stdout",
     "output_type": "stream",
     "text": [
      "[-75.64769678112165, -14.192480425330247, -75.65097557981476, -14.19515473241042] 2018-03-22\n",
      "[-75.64701007809187, -14.194282863638566, -75.65031370091558, -14.19702703200722] 2018-03-22\n",
      "[-75.64368793366349, -14.19514832766311, -75.6469826482682, -14.197881148780363] 2018-03-22\n",
      "[-75.6463550733476, -14.196107720636288, -75.64964409685477, -14.198813508297691] 2018-03-22\n",
      "\n",
      "2018-03-27\n"
     ]
    },
    {
     "data": {
      "application/vnd.jupyter.widget-view+json": {
       "model_id": "cca5249a03d64e30aae1c480b1778ef3",
       "version_major": 2,
       "version_minor": 0
      },
      "text/plain": [
       "HBox(children=(FloatProgress(value=1.0, bar_style='info', max=1.0), HTML(value='')))"
      ]
     },
     "metadata": {},
     "output_type": "display_data"
    },
    {
     "name": "stdout",
     "output_type": "stream",
     "text": [
      "[-75.64769678112165, -14.192480425330247, -75.65097557981476, -14.19515473241042] 2018-03-27\n",
      "[-75.64701007809187, -14.194282863638566, -75.65031370091558, -14.19702703200722] 2018-03-27\n",
      "\n",
      "2018-04-11\n"
     ]
    },
    {
     "data": {
      "application/vnd.jupyter.widget-view+json": {
       "model_id": "d6286e1c5e72452fae16b8484d4dff3d",
       "version_major": 2,
       "version_minor": 0
      },
      "text/plain": [
       "HBox(children=(FloatProgress(value=1.0, bar_style='info', max=1.0), HTML(value='')))"
      ]
     },
     "metadata": {},
     "output_type": "display_data"
    },
    {
     "name": "stdout",
     "output_type": "stream",
     "text": [
      "[-75.64769678112165, -14.192480425330247, -75.65097557981476, -14.19515473241042] 2018-04-11\n",
      "[-75.64701007809187, -14.194282863638566, -75.65031370091558, -14.19702703200722] 2018-04-11\n",
      "\n",
      "2018-04-16\n"
     ]
    },
    {
     "data": {
      "application/vnd.jupyter.widget-view+json": {
       "model_id": "88830ae02b8346fa8f60f6f63723f244",
       "version_major": 2,
       "version_minor": 0
      },
      "text/plain": [
       "HBox(children=(FloatProgress(value=1.0, bar_style='info', max=1.0), HTML(value='')))"
      ]
     },
     "metadata": {},
     "output_type": "display_data"
    },
    {
     "name": "stdout",
     "output_type": "stream",
     "text": [
      "[-75.64769678112165, -14.192480425330247, -75.65097557981476, -14.19515473241042] 2018-04-16\n",
      "[-75.64701007809187, -14.194282863638566, -75.65031370091558, -14.19702703200722] 2018-04-16\n",
      "[-75.6463550733476, -14.196107720636288, -75.64964409685477, -14.198813508297691] 2018-04-16\n",
      "\n",
      "2018-04-21\n"
     ]
    },
    {
     "data": {
      "application/vnd.jupyter.widget-view+json": {
       "model_id": "001d666f03384e0f9e6b6cff2aadb0d7",
       "version_major": 2,
       "version_minor": 0
      },
      "text/plain": [
       "HBox(children=(FloatProgress(value=1.0, bar_style='info', max=1.0), HTML(value='')))"
      ]
     },
     "metadata": {},
     "output_type": "display_data"
    },
    {
     "name": "stdout",
     "output_type": "stream",
     "text": [
      "[-75.64769678112165, -14.192480425330247, -75.65097557981476, -14.19515473241042] 2018-04-21\n",
      "[-75.64701007809187, -14.194282863638566, -75.65031370091558, -14.19702703200722] 2018-04-21\n",
      "[-75.64968970670726, -14.195219776748338, -75.65298643203063, -14.19796021341869] 2018-04-21\n",
      "[-75.64100407458932, -14.194213164268845, -75.64430202199843, -14.19694295233761] 2018-04-21\n",
      "[-75.64368793366349, -14.19514832766311, -75.6469826482682, -14.197881148780363] 2018-04-21\n",
      "[-75.6463550733476, -14.196107720636288, -75.64964409685477, -14.198813508297691] 2018-04-21\n",
      "\n",
      "2018-05-11\n"
     ]
    },
    {
     "data": {
      "application/vnd.jupyter.widget-view+json": {
       "model_id": "3db51d112e774c97b70bf9332b155a68",
       "version_major": 2,
       "version_minor": 0
      },
      "text/plain": [
       "HBox(children=(FloatProgress(value=1.0, bar_style='info', max=1.0), HTML(value='')))"
      ]
     },
     "metadata": {},
     "output_type": "display_data"
    },
    {
     "name": "stdout",
     "output_type": "stream",
     "text": [
      "\n",
      "2018-05-16\n"
     ]
    },
    {
     "data": {
      "application/vnd.jupyter.widget-view+json": {
       "model_id": "817bcb54e6da46499d13731988769423",
       "version_major": 2,
       "version_minor": 0
      },
      "text/plain": [
       "HBox(children=(FloatProgress(value=1.0, bar_style='info', max=1.0), HTML(value='')))"
      ]
     },
     "metadata": {},
     "output_type": "display_data"
    },
    {
     "name": "stdout",
     "output_type": "stream",
     "text": [
      "\n",
      "2018-05-21\n"
     ]
    },
    {
     "data": {
      "application/vnd.jupyter.widget-view+json": {
       "model_id": "a7d9d4f0de80448e9e733cb84fe72e65",
       "version_major": 2,
       "version_minor": 0
      },
      "text/plain": [
       "HBox(children=(FloatProgress(value=1.0, bar_style='info', max=1.0), HTML(value='')))"
      ]
     },
     "metadata": {},
     "output_type": "display_data"
    },
    {
     "name": "stdout",
     "output_type": "stream",
     "text": [
      "[-75.6463550733476, -14.196107720636288, -75.64964409685477, -14.198813508297691] 2018-05-21\n",
      "\n",
      "2018-06-05\n"
     ]
    },
    {
     "data": {
      "application/vnd.jupyter.widget-view+json": {
       "model_id": "92d6d0fd69cd43828ffc0fa5444f4825",
       "version_major": 2,
       "version_minor": 0
      },
      "text/plain": [
       "HBox(children=(FloatProgress(value=1.0, bar_style='info', max=1.0), HTML(value='')))"
      ]
     },
     "metadata": {},
     "output_type": "display_data"
    },
    {
     "name": "stdout",
     "output_type": "stream",
     "text": [
      "\n",
      "2018-06-25\n"
     ]
    },
    {
     "data": {
      "application/vnd.jupyter.widget-view+json": {
       "model_id": "7953215615064a8f9ff88ea542600cf4",
       "version_major": 2,
       "version_minor": 0
      },
      "text/plain": [
       "HBox(children=(FloatProgress(value=1.0, bar_style='info', max=1.0), HTML(value='')))"
      ]
     },
     "metadata": {},
     "output_type": "display_data"
    },
    {
     "name": "stdout",
     "output_type": "stream",
     "text": [
      "\n",
      "2018-06-30\n"
     ]
    },
    {
     "data": {
      "application/vnd.jupyter.widget-view+json": {
       "model_id": "5a1bf30526b84a4d8d4a7e6e92499232",
       "version_major": 2,
       "version_minor": 0
      },
      "text/plain": [
       "HBox(children=(FloatProgress(value=1.0, bar_style='info', max=1.0), HTML(value='')))"
      ]
     },
     "metadata": {},
     "output_type": "display_data"
    },
    {
     "name": "stdout",
     "output_type": "stream",
     "text": [
      "\n",
      "2018-07-30\n"
     ]
    },
    {
     "data": {
      "application/vnd.jupyter.widget-view+json": {
       "model_id": "6c064827d7c341b3b135fb369fcdf97b",
       "version_major": 2,
       "version_minor": 0
      },
      "text/plain": [
       "HBox(children=(FloatProgress(value=1.0, bar_style='info', max=1.0), HTML(value='')))"
      ]
     },
     "metadata": {},
     "output_type": "display_data"
    },
    {
     "name": "stdout",
     "output_type": "stream",
     "text": [
      "[-75.64769678112165, -14.192480425330247, -75.65097557981476, -14.19515473241042] 2018-07-30\n",
      "\n",
      "2018-08-29\n"
     ]
    },
    {
     "data": {
      "application/vnd.jupyter.widget-view+json": {
       "model_id": "54d8b54ac97448b99b60bc5df57effa6",
       "version_major": 2,
       "version_minor": 0
      },
      "text/plain": [
       "HBox(children=(FloatProgress(value=1.0, bar_style='info', max=1.0), HTML(value='')))"
      ]
     },
     "metadata": {},
     "output_type": "display_data"
    },
    {
     "name": "stdout",
     "output_type": "stream",
     "text": [
      "[-75.64769678112165, -14.192480425330247, -75.65097557981476, -14.19515473241042] 2018-08-29\n",
      "[-75.64701007809187, -14.194282863638566, -75.65031370091558, -14.19702703200722] 2018-08-29\n",
      "[-75.64100407458932, -14.194213164268845, -75.64430202199843, -14.19694295233761] 2018-08-29\n",
      "\n",
      "2018-09-03\n"
     ]
    },
    {
     "data": {
      "application/vnd.jupyter.widget-view+json": {
       "model_id": "ad7846050fcf4407989cf914ca29c343",
       "version_major": 2,
       "version_minor": 0
      },
      "text/plain": [
       "HBox(children=(FloatProgress(value=1.0, bar_style='info', max=1.0), HTML(value='')))"
      ]
     },
     "metadata": {},
     "output_type": "display_data"
    },
    {
     "name": "stdout",
     "output_type": "stream",
     "text": [
      "[-75.64769678112165, -14.192480425330247, -75.65097557981476, -14.19515473241042] 2018-09-03\n",
      "[-75.64701007809187, -14.194282863638566, -75.65031370091558, -14.19702703200722] 2018-09-03\n",
      "\n",
      "2018-09-08\n"
     ]
    },
    {
     "data": {
      "application/vnd.jupyter.widget-view+json": {
       "model_id": "1be69c4a38e04ee0b9cb10a8eef020ff",
       "version_major": 2,
       "version_minor": 0
      },
      "text/plain": [
       "HBox(children=(FloatProgress(value=1.0, bar_style='info', max=1.0), HTML(value='')))"
      ]
     },
     "metadata": {},
     "output_type": "display_data"
    },
    {
     "name": "stdout",
     "output_type": "stream",
     "text": [
      "[-75.64769678112165, -14.192480425330247, -75.65097557981476, -14.19515473241042] 2018-09-08\n",
      "[-75.64701007809187, -14.194282863638566, -75.65031370091558, -14.19702703200722] 2018-09-08\n",
      "[-75.64100407458932, -14.194213164268845, -75.64430202199843, -14.19694295233761] 2018-09-08\n",
      "\n",
      "2018-09-13\n"
     ]
    },
    {
     "data": {
      "application/vnd.jupyter.widget-view+json": {
       "model_id": "ce931892e99f4138b4cd3c3627ae506f",
       "version_major": 2,
       "version_minor": 0
      },
      "text/plain": [
       "HBox(children=(FloatProgress(value=1.0, bar_style='info', max=1.0), HTML(value='')))"
      ]
     },
     "metadata": {},
     "output_type": "display_data"
    },
    {
     "name": "stdout",
     "output_type": "stream",
     "text": [
      "[-75.64769678112165, -14.192480425330247, -75.65097557981476, -14.19515473241042] 2018-09-13\n",
      "[-75.64701007809187, -14.194282863638566, -75.65031370091558, -14.19702703200722] 2018-09-13\n",
      "\n",
      "2018-09-18\n"
     ]
    },
    {
     "data": {
      "application/vnd.jupyter.widget-view+json": {
       "model_id": "220c065c8a0d4973b1c9d63e27b42c9e",
       "version_major": 2,
       "version_minor": 0
      },
      "text/plain": [
       "HBox(children=(FloatProgress(value=1.0, bar_style='info', max=1.0), HTML(value='')))"
      ]
     },
     "metadata": {},
     "output_type": "display_data"
    },
    {
     "name": "stdout",
     "output_type": "stream",
     "text": [
      "[-75.64769678112165, -14.192480425330247, -75.65097557981476, -14.19515473241042] 2018-09-18\n",
      "[-75.64100407458932, -14.194213164268845, -75.64430202199843, -14.19694295233761] 2018-09-18\n",
      "\n",
      "2018-09-23\n"
     ]
    },
    {
     "data": {
      "application/vnd.jupyter.widget-view+json": {
       "model_id": "4bbafcb9743742f391faf308fd8a778e",
       "version_major": 2,
       "version_minor": 0
      },
      "text/plain": [
       "HBox(children=(FloatProgress(value=1.0, bar_style='info', max=1.0), HTML(value='')))"
      ]
     },
     "metadata": {},
     "output_type": "display_data"
    },
    {
     "name": "stdout",
     "output_type": "stream",
     "text": [
      "[-75.64769678112165, -14.192480425330247, -75.65097557981476, -14.19515473241042] 2018-09-23\n",
      "[-75.64701007809187, -14.194282863638566, -75.65031370091558, -14.19702703200722] 2018-09-23\n",
      "\n",
      "2018-09-28\n"
     ]
    },
    {
     "data": {
      "application/vnd.jupyter.widget-view+json": {
       "model_id": "08f4fae3d0c14a798dbdd8a53f797d3b",
       "version_major": 2,
       "version_minor": 0
      },
      "text/plain": [
       "HBox(children=(FloatProgress(value=1.0, bar_style='info', max=1.0), HTML(value='')))"
      ]
     },
     "metadata": {},
     "output_type": "display_data"
    },
    {
     "name": "stdout",
     "output_type": "stream",
     "text": [
      "[-75.64769678112165, -14.192480425330247, -75.65097557981476, -14.19515473241042] 2018-09-28\n",
      "[-75.64166749773169, -14.192429748404132, -75.64495509648042, -14.195132802468311] 2018-09-28\n",
      "[-75.64701007809187, -14.194282863638566, -75.65031370091558, -14.19702703200722] 2018-09-28\n",
      "[-75.6463550733476, -14.196107720636288, -75.64964409685477, -14.198813508297691] 2018-09-28\n",
      "\n",
      "2018-10-23\n"
     ]
    },
    {
     "data": {
      "application/vnd.jupyter.widget-view+json": {
       "model_id": "80730b6100f64fee97ae48aeffb95479",
       "version_major": 2,
       "version_minor": 0
      },
      "text/plain": [
       "HBox(children=(FloatProgress(value=1.0, bar_style='info', max=1.0), HTML(value='')))"
      ]
     },
     "metadata": {},
     "output_type": "display_data"
    },
    {
     "name": "stdout",
     "output_type": "stream",
     "text": [
      "[-75.64769678112165, -14.192480425330247, -75.65097557981476, -14.19515473241042] 2018-10-23\n",
      "[-75.64701007809187, -14.194282863638566, -75.65031370091558, -14.19702703200722] 2018-10-23\n",
      "[-75.64100407458932, -14.194213164268845, -75.64430202199843, -14.19694295233761] 2018-10-23\n",
      "[-75.64368793366349, -14.19514832766311, -75.6469826482682, -14.197881148780363] 2018-10-23\n",
      "\n",
      "2018-10-28\n"
     ]
    },
    {
     "data": {
      "application/vnd.jupyter.widget-view+json": {
       "model_id": "faf178a299df42f6aae5a5e90b1f65d1",
       "version_major": 2,
       "version_minor": 0
      },
      "text/plain": [
       "HBox(children=(FloatProgress(value=1.0, bar_style='info', max=1.0), HTML(value='')))"
      ]
     },
     "metadata": {},
     "output_type": "display_data"
    },
    {
     "name": "stdout",
     "output_type": "stream",
     "text": [
      "[-75.64769678112165, -14.192480425330247, -75.65097557981476, -14.19515473241042] 2018-10-28\n",
      "[-75.64166749773169, -14.192429748404132, -75.64495509648042, -14.195132802468311] 2018-10-28\n",
      "[-75.64100407458932, -14.194213164268845, -75.64430202199843, -14.19694295233761] 2018-10-28\n",
      "[-75.6463550733476, -14.196107720636288, -75.64964409685477, -14.198813508297691] 2018-10-28\n",
      "[-75.64570305607081, -14.1978903845171, -75.64898805011781, -14.200586462611307] 2018-10-28\n",
      "\n",
      "2018-11-07\n"
     ]
    },
    {
     "data": {
      "application/vnd.jupyter.widget-view+json": {
       "model_id": "1850c94b9e364a79a65bb82b86b0071b",
       "version_major": 2,
       "version_minor": 0
      },
      "text/plain": [
       "HBox(children=(FloatProgress(value=1.0, bar_style='info', max=1.0), HTML(value='')))"
      ]
     },
     "metadata": {},
     "output_type": "display_data"
    },
    {
     "name": "stdout",
     "output_type": "stream",
     "text": [
      "[-75.64166749773169, -14.192429748404132, -75.64495509648042, -14.195132802468311] 2018-11-07\n",
      "[-75.64100407458932, -14.194213164268845, -75.64430202199843, -14.19694295233761] 2018-11-07\n",
      "[-75.6463550733476, -14.196107720636288, -75.64964409685477, -14.198813508297691] 2018-11-07\n",
      "[-75.64570305607081, -14.1978903845171, -75.64898805011781, -14.200586462611307] 2018-11-07\n",
      "\n",
      "2018-11-12\n"
     ]
    },
    {
     "data": {
      "application/vnd.jupyter.widget-view+json": {
       "model_id": "3bd4fb78cf3a4e1aa102184497b3581b",
       "version_major": 2,
       "version_minor": 0
      },
      "text/plain": [
       "HBox(children=(FloatProgress(value=1.0, bar_style='info', max=1.0), HTML(value='')))"
      ]
     },
     "metadata": {},
     "output_type": "display_data"
    },
    {
     "name": "stdout",
     "output_type": "stream",
     "text": [
      "[-75.64769678112165, -14.192480425330247, -75.65097557981476, -14.19515473241042] 2018-11-12\n",
      "\n",
      "2018-11-22\n"
     ]
    },
    {
     "data": {
      "application/vnd.jupyter.widget-view+json": {
       "model_id": "02b927b6ddac44139d0f8e6ecb62999e",
       "version_major": 2,
       "version_minor": 0
      },
      "text/plain": [
       "HBox(children=(FloatProgress(value=1.0, bar_style='info', max=1.0), HTML(value='')))"
      ]
     },
     "metadata": {},
     "output_type": "display_data"
    },
    {
     "name": "stdout",
     "output_type": "stream",
     "text": [
      "[-75.64769678112165, -14.192480425330247, -75.65097557981476, -14.19515473241042] 2018-11-22\n",
      "\n",
      "2018-11-27\n"
     ]
    },
    {
     "data": {
      "application/vnd.jupyter.widget-view+json": {
       "model_id": "200fc2eb762a480ab8aa069fe26f17b0",
       "version_major": 2,
       "version_minor": 0
      },
      "text/plain": [
       "HBox(children=(FloatProgress(value=1.0, bar_style='info', max=1.0), HTML(value='')))"
      ]
     },
     "metadata": {},
     "output_type": "display_data"
    },
    {
     "name": "stdout",
     "output_type": "stream",
     "text": [
      "\n",
      "2018-12-02\n"
     ]
    },
    {
     "data": {
      "application/vnd.jupyter.widget-view+json": {
       "model_id": "1a3d3eace0094a30896342edfbb93a5a",
       "version_major": 2,
       "version_minor": 0
      },
      "text/plain": [
       "HBox(children=(FloatProgress(value=1.0, bar_style='info', max=1.0), HTML(value='')))"
      ]
     },
     "metadata": {},
     "output_type": "display_data"
    },
    {
     "name": "stdout",
     "output_type": "stream",
     "text": [
      "\n",
      "2018-12-12\n"
     ]
    },
    {
     "data": {
      "application/vnd.jupyter.widget-view+json": {
       "model_id": "570cf7d045ec4a869821123223aca5da",
       "version_major": 2,
       "version_minor": 0
      },
      "text/plain": [
       "HBox(children=(FloatProgress(value=1.0, bar_style='info', max=1.0), HTML(value='')))"
      ]
     },
     "metadata": {},
     "output_type": "display_data"
    },
    {
     "name": "stdout",
     "output_type": "stream",
     "text": [
      "[-75.64769678112165, -14.192480425330247, -75.65097557981476, -14.19515473241042] 2018-12-12\n",
      "\n",
      "2018-12-17\n"
     ]
    },
    {
     "data": {
      "application/vnd.jupyter.widget-view+json": {
       "model_id": "d77d9003bef4405c9266968c6fa7b242",
       "version_major": 2,
       "version_minor": 0
      },
      "text/plain": [
       "HBox(children=(FloatProgress(value=1.0, bar_style='info', max=1.0), HTML(value='')))"
      ]
     },
     "metadata": {},
     "output_type": "display_data"
    },
    {
     "name": "stdout",
     "output_type": "stream",
     "text": [
      "[-75.64166749773169, -14.192429748404132, -75.64495509648042, -14.195132802468311] 2018-12-17\n",
      "\n",
      "2018-12-22\n"
     ]
    },
    {
     "data": {
      "application/vnd.jupyter.widget-view+json": {
       "model_id": "18eef4934de84de9b1cc430581901f44",
       "version_major": 2,
       "version_minor": 0
      },
      "text/plain": [
       "HBox(children=(FloatProgress(value=1.0, bar_style='info', max=1.0), HTML(value='')))"
      ]
     },
     "metadata": {},
     "output_type": "display_data"
    },
    {
     "name": "stdout",
     "output_type": "stream",
     "text": [
      "\n",
      "2019-03-02\n"
     ]
    },
    {
     "data": {
      "application/vnd.jupyter.widget-view+json": {
       "model_id": "7d98bb48cb0a484db7d349e74f64d6bd",
       "version_major": 2,
       "version_minor": 0
      },
      "text/plain": [
       "HBox(children=(FloatProgress(value=1.0, bar_style='info', max=1.0), HTML(value='')))"
      ]
     },
     "metadata": {},
     "output_type": "display_data"
    },
    {
     "name": "stdout",
     "output_type": "stream",
     "text": [
      "\n",
      "2019-03-12\n"
     ]
    },
    {
     "data": {
      "application/vnd.jupyter.widget-view+json": {
       "model_id": "11201692f86a40508386ed73e61e752e",
       "version_major": 2,
       "version_minor": 0
      },
      "text/plain": [
       "HBox(children=(FloatProgress(value=1.0, bar_style='info', max=1.0), HTML(value='')))"
      ]
     },
     "metadata": {},
     "output_type": "display_data"
    },
    {
     "name": "stdout",
     "output_type": "stream",
     "text": [
      "\n",
      "2019-03-17\n"
     ]
    },
    {
     "data": {
      "application/vnd.jupyter.widget-view+json": {
       "model_id": "19e6f758943c42b2b58ced2cdd6696bb",
       "version_major": 2,
       "version_minor": 0
      },
      "text/plain": [
       "HBox(children=(FloatProgress(value=1.0, bar_style='info', max=1.0), HTML(value='')))"
      ]
     },
     "metadata": {},
     "output_type": "display_data"
    },
    {
     "name": "stdout",
     "output_type": "stream",
     "text": [
      "\n",
      "2019-03-22\n"
     ]
    },
    {
     "data": {
      "application/vnd.jupyter.widget-view+json": {
       "model_id": "d31bb5d57a8345a582955120df12fff5",
       "version_major": 2,
       "version_minor": 0
      },
      "text/plain": [
       "HBox(children=(FloatProgress(value=1.0, bar_style='info', max=1.0), HTML(value='')))"
      ]
     },
     "metadata": {},
     "output_type": "display_data"
    },
    {
     "name": "stdout",
     "output_type": "stream",
     "text": [
      "\n",
      "2019-04-11\n"
     ]
    },
    {
     "data": {
      "application/vnd.jupyter.widget-view+json": {
       "model_id": "639c6799400942faa967a17cf953fcb1",
       "version_major": 2,
       "version_minor": 0
      },
      "text/plain": [
       "HBox(children=(FloatProgress(value=1.0, bar_style='info', max=1.0), HTML(value='')))"
      ]
     },
     "metadata": {},
     "output_type": "display_data"
    },
    {
     "name": "stdout",
     "output_type": "stream",
     "text": [
      "\n",
      "2019-04-16\n"
     ]
    },
    {
     "data": {
      "application/vnd.jupyter.widget-view+json": {
       "model_id": "9f1b2a9d38654b8f9283837664e112ed",
       "version_major": 2,
       "version_minor": 0
      },
      "text/plain": [
       "HBox(children=(FloatProgress(value=1.0, bar_style='info', max=1.0), HTML(value='')))"
      ]
     },
     "metadata": {},
     "output_type": "display_data"
    },
    {
     "name": "stdout",
     "output_type": "stream",
     "text": [
      "\n",
      "2019-04-26\n"
     ]
    },
    {
     "data": {
      "application/vnd.jupyter.widget-view+json": {
       "model_id": "0223a67867934b7896c4ece1114ae189",
       "version_major": 2,
       "version_minor": 0
      },
      "text/plain": [
       "HBox(children=(FloatProgress(value=1.0, bar_style='info', max=1.0), HTML(value='')))"
      ]
     },
     "metadata": {},
     "output_type": "display_data"
    },
    {
     "name": "stdout",
     "output_type": "stream",
     "text": [
      "\n",
      "2019-05-01\n"
     ]
    },
    {
     "data": {
      "application/vnd.jupyter.widget-view+json": {
       "model_id": "ad4a2189df6e4358ac282efbe9255fea",
       "version_major": 2,
       "version_minor": 0
      },
      "text/plain": [
       "HBox(children=(FloatProgress(value=1.0, bar_style='info', max=1.0), HTML(value='')))"
      ]
     },
     "metadata": {},
     "output_type": "display_data"
    },
    {
     "name": "stdout",
     "output_type": "stream",
     "text": [
      "\n",
      "2019-05-16\n"
     ]
    },
    {
     "data": {
      "application/vnd.jupyter.widget-view+json": {
       "model_id": "8c019c6ac2e44499a499788792965409",
       "version_major": 2,
       "version_minor": 0
      },
      "text/plain": [
       "HBox(children=(FloatProgress(value=1.0, bar_style='info', max=1.0), HTML(value='')))"
      ]
     },
     "metadata": {},
     "output_type": "display_data"
    },
    {
     "name": "stdout",
     "output_type": "stream",
     "text": [
      "\n",
      "2019-06-10\n"
     ]
    },
    {
     "data": {
      "application/vnd.jupyter.widget-view+json": {
       "model_id": "23ce40a76ac84031bd5fd2cbcc392290",
       "version_major": 2,
       "version_minor": 0
      },
      "text/plain": [
       "HBox(children=(FloatProgress(value=1.0, bar_style='info', max=1.0), HTML(value='')))"
      ]
     },
     "metadata": {},
     "output_type": "display_data"
    },
    {
     "name": "stdout",
     "output_type": "stream",
     "text": [
      "\n",
      "2019-06-15\n"
     ]
    },
    {
     "data": {
      "application/vnd.jupyter.widget-view+json": {
       "model_id": "64d40936c6e84db19a6e15762d935224",
       "version_major": 2,
       "version_minor": 0
      },
      "text/plain": [
       "HBox(children=(FloatProgress(value=1.0, bar_style='info', max=1.0), HTML(value='')))"
      ]
     },
     "metadata": {},
     "output_type": "display_data"
    },
    {
     "name": "stdout",
     "output_type": "stream",
     "text": [
      "\n",
      "2019-06-25\n"
     ]
    },
    {
     "data": {
      "application/vnd.jupyter.widget-view+json": {
       "model_id": "2290db7346ff4c6bbbce4cbaebcfd1a4",
       "version_major": 2,
       "version_minor": 0
      },
      "text/plain": [
       "HBox(children=(FloatProgress(value=1.0, bar_style='info', max=1.0), HTML(value='')))"
      ]
     },
     "metadata": {},
     "output_type": "display_data"
    },
    {
     "name": "stdout",
     "output_type": "stream",
     "text": [
      "\n",
      "2019-07-05\n"
     ]
    },
    {
     "data": {
      "application/vnd.jupyter.widget-view+json": {
       "model_id": "97c2b304d3ba44139dbf2bed5bd0ed66",
       "version_major": 2,
       "version_minor": 0
      },
      "text/plain": [
       "HBox(children=(FloatProgress(value=1.0, bar_style='info', max=1.0), HTML(value='')))"
      ]
     },
     "metadata": {},
     "output_type": "display_data"
    },
    {
     "name": "stdout",
     "output_type": "stream",
     "text": [
      "\n",
      "2019-07-10\n"
     ]
    },
    {
     "data": {
      "application/vnd.jupyter.widget-view+json": {
       "model_id": "ea491d95fcaf487aa65e7d06cca2e58d",
       "version_major": 2,
       "version_minor": 0
      },
      "text/plain": [
       "HBox(children=(FloatProgress(value=1.0, bar_style='info', max=1.0), HTML(value='')))"
      ]
     },
     "metadata": {},
     "output_type": "display_data"
    },
    {
     "name": "stdout",
     "output_type": "stream",
     "text": [
      "\n",
      "2019-07-20\n"
     ]
    },
    {
     "data": {
      "application/vnd.jupyter.widget-view+json": {
       "model_id": "f7268cfe6d1f4fb18fc427c3f0a92cc8",
       "version_major": 2,
       "version_minor": 0
      },
      "text/plain": [
       "HBox(children=(FloatProgress(value=1.0, bar_style='info', max=1.0), HTML(value='')))"
      ]
     },
     "metadata": {},
     "output_type": "display_data"
    },
    {
     "name": "stdout",
     "output_type": "stream",
     "text": [
      "\n",
      "2019-07-25\n"
     ]
    },
    {
     "data": {
      "application/vnd.jupyter.widget-view+json": {
       "model_id": "443d7488ed3545009800ead8c5b40503",
       "version_major": 2,
       "version_minor": 0
      },
      "text/plain": [
       "HBox(children=(FloatProgress(value=1.0, bar_style='info', max=1.0), HTML(value='')))"
      ]
     },
     "metadata": {},
     "output_type": "display_data"
    },
    {
     "name": "stdout",
     "output_type": "stream",
     "text": [
      "\n",
      "2019-08-04\n"
     ]
    },
    {
     "data": {
      "application/vnd.jupyter.widget-view+json": {
       "model_id": "910173a24eae44e9b28be10303850dfd",
       "version_major": 2,
       "version_minor": 0
      },
      "text/plain": [
       "HBox(children=(FloatProgress(value=1.0, bar_style='info', max=1.0), HTML(value='')))"
      ]
     },
     "metadata": {},
     "output_type": "display_data"
    },
    {
     "name": "stdout",
     "output_type": "stream",
     "text": [
      "\n",
      "2019-08-09\n"
     ]
    },
    {
     "data": {
      "application/vnd.jupyter.widget-view+json": {
       "model_id": "c6b381424dba4f85ac6df1b6c0e6c720",
       "version_major": 2,
       "version_minor": 0
      },
      "text/plain": [
       "HBox(children=(FloatProgress(value=1.0, bar_style='info', max=1.0), HTML(value='')))"
      ]
     },
     "metadata": {},
     "output_type": "display_data"
    },
    {
     "name": "stdout",
     "output_type": "stream",
     "text": [
      "\n",
      "2019-08-14\n"
     ]
    },
    {
     "data": {
      "application/vnd.jupyter.widget-view+json": {
       "model_id": "8d30bd0f01434752a57a86e0f24eb656",
       "version_major": 2,
       "version_minor": 0
      },
      "text/plain": [
       "HBox(children=(FloatProgress(value=1.0, bar_style='info', max=1.0), HTML(value='')))"
      ]
     },
     "metadata": {},
     "output_type": "display_data"
    },
    {
     "name": "stdout",
     "output_type": "stream",
     "text": [
      "\n",
      "2019-08-19\n"
     ]
    },
    {
     "data": {
      "application/vnd.jupyter.widget-view+json": {
       "model_id": "2ae31753815e48a2b1a24f518d9f6f90",
       "version_major": 2,
       "version_minor": 0
      },
      "text/plain": [
       "HBox(children=(FloatProgress(value=1.0, bar_style='info', max=1.0), HTML(value='')))"
      ]
     },
     "metadata": {},
     "output_type": "display_data"
    },
    {
     "name": "stdout",
     "output_type": "stream",
     "text": [
      "\n",
      "2019-08-24\n"
     ]
    },
    {
     "data": {
      "application/vnd.jupyter.widget-view+json": {
       "model_id": "f29d1aef1de2438f85436fb21187cd1b",
       "version_major": 2,
       "version_minor": 0
      },
      "text/plain": [
       "HBox(children=(FloatProgress(value=1.0, bar_style='info', max=1.0), HTML(value='')))"
      ]
     },
     "metadata": {},
     "output_type": "display_data"
    },
    {
     "name": "stdout",
     "output_type": "stream",
     "text": [
      "\n",
      "2019-09-13\n"
     ]
    },
    {
     "data": {
      "application/vnd.jupyter.widget-view+json": {
       "model_id": "8fd9d79da8eb419383db308554868b41",
       "version_major": 2,
       "version_minor": 0
      },
      "text/plain": [
       "HBox(children=(FloatProgress(value=1.0, bar_style='info', max=1.0), HTML(value='')))"
      ]
     },
     "metadata": {},
     "output_type": "display_data"
    },
    {
     "name": "stdout",
     "output_type": "stream",
     "text": [
      "\n",
      "2019-09-18\n"
     ]
    },
    {
     "data": {
      "application/vnd.jupyter.widget-view+json": {
       "model_id": "472c838a35684c8d8825e6ab24091468",
       "version_major": 2,
       "version_minor": 0
      },
      "text/plain": [
       "HBox(children=(FloatProgress(value=1.0, bar_style='info', max=1.0), HTML(value='')))"
      ]
     },
     "metadata": {},
     "output_type": "display_data"
    },
    {
     "name": "stdout",
     "output_type": "stream",
     "text": [
      "\n",
      "2019-09-23\n"
     ]
    },
    {
     "data": {
      "application/vnd.jupyter.widget-view+json": {
       "model_id": "9f67cbb06c3f4adeb916137db73716d9",
       "version_major": 2,
       "version_minor": 0
      },
      "text/plain": [
       "HBox(children=(FloatProgress(value=1.0, bar_style='info', max=1.0), HTML(value='')))"
      ]
     },
     "metadata": {},
     "output_type": "display_data"
    },
    {
     "name": "stdout",
     "output_type": "stream",
     "text": [
      "\n",
      "2019-09-28\n"
     ]
    },
    {
     "data": {
      "application/vnd.jupyter.widget-view+json": {
       "model_id": "7203c57dc70d403fba15eddb85216417",
       "version_major": 2,
       "version_minor": 0
      },
      "text/plain": [
       "HBox(children=(FloatProgress(value=1.0, bar_style='info', max=1.0), HTML(value='')))"
      ]
     },
     "metadata": {},
     "output_type": "display_data"
    },
    {
     "name": "stdout",
     "output_type": "stream",
     "text": [
      "\n",
      "2019-10-03\n"
     ]
    },
    {
     "data": {
      "application/vnd.jupyter.widget-view+json": {
       "model_id": "27616ba08cdf42688658ec7d2b07b939",
       "version_major": 2,
       "version_minor": 0
      },
      "text/plain": [
       "HBox(children=(FloatProgress(value=1.0, bar_style='info', max=1.0), HTML(value='')))"
      ]
     },
     "metadata": {},
     "output_type": "display_data"
    },
    {
     "name": "stdout",
     "output_type": "stream",
     "text": [
      "\n",
      "2019-10-08\n"
     ]
    },
    {
     "data": {
      "application/vnd.jupyter.widget-view+json": {
       "model_id": "2fbd209e0a804fbd83130dfc09ac3180",
       "version_major": 2,
       "version_minor": 0
      },
      "text/plain": [
       "HBox(children=(FloatProgress(value=1.0, bar_style='info', max=1.0), HTML(value='')))"
      ]
     },
     "metadata": {},
     "output_type": "display_data"
    },
    {
     "name": "stdout",
     "output_type": "stream",
     "text": [
      "\n",
      "2019-10-13\n"
     ]
    },
    {
     "data": {
      "application/vnd.jupyter.widget-view+json": {
       "model_id": "095b365b344d4ea6aff11d3d10a09a0c",
       "version_major": 2,
       "version_minor": 0
      },
      "text/plain": [
       "HBox(children=(FloatProgress(value=1.0, bar_style='info', max=1.0), HTML(value='')))"
      ]
     },
     "metadata": {},
     "output_type": "display_data"
    },
    {
     "name": "stdout",
     "output_type": "stream",
     "text": [
      "\n",
      "2019-10-23\n"
     ]
    },
    {
     "data": {
      "application/vnd.jupyter.widget-view+json": {
       "model_id": "65aa022048fd4191b3f2e453146e8d8b",
       "version_major": 2,
       "version_minor": 0
      },
      "text/plain": [
       "HBox(children=(FloatProgress(value=1.0, bar_style='info', max=1.0), HTML(value='')))"
      ]
     },
     "metadata": {},
     "output_type": "display_data"
    },
    {
     "name": "stdout",
     "output_type": "stream",
     "text": [
      "\n",
      "2019-10-28\n"
     ]
    },
    {
     "data": {
      "application/vnd.jupyter.widget-view+json": {
       "model_id": "946898b3285d48e1a78a080e9d67c3f5",
       "version_major": 2,
       "version_minor": 0
      },
      "text/plain": [
       "HBox(children=(FloatProgress(value=1.0, bar_style='info', max=1.0), HTML(value='')))"
      ]
     },
     "metadata": {},
     "output_type": "display_data"
    },
    {
     "name": "stdout",
     "output_type": "stream",
     "text": [
      "\n",
      "2019-11-02\n"
     ]
    },
    {
     "data": {
      "application/vnd.jupyter.widget-view+json": {
       "model_id": "54a03c5a8fe943baa55ab1ce3d0558c1",
       "version_major": 2,
       "version_minor": 0
      },
      "text/plain": [
       "HBox(children=(FloatProgress(value=1.0, bar_style='info', max=1.0), HTML(value='')))"
      ]
     },
     "metadata": {},
     "output_type": "display_data"
    },
    {
     "name": "stdout",
     "output_type": "stream",
     "text": [
      "\n",
      "2019-11-17\n"
     ]
    },
    {
     "data": {
      "application/vnd.jupyter.widget-view+json": {
       "model_id": "0496369b1b6a4442a7b8b0fd53051432",
       "version_major": 2,
       "version_minor": 0
      },
      "text/plain": [
       "HBox(children=(FloatProgress(value=1.0, bar_style='info', max=1.0), HTML(value='')))"
      ]
     },
     "metadata": {},
     "output_type": "display_data"
    },
    {
     "name": "stdout",
     "output_type": "stream",
     "text": [
      "\n",
      "2019-12-07\n"
     ]
    },
    {
     "data": {
      "application/vnd.jupyter.widget-view+json": {
       "model_id": "646b4b5ba0c0419b965300ccf75a42ab",
       "version_major": 2,
       "version_minor": 0
      },
      "text/plain": [
       "HBox(children=(FloatProgress(value=1.0, bar_style='info', max=1.0), HTML(value='')))"
      ]
     },
     "metadata": {},
     "output_type": "display_data"
    },
    {
     "name": "stdout",
     "output_type": "stream",
     "text": [
      "\n",
      "2019-12-17\n"
     ]
    },
    {
     "data": {
      "application/vnd.jupyter.widget-view+json": {
       "model_id": "07ca8d508abb46c99c9ba87d319b80d4",
       "version_major": 2,
       "version_minor": 0
      },
      "text/plain": [
       "HBox(children=(FloatProgress(value=1.0, bar_style='info', max=1.0), HTML(value='')))"
      ]
     },
     "metadata": {},
     "output_type": "display_data"
    },
    {
     "name": "stdout",
     "output_type": "stream",
     "text": [
      "\n",
      "2019-12-27\n"
     ]
    },
    {
     "data": {
      "application/vnd.jupyter.widget-view+json": {
       "model_id": "d6867e6011ac4644829545949950e1d3",
       "version_major": 2,
       "version_minor": 0
      },
      "text/plain": [
       "HBox(children=(FloatProgress(value=1.0, bar_style='info', max=1.0), HTML(value='')))"
      ]
     },
     "metadata": {},
     "output_type": "display_data"
    },
    {
     "name": "stdout",
     "output_type": "stream",
     "text": [
      "\n",
      "2020-02-05\n"
     ]
    },
    {
     "data": {
      "application/vnd.jupyter.widget-view+json": {
       "model_id": "bf849de0d8b04742aff5a5c38a82ad29",
       "version_major": 2,
       "version_minor": 0
      },
      "text/plain": [
       "HBox(children=(FloatProgress(value=1.0, bar_style='info', max=1.0), HTML(value='')))"
      ]
     },
     "metadata": {},
     "output_type": "display_data"
    },
    {
     "name": "stdout",
     "output_type": "stream",
     "text": [
      "\n",
      "2020-02-10\n"
     ]
    },
    {
     "data": {
      "application/vnd.jupyter.widget-view+json": {
       "model_id": "cb22f134f6b7449f84bed15b53f99c27",
       "version_major": 2,
       "version_minor": 0
      },
      "text/plain": [
       "HBox(children=(FloatProgress(value=1.0, bar_style='info', max=1.0), HTML(value='')))"
      ]
     },
     "metadata": {},
     "output_type": "display_data"
    },
    {
     "name": "stdout",
     "output_type": "stream",
     "text": [
      "\n",
      "2020-02-15\n"
     ]
    },
    {
     "data": {
      "application/vnd.jupyter.widget-view+json": {
       "model_id": "0d839d9b3a5c4057a6908054a0863597",
       "version_major": 2,
       "version_minor": 0
      },
      "text/plain": [
       "HBox(children=(FloatProgress(value=1.0, bar_style='info', max=1.0), HTML(value='')))"
      ]
     },
     "metadata": {},
     "output_type": "display_data"
    },
    {
     "name": "stdout",
     "output_type": "stream",
     "text": [
      "\n",
      "2020-03-11\n"
     ]
    },
    {
     "data": {
      "application/vnd.jupyter.widget-view+json": {
       "model_id": "2470785473be45b8aadf1eebdac0100f",
       "version_major": 2,
       "version_minor": 0
      },
      "text/plain": [
       "HBox(children=(FloatProgress(value=1.0, bar_style='info', max=1.0), HTML(value='')))"
      ]
     },
     "metadata": {},
     "output_type": "display_data"
    },
    {
     "name": "stdout",
     "output_type": "stream",
     "text": [
      "\n",
      "2020-04-15\n"
     ]
    },
    {
     "data": {
      "application/vnd.jupyter.widget-view+json": {
       "model_id": "c7ca2f28aac64b3d9378ba0be6bb1088",
       "version_major": 2,
       "version_minor": 0
      },
      "text/plain": [
       "HBox(children=(FloatProgress(value=1.0, bar_style='info', max=1.0), HTML(value='')))"
      ]
     },
     "metadata": {},
     "output_type": "display_data"
    },
    {
     "name": "stdout",
     "output_type": "stream",
     "text": [
      "\n",
      "2020-04-20\n"
     ]
    },
    {
     "data": {
      "application/vnd.jupyter.widget-view+json": {
       "model_id": "c5c91e1e9f844d5783e65ab4eb7c2a52",
       "version_major": 2,
       "version_minor": 0
      },
      "text/plain": [
       "HBox(children=(FloatProgress(value=1.0, bar_style='info', max=1.0), HTML(value='')))"
      ]
     },
     "metadata": {},
     "output_type": "display_data"
    },
    {
     "name": "stdout",
     "output_type": "stream",
     "text": [
      "\n",
      "\n"
     ]
    }
   ],
   "source": [
    "#Get NDVI image and average values for date and coordinates\n",
    "for date in tqdm(df[\"_date\"]): \n",
    "    NVDI_arrays_list = []\n",
    "    NDVIs_list = []\n",
    "    print(date)\n",
    "    \n",
    "    #Iterate through bbox and polygon df rows\n",
    "    for index, row in tqdm(df_data[[\"bbox_coordinates\", \"poly_coordinates\", \"properties.unit.id\"]].iterrows()):\n",
    "        box = row[0]\n",
    "        poly = row[1]\n",
    "        id_lote = row[2]\n",
    "        NVDI, ndvi = get_mean_NDVI(box, date, poly)\n",
    "        NVDI_arrays_list += NVDI\n",
    "        NDVIs_list += [ndvi]\n",
    "        \n",
    "        #Save images\n",
    "        image_path = \"outputs\\\\images\\\\\"+date+\"_\"+str(id_lote)+\".png\"\n",
    "        save_image(NVDI[0], image_path)\n",
    "        \n",
    "    #Save NVDI arrays and averages in data dataframe\n",
    "    df_data[date+\"_array\"] = NVDI_arrays_list\n",
    "    df_data[date] = NDVIs_list\n",
    "    \n",
    "    \n",
    "    \n",
    "        "
   ]
  },
  {
   "cell_type": "markdown",
   "metadata": {},
   "source": [
    "# Saving raw outputs"
   ]
  },
  {
   "cell_type": "code",
   "execution_count": 10,
   "metadata": {},
   "outputs": [
    {
     "data": {
      "text/html": [
       "<div>\n",
       "<style scoped>\n",
       "    .dataframe tbody tr th:only-of-type {\n",
       "        vertical-align: middle;\n",
       "    }\n",
       "\n",
       "    .dataframe tbody tr th {\n",
       "        vertical-align: top;\n",
       "    }\n",
       "\n",
       "    .dataframe thead th {\n",
       "        text-align: right;\n",
       "    }\n",
       "</style>\n",
       "<table border=\"1\" class=\"dataframe\">\n",
       "  <thead>\n",
       "    <tr style=\"text-align: right;\">\n",
       "      <th></th>\n",
       "      <th>type</th>\n",
       "      <th>geometry.type</th>\n",
       "      <th>geometry.coordinates</th>\n",
       "      <th>properties.values</th>\n",
       "      <th>properties.unit.state.area</th>\n",
       "      <th>properties.unit.state.year_of_planting</th>\n",
       "      <th>properties.unit.state.variety</th>\n",
       "      <th>properties.unit.metadata</th>\n",
       "      <th>properties.unit.id</th>\n",
       "      <th>properties.unit.full_name</th>\n",
       "      <th>...</th>\n",
       "      <th>2020-02-10_array</th>\n",
       "      <th>2020-02-10</th>\n",
       "      <th>2020-02-15_array</th>\n",
       "      <th>2020-02-15</th>\n",
       "      <th>2020-03-11_array</th>\n",
       "      <th>2020-03-11</th>\n",
       "      <th>2020-04-15_array</th>\n",
       "      <th>2020-04-15</th>\n",
       "      <th>2020-04-20_array</th>\n",
       "      <th>2020-04-20</th>\n",
       "    </tr>\n",
       "  </thead>\n",
       "  <tbody>\n",
       "    <tr>\n",
       "      <th>0</th>\n",
       "      <td>Feature</td>\n",
       "      <td>Polygon</td>\n",
       "      <td>[[[-75.6396578867764, -14.199701335951724], [-...</td>\n",
       "      <td>[{'value': 3581.158766439885, 'variety': {}, '...</td>\n",
       "      <td>6.530601</td>\n",
       "      <td>[2019]</td>\n",
       "      <td>[hass, fuerte, zutano]</td>\n",
       "      <td>[{'level_name': 'empresa', 'name': 'agricola c...</td>\n",
       "      <td>90214</td>\n",
       "      <td>lote AGRICOLA CHAPI.DON ERNESTO.PAL-1.36</td>\n",
       "      <td>...</td>\n",
       "      <td>[[1.0, 1.0, 1.0, 1.0, 1.0, 1.0, 1.0, 1.0, 1.0,...</td>\n",
       "      <td>0.594447</td>\n",
       "      <td>[[1.0, 1.0, 1.0, 1.0, 1.0, 1.0, 1.0, 1.0, 1.0,...</td>\n",
       "      <td>0.585075</td>\n",
       "      <td>[[1.0, 1.0, 1.0, 1.0, 1.0, 1.0, 1.0, 1.0, 1.0,...</td>\n",
       "      <td>0.587418</td>\n",
       "      <td>[[1.0, 1.0, 1.0, 1.0, 1.0, 1.0, 1.0, 1.0, 1.0,...</td>\n",
       "      <td>0.623925</td>\n",
       "      <td>[[1.0, 1.0, 1.0, 1.0, 1.0, 1.0, 1.0, 1.0, 1.0,...</td>\n",
       "      <td>0.649108</td>\n",
       "    </tr>\n",
       "    <tr>\n",
       "      <th>1</th>\n",
       "      <td>Feature</td>\n",
       "      <td>Polygon</td>\n",
       "      <td>[[[-75.64231663022875, -14.20062882414364], [-...</td>\n",
       "      <td>[{'value': 4037.3751791811173, 'variety': {}, ...</td>\n",
       "      <td>6.555069</td>\n",
       "      <td>[2019]</td>\n",
       "      <td>[hass, fuerte, zutano]</td>\n",
       "      <td>[{'level_name': 'empresa', 'name': 'agricola c...</td>\n",
       "      <td>90215</td>\n",
       "      <td>lote AGRICOLA CHAPI.DON ERNESTO.PAL-1.37</td>\n",
       "      <td>...</td>\n",
       "      <td>[[1.0, 1.0, 1.0, 1.0, 1.0, 1.0, 1.0, 1.0, 1.0,...</td>\n",
       "      <td>0.594103</td>\n",
       "      <td>[[1.0, 1.0, 1.0, 1.0, 1.0, 1.0, 1.0, 1.0, 1.0,...</td>\n",
       "      <td>0.587701</td>\n",
       "      <td>[[1.0, 1.0, 1.0, 1.0, 1.0, 1.0, 1.0, 1.0, 1.0,...</td>\n",
       "      <td>0.585747</td>\n",
       "      <td>[[1.0, 1.0, 1.0, 1.0, 1.0, 1.0, 1.0, 1.0, 1.0,...</td>\n",
       "      <td>0.622790</td>\n",
       "      <td>[[1.0, 1.0, 1.0, 1.0, 1.0, 1.0, 1.0, 1.0, 1.0,...</td>\n",
       "      <td>0.650104</td>\n",
       "    </tr>\n",
       "    <tr>\n",
       "      <th>2</th>\n",
       "      <td>Feature</td>\n",
       "      <td>Polygon</td>\n",
       "      <td>[[[-75.63898926117189, -14.201527268326426], [...</td>\n",
       "      <td>[{'value': 4658.420440484501, 'variety': {}, '...</td>\n",
       "      <td>6.533254</td>\n",
       "      <td>[2019]</td>\n",
       "      <td>[hass, fuerte, zutano]</td>\n",
       "      <td>[{'level_name': 'empresa', 'name': 'agricola c...</td>\n",
       "      <td>90216</td>\n",
       "      <td>lote AGRICOLA CHAPI.DON ERNESTO.PAL-1.42</td>\n",
       "      <td>...</td>\n",
       "      <td>[[1.0, 1.0, 1.0, 1.0, 1.0, 1.0, 1.0, 1.0, 1.0,...</td>\n",
       "      <td>0.608672</td>\n",
       "      <td>[[1.0, 1.0, 1.0, 1.0, 1.0, 1.0, 1.0, 1.0, 1.0,...</td>\n",
       "      <td>0.593903</td>\n",
       "      <td>[[1.0, 1.0, 1.0, 1.0, 1.0, 1.0, 1.0, 1.0, 1.0,...</td>\n",
       "      <td>0.600877</td>\n",
       "      <td>[[1.0, 1.0, 1.0, 1.0, 1.0, 1.0, 1.0, 1.0, 1.0,...</td>\n",
       "      <td>0.628707</td>\n",
       "      <td>[[1.0, 1.0, 1.0, 1.0, 1.0, 1.0, 1.0, 1.0, 1.0,...</td>\n",
       "      <td>0.660342</td>\n",
       "    </tr>\n",
       "    <tr>\n",
       "      <th>3</th>\n",
       "      <td>Feature</td>\n",
       "      <td>Polygon</td>\n",
       "      <td>[[[-75.64164955317383, -14.202454024468352], [...</td>\n",
       "      <td>[{'value': 4196.272165747293, 'variety': {}, '...</td>\n",
       "      <td>6.551013</td>\n",
       "      <td>[2019]</td>\n",
       "      <td>[hass, fuerte, zutano]</td>\n",
       "      <td>[{'level_name': 'empresa', 'name': 'agricola c...</td>\n",
       "      <td>90217</td>\n",
       "      <td>lote AGRICOLA CHAPI.DON ERNESTO.PAL-1.43</td>\n",
       "      <td>...</td>\n",
       "      <td>[[1.0, 1.0, 1.0, 1.0, 1.0, 1.0, 1.0, 1.0, 1.0,...</td>\n",
       "      <td>0.607753</td>\n",
       "      <td>[[1.0, 1.0, 1.0, 1.0, 1.0, 1.0, 1.0, 1.0, 1.0,...</td>\n",
       "      <td>0.595797</td>\n",
       "      <td>[[1.0, 1.0, 1.0, 1.0, 1.0, 1.0, 1.0, 1.0, 1.0,...</td>\n",
       "      <td>0.601193</td>\n",
       "      <td>[[1.0, 1.0, 1.0, 1.0, 1.0, 1.0, 1.0, 1.0, 1.0,...</td>\n",
       "      <td>0.622388</td>\n",
       "      <td>[[1.0, 1.0, 1.0, 1.0, 1.0, 1.0, 1.0, 1.0, 1.0,...</td>\n",
       "      <td>0.655480</td>\n",
       "    </tr>\n",
       "    <tr>\n",
       "      <th>4</th>\n",
       "      <td>Feature</td>\n",
       "      <td>Polygon</td>\n",
       "      <td>[[[-75.64164955317383, -14.202454024468352], [...</td>\n",
       "      <td>[{'value': 4744.580970357842, 'variety': {}, '...</td>\n",
       "      <td>6.534646</td>\n",
       "      <td>[2019]</td>\n",
       "      <td>[hass, fuerte, zutano]</td>\n",
       "      <td>[{'level_name': 'empresa', 'name': 'agricola c...</td>\n",
       "      <td>90218</td>\n",
       "      <td>lote AGRICOLA CHAPI.DON ERNESTO.PAL-1.48</td>\n",
       "      <td>...</td>\n",
       "      <td>[[1.0, 1.0, 1.0, 1.0, 1.0, 1.0, 1.0, 1.0, 1.0,...</td>\n",
       "      <td>0.620011</td>\n",
       "      <td>[[1.0, 1.0, 1.0, 1.0, 1.0, 1.0, 1.0, 1.0, 1.0,...</td>\n",
       "      <td>0.603345</td>\n",
       "      <td>[[1.0, 1.0, 1.0, 1.0, 1.0, 1.0, 1.0, 1.0, 1.0,...</td>\n",
       "      <td>0.614018</td>\n",
       "      <td>[[1.0, 1.0, 1.0, 1.0, 1.0, 1.0, 1.0, 1.0, 1.0,...</td>\n",
       "      <td>0.634250</td>\n",
       "      <td>[[1.0, 1.0, 1.0, 1.0, 1.0, 1.0, 1.0, 1.0, 1.0,...</td>\n",
       "      <td>0.672965</td>\n",
       "    </tr>\n",
       "    <tr>\n",
       "      <th>5</th>\n",
       "      <td>Feature</td>\n",
       "      <td>Polygon</td>\n",
       "      <td>[[[-75.64431888131925, -14.203383890611855], [...</td>\n",
       "      <td>[{'value': 4914.518933170159, 'variety': {}, '...</td>\n",
       "      <td>6.562506</td>\n",
       "      <td>[2019]</td>\n",
       "      <td>[hass, fuerte, zutano]</td>\n",
       "      <td>[{'level_name': 'empresa', 'name': 'agricola c...</td>\n",
       "      <td>90219</td>\n",
       "      <td>lote AGRICOLA CHAPI.DON ERNESTO.PAL-1.49</td>\n",
       "      <td>...</td>\n",
       "      <td>[[1.0, 1.0, 1.0, 1.0, 1.0, 1.0, 1.0, 1.0, 1.0,...</td>\n",
       "      <td>0.624000</td>\n",
       "      <td>[[1.0, 1.0, 1.0, 1.0, 1.0, 1.0, 1.0, 1.0, 1.0,...</td>\n",
       "      <td>0.606458</td>\n",
       "      <td>[[1.0, 1.0, 1.0, 1.0, 1.0, 1.0, 1.0, 1.0, 1.0,...</td>\n",
       "      <td>0.610833</td>\n",
       "      <td>[[1.0, 1.0, 1.0, 1.0, 1.0, 1.0, 1.0, 1.0, 1.0,...</td>\n",
       "      <td>0.628968</td>\n",
       "      <td>[[1.0, 1.0, 1.0, 1.0, 1.0, 1.0, 1.0, 1.0, 1.0,...</td>\n",
       "      <td>0.665730</td>\n",
       "    </tr>\n",
       "    <tr>\n",
       "      <th>6</th>\n",
       "      <td>Feature</td>\n",
       "      <td>Polygon</td>\n",
       "      <td>[[[-75.63765710540375, -14.20516513033943], [-...</td>\n",
       "      <td>[{'value': 3081.5154889943, 'variety': {}, 'me...</td>\n",
       "      <td>6.498691</td>\n",
       "      <td>[2019]</td>\n",
       "      <td>[hass, fuerte, zutano]</td>\n",
       "      <td>[{'level_name': 'empresa', 'name': 'agricola c...</td>\n",
       "      <td>90221</td>\n",
       "      <td>lote AGRICOLA CHAPI.DON ERNESTO.PAL-2.54</td>\n",
       "      <td>...</td>\n",
       "      <td>[[1.0, 1.0, 1.0, 1.0, 1.0, 1.0, 1.0, 1.0, 1.0,...</td>\n",
       "      <td>0.613881</td>\n",
       "      <td>[[1.0, 1.0, 1.0, 1.0, 1.0, 1.0, 1.0, 1.0, 1.0,...</td>\n",
       "      <td>0.590397</td>\n",
       "      <td>[[1.0, 1.0, 1.0, 1.0, 1.0, 1.0, 1.0, 1.0, 1.0,...</td>\n",
       "      <td>0.605137</td>\n",
       "      <td>[[1.0, 1.0, 1.0, 1.0, 1.0, 1.0, 1.0, 1.0, 1.0,...</td>\n",
       "      <td>0.615242</td>\n",
       "      <td>[[1.0, 1.0, 1.0, 1.0, 1.0, 1.0, 1.0, 1.0, 1.0,...</td>\n",
       "      <td>0.652566</td>\n",
       "    </tr>\n",
       "    <tr>\n",
       "      <th>7</th>\n",
       "      <td>Feature</td>\n",
       "      <td>Polygon</td>\n",
       "      <td>[[[-75.64031869971863, -14.206095306337506], [...</td>\n",
       "      <td>[{'value': 2970.0807760737507, 'variety': {}, ...</td>\n",
       "      <td>6.525776</td>\n",
       "      <td>[2019]</td>\n",
       "      <td>[hass, fuerte, zutano]</td>\n",
       "      <td>[{'level_name': 'empresa', 'name': 'agricola c...</td>\n",
       "      <td>90222</td>\n",
       "      <td>lote AGRICOLA CHAPI.DON ERNESTO.PAL-2.55</td>\n",
       "      <td>...</td>\n",
       "      <td>[[1.0, 1.0, 1.0, 1.0, 1.0, 1.0, 1.0, 1.0, 1.0,...</td>\n",
       "      <td>0.619242</td>\n",
       "      <td>[[1.0, 1.0, 1.0, 1.0, 1.0, 1.0, 1.0, 1.0, 1.0,...</td>\n",
       "      <td>0.597623</td>\n",
       "      <td>[[1.0, 1.0, 1.0, 1.0, 1.0, 1.0, 1.0, 1.0, 1.0,...</td>\n",
       "      <td>0.604936</td>\n",
       "      <td>[[1.0, 1.0, 1.0, 1.0, 1.0, 1.0, 1.0, 1.0, 1.0,...</td>\n",
       "      <td>0.615917</td>\n",
       "      <td>[[1.0, 1.0, 1.0, 1.0, 1.0, 1.0, 1.0, 1.0, 1.0,...</td>\n",
       "      <td>0.650880</td>\n",
       "    </tr>\n",
       "    <tr>\n",
       "      <th>8</th>\n",
       "      <td>Feature</td>\n",
       "      <td>Polygon</td>\n",
       "      <td>[[[-75.64031869971863, -14.206095306337506], [...</td>\n",
       "      <td>[{'value': 4789.354613313465, 'variety': {}, '...</td>\n",
       "      <td>6.561207</td>\n",
       "      <td>[2019]</td>\n",
       "      <td>[hass, fuerte, zutano]</td>\n",
       "      <td>[{'level_name': 'empresa', 'name': 'agricola c...</td>\n",
       "      <td>90224</td>\n",
       "      <td>lote AGRICOLA CHAPI.DON ERNESTO.PAL-3.60</td>\n",
       "      <td>...</td>\n",
       "      <td>[[1.0, 1.0, 1.0, 1.0, 1.0, 1.0, 1.0, 1.0, 1.0,...</td>\n",
       "      <td>0.586352</td>\n",
       "      <td>[[1.0, 1.0, 1.0, 1.0, 1.0, 1.0, 1.0, 1.0, 1.0,...</td>\n",
       "      <td>0.560072</td>\n",
       "      <td>[[1.0, 1.0, 1.0, 1.0, 1.0, 1.0, 1.0, 1.0, 1.0,...</td>\n",
       "      <td>0.575251</td>\n",
       "      <td>[[1.0, 1.0, 1.0, 1.0, 1.0, 1.0, 1.0, 1.0, 1.0,...</td>\n",
       "      <td>0.587824</td>\n",
       "      <td>[[1.0, 1.0, 1.0, 1.0, 1.0, 1.0, 1.0, 1.0, 1.0,...</td>\n",
       "      <td>0.625330</td>\n",
       "    </tr>\n",
       "    <tr>\n",
       "      <th>9</th>\n",
       "      <td>Feature</td>\n",
       "      <td>Polygon</td>\n",
       "      <td>[[[-75.64298986878343, -14.20702879053244], [-...</td>\n",
       "      <td>[{'value': 4222.732171703558, 'variety': {}, '...</td>\n",
       "      <td>6.569781</td>\n",
       "      <td>[2019]</td>\n",
       "      <td>[hass, fuerte, zutano]</td>\n",
       "      <td>[{'level_name': 'empresa', 'name': 'agricola c...</td>\n",
       "      <td>90225</td>\n",
       "      <td>lote AGRICOLA CHAPI.DON ERNESTO.PAL-3.61</td>\n",
       "      <td>...</td>\n",
       "      <td>[[1.0, 1.0, 1.0, 1.0, 1.0, 1.0, 1.0, 1.0, 1.0,...</td>\n",
       "      <td>0.582008</td>\n",
       "      <td>[[1.0, 1.0, 1.0, 1.0, 1.0, 1.0, 1.0, 1.0, 1.0,...</td>\n",
       "      <td>0.561150</td>\n",
       "      <td>[[1.0, 1.0, 1.0, 1.0, 1.0, 1.0, 1.0, 1.0, 1.0,...</td>\n",
       "      <td>0.561151</td>\n",
       "      <td>[[1.0, 1.0, 1.0, 1.0, 1.0, 1.0, 1.0, 1.0, 1.0,...</td>\n",
       "      <td>0.582440</td>\n",
       "      <td>[[1.0, 1.0, 1.0, 1.0, 1.0, 1.0, 1.0, 1.0, 1.0,...</td>\n",
       "      <td>0.617909</td>\n",
       "    </tr>\n",
       "    <tr>\n",
       "      <th>10</th>\n",
       "      <td>Feature</td>\n",
       "      <td>Polygon</td>\n",
       "      <td>[[[-75.63632248518424, -14.208809605114135], [...</td>\n",
       "      <td>[{'value': 6276.873684788184, 'variety': {}, '...</td>\n",
       "      <td>6.500289</td>\n",
       "      <td>[2019]</td>\n",
       "      <td>[hass, fuerte, zutano]</td>\n",
       "      <td>[{'level_name': 'empresa', 'name': 'agricola c...</td>\n",
       "      <td>90227</td>\n",
       "      <td>lote AGRICOLA CHAPI.DON ERNESTO.PAL-4.66</td>\n",
       "      <td>...</td>\n",
       "      <td>[[1.0, 1.0, 1.0, 1.0, 1.0, 1.0, 1.0, 1.0, 1.0,...</td>\n",
       "      <td>0.569640</td>\n",
       "      <td>[[1.0, 1.0, 1.0, 1.0, 1.0, 1.0, 1.0, 1.0, 1.0,...</td>\n",
       "      <td>0.548865</td>\n",
       "      <td>[[1.0, 1.0, 1.0, 1.0, 1.0, 1.0, 1.0, 1.0, 1.0,...</td>\n",
       "      <td>0.553014</td>\n",
       "      <td>[[1.0, 1.0, 1.0, 1.0, 1.0, 1.0, 1.0, 1.0, 1.0,...</td>\n",
       "      <td>0.576665</td>\n",
       "      <td>[[1.0, 1.0, 1.0, 1.0, 1.0, 1.0, 1.0, 1.0, 1.0,...</td>\n",
       "      <td>0.617708</td>\n",
       "    </tr>\n",
       "    <tr>\n",
       "      <th>11</th>\n",
       "      <td>Feature</td>\n",
       "      <td>Polygon</td>\n",
       "      <td>[[[-75.63898670766262, -14.209739586312066], [...</td>\n",
       "      <td>[{'value': 5119.125264626776, 'variety': {}, '...</td>\n",
       "      <td>6.536344</td>\n",
       "      <td>[2019]</td>\n",
       "      <td>[hass, fuerte, zutano]</td>\n",
       "      <td>[{'level_name': 'empresa', 'name': 'agricola c...</td>\n",
       "      <td>90228</td>\n",
       "      <td>lote AGRICOLA CHAPI.DON ERNESTO.PAL-4.67</td>\n",
       "      <td>...</td>\n",
       "      <td>[[1.0, 1.0, 1.0, 1.0, 1.0, 1.0, 1.0, 1.0, 1.0,...</td>\n",
       "      <td>0.581051</td>\n",
       "      <td>[[1.0, 1.0, 1.0, 1.0, 1.0, 1.0, 1.0, 1.0, 1.0,...</td>\n",
       "      <td>0.560429</td>\n",
       "      <td>[[1.0, 1.0, 1.0, 1.0, 1.0, 1.0, 1.0, 1.0, 1.0,...</td>\n",
       "      <td>0.562898</td>\n",
       "      <td>[[1.0, 1.0, 1.0, 1.0, 1.0, 1.0, 1.0, 1.0, 1.0,...</td>\n",
       "      <td>0.582903</td>\n",
       "      <td>[[1.0, 1.0, 1.0, 1.0, 1.0, 1.0, 1.0, 1.0, 1.0,...</td>\n",
       "      <td>0.627583</td>\n",
       "    </tr>\n",
       "    <tr>\n",
       "      <th>12</th>\n",
       "      <td>Feature</td>\n",
       "      <td>Polygon</td>\n",
       "      <td>[[[-75.63565550101005, -14.210630908493748], [...</td>\n",
       "      <td>[{'value': 5492.066598919182, 'variety': {}, '...</td>\n",
       "      <td>6.529297</td>\n",
       "      <td>[2019]</td>\n",
       "      <td>[hass, fuerte, zutano]</td>\n",
       "      <td>[{'level_name': 'empresa', 'name': 'agricola c...</td>\n",
       "      <td>90229</td>\n",
       "      <td>lote AGRICOLA CHAPI.DON ERNESTO.PAL-4.72</td>\n",
       "      <td>...</td>\n",
       "      <td>[[1.0, 1.0, 1.0, 1.0, 1.0, 1.0, 1.0, 1.0, 1.0,...</td>\n",
       "      <td>0.607967</td>\n",
       "      <td>[[1.0, 1.0, 1.0, 1.0, 1.0, 1.0, 1.0, 1.0, 1.0,...</td>\n",
       "      <td>0.594334</td>\n",
       "      <td>[[1.0, 1.0, 1.0, 1.0, 1.0, 1.0, 1.0, 1.0, 1.0,...</td>\n",
       "      <td>0.592131</td>\n",
       "      <td>[[1.0, 1.0, 1.0, 1.0, 1.0, 1.0, 1.0, 1.0, 1.0,...</td>\n",
       "      <td>0.613801</td>\n",
       "      <td>[[1.0, 1.0, 1.0, 1.0, 1.0, 1.0, 1.0, 1.0, 1.0,...</td>\n",
       "      <td>0.651111</td>\n",
       "    </tr>\n",
       "    <tr>\n",
       "      <th>13</th>\n",
       "      <td>Feature</td>\n",
       "      <td>Polygon</td>\n",
       "      <td>[[[-75.63832148728072, -14.211559560260621], [...</td>\n",
       "      <td>[{'value': 5500.603222883152, 'variety': {}, '...</td>\n",
       "      <td>6.548133</td>\n",
       "      <td>[2019]</td>\n",
       "      <td>[hass, fuerte, zutano]</td>\n",
       "      <td>[{'level_name': 'empresa', 'name': 'agricola c...</td>\n",
       "      <td>90230</td>\n",
       "      <td>lote AGRICOLA CHAPI.DON ERNESTO.PAL-4.73</td>\n",
       "      <td>...</td>\n",
       "      <td>[[1.0, 1.0, 1.0, 1.0, 1.0, 1.0, 1.0, 1.0, 1.0,...</td>\n",
       "      <td>0.611271</td>\n",
       "      <td>[[1.0, 1.0, 1.0, 1.0, 1.0, 1.0, 1.0, 1.0, 1.0,...</td>\n",
       "      <td>0.597917</td>\n",
       "      <td>[[1.0, 1.0, 1.0, 1.0, 1.0, 1.0, 1.0, 1.0, 1.0,...</td>\n",
       "      <td>0.596103</td>\n",
       "      <td>[[1.0, 1.0, 1.0, 1.0, 1.0, 1.0, 1.0, 1.0, 1.0,...</td>\n",
       "      <td>0.616189</td>\n",
       "      <td>[[1.0, 1.0, 1.0, 1.0, 1.0, 1.0, 1.0, 1.0, 1.0,...</td>\n",
       "      <td>0.655810</td>\n",
       "    </tr>\n",
       "    <tr>\n",
       "      <th>14</th>\n",
       "      <td>Feature</td>\n",
       "      <td>Polygon</td>\n",
       "      <td>[[[-75.63498773608408, -14.212454314475199], [...</td>\n",
       "      <td>[{'value': 5779.100809810456, 'variety': {}, '...</td>\n",
       "      <td>6.544873</td>\n",
       "      <td>[2019]</td>\n",
       "      <td>[hass, fuerte, zutano]</td>\n",
       "      <td>[{'level_name': 'empresa', 'name': 'agricola c...</td>\n",
       "      <td>90231</td>\n",
       "      <td>lote AGRICOLA CHAPI.DON ERNESTO.PAL-4.78</td>\n",
       "      <td>...</td>\n",
       "      <td>[[1.0, 1.0, 1.0, 1.0, 1.0, 1.0, 1.0, 1.0, 1.0,...</td>\n",
       "      <td>0.620903</td>\n",
       "      <td>[[1.0, 1.0, 1.0, 1.0, 1.0, 1.0, 1.0, 1.0, 1.0,...</td>\n",
       "      <td>0.610825</td>\n",
       "      <td>[[1.0, 1.0, 1.0, 1.0, 1.0, 1.0, 1.0, 1.0, 1.0,...</td>\n",
       "      <td>0.612160</td>\n",
       "      <td>[[1.0, 1.0, 1.0, 1.0, 1.0, 1.0, 1.0, 1.0, 1.0,...</td>\n",
       "      <td>0.629628</td>\n",
       "      <td>[[1.0, 1.0, 1.0, 1.0, 1.0, 1.0, 1.0, 1.0, 1.0,...</td>\n",
       "      <td>0.667310</td>\n",
       "    </tr>\n",
       "    <tr>\n",
       "      <th>15</th>\n",
       "      <td>Feature</td>\n",
       "      <td>Polygon</td>\n",
       "      <td>[[[-75.63765440850564, -14.213384589206255], [...</td>\n",
       "      <td>[{'value': 5194.8620884443, 'variety': {}, 'me...</td>\n",
       "      <td>6.575069</td>\n",
       "      <td>[2019]</td>\n",
       "      <td>[hass, fuerte, zutano]</td>\n",
       "      <td>[{'level_name': 'empresa', 'name': 'agricola c...</td>\n",
       "      <td>90232</td>\n",
       "      <td>lote AGRICOLA CHAPI.DON ERNESTO.PAL-4.79</td>\n",
       "      <td>...</td>\n",
       "      <td>[[1.0, 1.0, 1.0, 1.0, 1.0, 1.0, 1.0, 1.0, 1.0,...</td>\n",
       "      <td>0.632569</td>\n",
       "      <td>[[1.0, 1.0, 1.0, 1.0, 1.0, 1.0, 1.0, 1.0, 1.0,...</td>\n",
       "      <td>0.620516</td>\n",
       "      <td>[[1.0, 1.0, 1.0, 1.0, 1.0, 1.0, 1.0, 1.0, 1.0,...</td>\n",
       "      <td>0.622821</td>\n",
       "      <td>[[1.0, 1.0, 1.0, 1.0, 1.0, 1.0, 1.0, 1.0, 1.0,...</td>\n",
       "      <td>0.639436</td>\n",
       "      <td>[[1.0, 1.0, 1.0, 1.0, 1.0, 1.0, 1.0, 1.0, 1.0,...</td>\n",
       "      <td>0.680620</td>\n",
       "    </tr>\n",
       "    <tr>\n",
       "      <th>16</th>\n",
       "      <td>Feature</td>\n",
       "      <td>Polygon</td>\n",
       "      <td>[[[-75.63765440850564, -14.213384589206255], [...</td>\n",
       "      <td>[{'value': 5348.496340542419, 'variety': {}, '...</td>\n",
       "      <td>6.304632</td>\n",
       "      <td>[2019]</td>\n",
       "      <td>[hass, fuerte, zutano]</td>\n",
       "      <td>[{'level_name': 'empresa', 'name': 'agricola c...</td>\n",
       "      <td>90233</td>\n",
       "      <td>lote AGRICOLA CHAPI.DON ERNESTO.PAL-4.84</td>\n",
       "      <td>...</td>\n",
       "      <td>[[1.0, 1.0, 1.0, 1.0, 1.0, 1.0, 1.0, 1.0, 1.0,...</td>\n",
       "      <td>0.594099</td>\n",
       "      <td>[[1.0, 1.0, 1.0, 1.0, 1.0, 1.0, 1.0, 1.0, 1.0,...</td>\n",
       "      <td>0.587340</td>\n",
       "      <td>[[1.0, 1.0, 1.0, 1.0, 1.0, 1.0, 1.0, 1.0, 1.0,...</td>\n",
       "      <td>0.580381</td>\n",
       "      <td>[[1.0, 1.0, 1.0, 1.0, 1.0, 1.0, 1.0, 1.0, 1.0,...</td>\n",
       "      <td>0.595026</td>\n",
       "      <td>[[1.0, 1.0, 1.0, 1.0, 1.0, 1.0, 1.0, 1.0, 1.0,...</td>\n",
       "      <td>0.634006</td>\n",
       "    </tr>\n",
       "    <tr>\n",
       "      <th>17</th>\n",
       "      <td>Feature</td>\n",
       "      <td>Polygon</td>\n",
       "      <td>[[[-75.64033173320622, -14.214318541860234], [...</td>\n",
       "      <td>[{'value': 5390.6656650079785, 'variety': {}, ...</td>\n",
       "      <td>6.333013</td>\n",
       "      <td>[2019]</td>\n",
       "      <td>[hass, fuerte, zutano]</td>\n",
       "      <td>[{'level_name': 'empresa', 'name': 'agricola c...</td>\n",
       "      <td>90234</td>\n",
       "      <td>lote AGRICOLA CHAPI.DON ERNESTO.PAL-4.85</td>\n",
       "      <td>...</td>\n",
       "      <td>[[1.0, 1.0, 1.0, 1.0, 1.0, 1.0, 1.0, 1.0, 1.0,...</td>\n",
       "      <td>0.610499</td>\n",
       "      <td>[[1.0, 1.0, 1.0, 1.0, 1.0, 1.0, 1.0, 1.0, 1.0,...</td>\n",
       "      <td>0.601929</td>\n",
       "      <td>[[1.0, 1.0, 1.0, 1.0, 1.0, 1.0, 1.0, 1.0, 1.0,...</td>\n",
       "      <td>0.603528</td>\n",
       "      <td>[[1.0, 1.0, 1.0, 1.0, 1.0, 1.0, 1.0, 1.0, 1.0,...</td>\n",
       "      <td>0.611830</td>\n",
       "      <td>[[1.0, 1.0, 1.0, 1.0, 1.0, 1.0, 1.0, 1.0, 1.0,...</td>\n",
       "      <td>0.660302</td>\n",
       "    </tr>\n",
       "    <tr>\n",
       "      <th>18</th>\n",
       "      <td>Feature</td>\n",
       "      <td>Polygon</td>\n",
       "      <td>[[[-75.64434649855319, -14.19514832766311], [-...</td>\n",
       "      <td>[{'value': 4245.59610452465, 'variety': {}, 'm...</td>\n",
       "      <td>6.372246</td>\n",
       "      <td>[2019]</td>\n",
       "      <td>[hass, fuerte, zutano]</td>\n",
       "      <td>[{'level_name': 'empresa', 'name': 'agricola c...</td>\n",
       "      <td>90250</td>\n",
       "      <td>lote AGRICOLA CHAPI.DON ERNESTO.PAL-5.19</td>\n",
       "      <td>...</td>\n",
       "      <td>[[1.0, 1.0, 1.0, 1.0, 1.0, 1.0, 1.0, 1.0, 1.0,...</td>\n",
       "      <td>0.423144</td>\n",
       "      <td>[[1.0, 1.0, 1.0, 1.0, 1.0, 1.0, 1.0, 1.0, 1.0,...</td>\n",
       "      <td>0.419319</td>\n",
       "      <td>[[1.0, 1.0, 1.0, 1.0, 1.0, 1.0, 1.0, 1.0, 1.0,...</td>\n",
       "      <td>0.416034</td>\n",
       "      <td>[[1.0, 1.0, 1.0, 1.0, 1.0, 1.0, 1.0, 1.0, 1.0,...</td>\n",
       "      <td>0.444886</td>\n",
       "      <td>[[1.0, 1.0, 1.0, 1.0, 1.0, 1.0, 1.0, 1.0, 1.0,...</td>\n",
       "      <td>0.453776</td>\n",
       "    </tr>\n",
       "    <tr>\n",
       "      <th>19</th>\n",
       "      <td>Feature</td>\n",
       "      <td>Polygon</td>\n",
       "      <td>[[[-75.6523179645351, -14.19796021341869], [-7...</td>\n",
       "      <td>[{'value': 4589.172339437979, 'variety': {}, '...</td>\n",
       "      <td>6.302315</td>\n",
       "      <td>[2019]</td>\n",
       "      <td>[hass, fuerte, zutano]</td>\n",
       "      <td>[{'level_name': 'empresa', 'name': 'agricola c...</td>\n",
       "      <td>90251</td>\n",
       "      <td>lote AGRICOLA CHAPI.DON ERNESTO.PAL-5.27</td>\n",
       "      <td>...</td>\n",
       "      <td>[[1.0, 1.0, 1.0, 1.0, 1.0, 1.0, 1.0, 1.0, 1.0,...</td>\n",
       "      <td>0.422826</td>\n",
       "      <td>[[1.0, 1.0, 1.0, 1.0, 1.0, 1.0, 1.0, 1.0, 1.0,...</td>\n",
       "      <td>0.416353</td>\n",
       "      <td>[[1.0, 1.0, 1.0, 1.0, 1.0, 1.0, 1.0, 1.0, 1.0,...</td>\n",
       "      <td>0.410405</td>\n",
       "      <td>[[1.0, 1.0, 1.0, 1.0, 1.0, 1.0, 1.0, 1.0, 1.0,...</td>\n",
       "      <td>0.433540</td>\n",
       "      <td>[[1.0, 1.0, 1.0, 1.0, 1.0, 1.0, 1.0, 1.0, 1.0,...</td>\n",
       "      <td>0.448870</td>\n",
       "    </tr>\n",
       "    <tr>\n",
       "      <th>20</th>\n",
       "      <td>Feature</td>\n",
       "      <td>Polygon</td>\n",
       "      <td>[[[-75.64364239237688, -14.19694295233761], [-...</td>\n",
       "      <td>[{'value': 4703.701322623691, 'variety': {}, '...</td>\n",
       "      <td>6.355310</td>\n",
       "      <td>[2019]</td>\n",
       "      <td>[hass, fuerte, zutano]</td>\n",
       "      <td>[{'level_name': 'empresa', 'name': 'agricola c...</td>\n",
       "      <td>90246</td>\n",
       "      <td>lote AGRICOLA CHAPI.DON ERNESTO.PAL-5.30</td>\n",
       "      <td>...</td>\n",
       "      <td>[[1.0, 1.0, 1.0, 1.0, 1.0, 1.0, 1.0, 1.0, 1.0,...</td>\n",
       "      <td>0.446591</td>\n",
       "      <td>[[1.0, 1.0, 1.0, 1.0, 1.0, 1.0, 1.0, 1.0, 1.0,...</td>\n",
       "      <td>0.444560</td>\n",
       "      <td>[[1.0, 1.0, 1.0, 1.0, 1.0, 1.0, 1.0, 1.0, 1.0,...</td>\n",
       "      <td>0.437734</td>\n",
       "      <td>[[1.0, 1.0, 1.0, 1.0, 1.0, 1.0, 1.0, 1.0, 1.0,...</td>\n",
       "      <td>0.467246</td>\n",
       "      <td>[[1.0, 1.0, 1.0, 1.0, 1.0, 1.0, 1.0, 1.0, 1.0,...</td>\n",
       "      <td>0.481543</td>\n",
       "    </tr>\n",
       "    <tr>\n",
       "      <th>21</th>\n",
       "      <td>Feature</td>\n",
       "      <td>Polygon</td>\n",
       "      <td>[[[-75.64632350714204, -14.197881148780363], [...</td>\n",
       "      <td>[{'value': 4719.9518967964505, 'variety': {}, ...</td>\n",
       "      <td>6.330826</td>\n",
       "      <td>[2019]</td>\n",
       "      <td>[hass, fuerte, zutano]</td>\n",
       "      <td>[{'level_name': 'empresa', 'name': 'agricola c...</td>\n",
       "      <td>90247</td>\n",
       "      <td>lote AGRICOLA CHAPI.DON ERNESTO.PAL-5.31</td>\n",
       "      <td>...</td>\n",
       "      <td>[[1.0, 1.0, 1.0, 1.0, 1.0, 1.0, 1.0, 1.0, 1.0,...</td>\n",
       "      <td>0.430928</td>\n",
       "      <td>[[1.0, 1.0, 1.0, 1.0, 1.0, 1.0, 1.0, 1.0, 1.0,...</td>\n",
       "      <td>0.429132</td>\n",
       "      <td>[[1.0, 1.0, 1.0, 1.0, 1.0, 1.0, 1.0, 1.0, 1.0,...</td>\n",
       "      <td>0.418058</td>\n",
       "      <td>[[1.0, 1.0, 1.0, 1.0, 1.0, 1.0, 1.0, 1.0, 1.0,...</td>\n",
       "      <td>0.447084</td>\n",
       "      <td>[[1.0, 1.0, 1.0, 1.0, 1.0, 1.0, 1.0, 1.0, 1.0,...</td>\n",
       "      <td>0.460328</td>\n",
       "    </tr>\n",
       "    <tr>\n",
       "      <th>22</th>\n",
       "      <td>Feature</td>\n",
       "      <td>Polygon</td>\n",
       "      <td>[[[-75.65166673445216, -14.19973524297276], [-...</td>\n",
       "      <td>[{'value': 5116.360841332233, 'variety': {}, '...</td>\n",
       "      <td>6.287884</td>\n",
       "      <td>[2019]</td>\n",
       "      <td>[hass, fuerte, zutano]</td>\n",
       "      <td>[{'level_name': 'empresa', 'name': 'agricola c...</td>\n",
       "      <td>90248</td>\n",
       "      <td>lote AGRICOLA CHAPI.DON ERNESTO.PAL-5.33</td>\n",
       "      <td>...</td>\n",
       "      <td>[[1.0, 1.0, 1.0, 1.0, 1.0, 1.0, 1.0, 1.0, 1.0,...</td>\n",
       "      <td>0.446316</td>\n",
       "      <td>[[1.0, 1.0, 1.0, 1.0, 1.0, 1.0, 1.0, 1.0, 1.0,...</td>\n",
       "      <td>0.443658</td>\n",
       "      <td>[[1.0, 1.0, 1.0, 1.0, 1.0, 1.0, 1.0, 1.0, 1.0,...</td>\n",
       "      <td>0.436547</td>\n",
       "      <td>[[1.0, 1.0, 1.0, 1.0, 1.0, 1.0, 1.0, 1.0, 1.0,...</td>\n",
       "      <td>0.454179</td>\n",
       "      <td>[[1.0, 1.0, 1.0, 1.0, 1.0, 1.0, 1.0, 1.0, 1.0,...</td>\n",
       "      <td>0.477763</td>\n",
       "    </tr>\n",
       "    <tr>\n",
       "      <th>23</th>\n",
       "      <td>Feature</td>\n",
       "      <td>Polygon</td>\n",
       "      <td>[[[-75.64497315728985, -14.193291049214046], [...</td>\n",
       "      <td>[{'value': 537.1202632311536, 'variety': {}, '...</td>\n",
       "      <td>6.237954</td>\n",
       "      <td>[2019]</td>\n",
       "      <td>[hass, fuerte, zutano]</td>\n",
       "      <td>[{'level_name': 'empresa', 'name': 'agricola c...</td>\n",
       "      <td>90236</td>\n",
       "      <td>lote AGRICOLA CHAPI.DON ERNESTO.PAL-6.13</td>\n",
       "      <td>...</td>\n",
       "      <td>[[1.0, 1.0, 1.0, 1.0, 1.0, 1.0, 1.0, 1.0, 1.0,...</td>\n",
       "      <td>0.285528</td>\n",
       "      <td>[[1.0, 1.0, 1.0, 1.0, 1.0, 1.0, 1.0, 1.0, 1.0,...</td>\n",
       "      <td>0.279715</td>\n",
       "      <td>[[1.0, 1.0, 1.0, 1.0, 1.0, 1.0, 1.0, 1.0, 1.0,...</td>\n",
       "      <td>0.291143</td>\n",
       "      <td>[[1.0, 1.0, 1.0, 1.0, 1.0, 1.0, 1.0, 1.0, 1.0,...</td>\n",
       "      <td>0.345177</td>\n",
       "      <td>[[1.0, 1.0, 1.0, 1.0, 1.0, 1.0, 1.0, 1.0, 1.0,...</td>\n",
       "      <td>0.350875</td>\n",
       "    </tr>\n",
       "    <tr>\n",
       "      <th>24</th>\n",
       "      <td>Feature</td>\n",
       "      <td>Polygon</td>\n",
       "      <td>[[[-75.64769678112165, -14.194238756458473], [...</td>\n",
       "      <td>[{'value': 758.980571201504, 'variety': {}, 'm...</td>\n",
       "      <td>6.226690</td>\n",
       "      <td>[2019]</td>\n",
       "      <td>[hass, fuerte, zutano]</td>\n",
       "      <td>[{'level_name': 'empresa', 'name': 'agricola c...</td>\n",
       "      <td>90237</td>\n",
       "      <td>lote AGRICOLA CHAPI.DON ERNESTO.PAL-6.14</td>\n",
       "      <td>...</td>\n",
       "      <td>[[1.0, 1.0, 1.0, 1.0, 1.0, 1.0, 1.0, 1.0, 1.0,...</td>\n",
       "      <td>0.273172</td>\n",
       "      <td>[[1.0, 1.0, 1.0, 1.0, 1.0, 1.0, 1.0, 1.0, 1.0,...</td>\n",
       "      <td>0.268644</td>\n",
       "      <td>[[1.0, 1.0, 1.0, 1.0, 1.0, 1.0, 1.0, 1.0, 1.0,...</td>\n",
       "      <td>0.285139</td>\n",
       "      <td>[[1.0, 1.0, 1.0, 1.0, 1.0, 1.0, 1.0, 1.0, 1.0,...</td>\n",
       "      <td>0.337190</td>\n",
       "      <td>[[1.0, 1.0, 1.0, 1.0, 1.0, 1.0, 1.0, 1.0, 1.0,...</td>\n",
       "      <td>0.324875</td>\n",
       "    </tr>\n",
       "    <tr>\n",
       "      <th>25</th>\n",
       "      <td>Feature</td>\n",
       "      <td>Polygon</td>\n",
       "      <td>[[[-75.6503776656775, -14.195171553670908], [-...</td>\n",
       "      <td>[{'value': 791.561625424644, 'variety': {}, 'm...</td>\n",
       "      <td>6.191944</td>\n",
       "      <td>[2019]</td>\n",
       "      <td>[hass, fuerte, zutano]</td>\n",
       "      <td>[{'level_name': 'empresa', 'name': 'agricola c...</td>\n",
       "      <td>90238</td>\n",
       "      <td>lote AGRICOLA CHAPI.DON ERNESTO.PAL-6.15</td>\n",
       "      <td>...</td>\n",
       "      <td>[[1.0, 1.0, 1.0, 1.0, 1.0, 1.0, 1.0, 1.0, 1.0,...</td>\n",
       "      <td>0.269381</td>\n",
       "      <td>[[1.0, 1.0, 1.0, 1.0, 1.0, 1.0, 1.0, 1.0, 1.0,...</td>\n",
       "      <td>0.268726</td>\n",
       "      <td>[[1.0, 1.0, 1.0, 1.0, 1.0, 1.0, 1.0, 1.0, 1.0,...</td>\n",
       "      <td>0.293205</td>\n",
       "      <td>[[1.0, 1.0, 1.0, 1.0, 1.0, 1.0, 1.0, 1.0, 1.0,...</td>\n",
       "      <td>0.341936</td>\n",
       "      <td>[[1.0, 1.0, 1.0, 1.0, 1.0, 1.0, 1.0, 1.0, 1.0,...</td>\n",
       "      <td>0.334321</td>\n",
       "    </tr>\n",
       "    <tr>\n",
       "      <th>26</th>\n",
       "      <td>Feature</td>\n",
       "      <td>Polygon</td>\n",
       "      <td>[[[-75.64166749773169, -14.194213164268845], [...</td>\n",
       "      <td>[{'value': 767.2799291882275, 'variety': {}, '...</td>\n",
       "      <td>6.334700</td>\n",
       "      <td>[2019]</td>\n",
       "      <td>[hass, fuerte, zutano]</td>\n",
       "      <td>[{'level_name': 'empresa', 'name': 'agricola c...</td>\n",
       "      <td>90239</td>\n",
       "      <td>lote AGRICOLA CHAPI.DON ERNESTO.PAL-6.18</td>\n",
       "      <td>...</td>\n",
       "      <td>[[1.0, 1.0, 1.0, 1.0, 1.0, 1.0, 1.0, 1.0, 1.0,...</td>\n",
       "      <td>0.328287</td>\n",
       "      <td>[[1.0, 1.0, 1.0, 1.0, 1.0, 1.0, 1.0, 1.0, 1.0,...</td>\n",
       "      <td>0.319118</td>\n",
       "      <td>[[1.0, 1.0, 1.0, 1.0, 1.0, 1.0, 1.0, 1.0, 1.0,...</td>\n",
       "      <td>0.330677</td>\n",
       "      <td>[[1.0, 1.0, 1.0, 1.0, 1.0, 1.0, 1.0, 1.0, 1.0,...</td>\n",
       "      <td>0.381690</td>\n",
       "      <td>[[1.0, 1.0, 1.0, 1.0, 1.0, 1.0, 1.0, 1.0, 1.0,...</td>\n",
       "      <td>0.392911</td>\n",
       "    </tr>\n",
       "    <tr>\n",
       "      <th>27</th>\n",
       "      <td>Feature</td>\n",
       "      <td>Polygon</td>\n",
       "      <td>[[[-75.64701007809187, -14.196107720636288], [...</td>\n",
       "      <td>[{'value': 1474.8459764210165, 'variety': {}, ...</td>\n",
       "      <td>6.469184</td>\n",
       "      <td>[2019]</td>\n",
       "      <td>[hass, fuerte, zutano]</td>\n",
       "      <td>[{'level_name': 'empresa', 'name': 'agricola c...</td>\n",
       "      <td>90240</td>\n",
       "      <td>lote AGRICOLA CHAPI.DON ERNESTO.PAL-6.20</td>\n",
       "      <td>...</td>\n",
       "      <td>[[1.0, 1.0, 1.0, 1.0, 1.0, 1.0, 1.0, 1.0, 1.0,...</td>\n",
       "      <td>0.367120</td>\n",
       "      <td>[[1.0, 1.0, 1.0, 1.0, 1.0, 1.0, 1.0, 1.0, 1.0,...</td>\n",
       "      <td>0.363346</td>\n",
       "      <td>[[1.0, 1.0, 1.0, 1.0, 1.0, 1.0, 1.0, 1.0, 1.0,...</td>\n",
       "      <td>0.377239</td>\n",
       "      <td>[[1.0, 1.0, 1.0, 1.0, 1.0, 1.0, 1.0, 1.0, 1.0,...</td>\n",
       "      <td>0.420472</td>\n",
       "      <td>[[1.0, 1.0, 1.0, 1.0, 1.0, 1.0, 1.0, 1.0, 1.0,...</td>\n",
       "      <td>0.423330</td>\n",
       "    </tr>\n",
       "    <tr>\n",
       "      <th>28</th>\n",
       "      <td>Feature</td>\n",
       "      <td>Polygon</td>\n",
       "      <td>[[[-75.64968970670726, -14.19704295019232], [-...</td>\n",
       "      <td>[{'value': 920.4547379474349, 'variety': {}, '...</td>\n",
       "      <td>6.448333</td>\n",
       "      <td>[2019]</td>\n",
       "      <td>[hass, fuerte, zutano]</td>\n",
       "      <td>[{'level_name': 'empresa', 'name': 'agricola c...</td>\n",
       "      <td>90241</td>\n",
       "      <td>lote AGRICOLA CHAPI.DON ERNESTO.PAL-6.21</td>\n",
       "      <td>...</td>\n",
       "      <td>[[1.0, 1.0, 1.0, 1.0, 1.0, 1.0, 1.0, 1.0, 1.0,...</td>\n",
       "      <td>0.313297</td>\n",
       "      <td>[[1.0, 1.0, 1.0, 1.0, 1.0, 1.0, 1.0, 1.0, 1.0,...</td>\n",
       "      <td>0.312059</td>\n",
       "      <td>[[1.0, 1.0, 1.0, 1.0, 1.0, 1.0, 1.0, 1.0, 1.0,...</td>\n",
       "      <td>0.325276</td>\n",
       "      <td>[[1.0, 1.0, 1.0, 1.0, 1.0, 1.0, 1.0, 1.0, 1.0,...</td>\n",
       "      <td>0.370825</td>\n",
       "      <td>[[1.0, 1.0, 1.0, 1.0, 1.0, 1.0, 1.0, 1.0, 1.0,...</td>\n",
       "      <td>0.370396</td>\n",
       "    </tr>\n",
       "    <tr>\n",
       "      <th>29</th>\n",
       "      <td>Feature</td>\n",
       "      <td>Polygon</td>\n",
       "      <td>[[[-75.64430202199843, -14.195132802468311], [...</td>\n",
       "      <td>[{'value': 746.8765918999529, 'variety': {}, '...</td>\n",
       "      <td>6.423636</td>\n",
       "      <td>[2019]</td>\n",
       "      <td>[hass, fuerte, zutano]</td>\n",
       "      <td>[{'level_name': 'empresa', 'name': 'agricola c...</td>\n",
       "      <td>90242</td>\n",
       "      <td>lote AGRICOLA CHAPI.DON ERNESTO.PAL-6.24</td>\n",
       "      <td>...</td>\n",
       "      <td>[[1.0, 1.0, 1.0, 1.0, 1.0, 1.0, 1.0, 1.0, 1.0,...</td>\n",
       "      <td>0.313858</td>\n",
       "      <td>[[1.0, 1.0, 1.0, 1.0, 1.0, 1.0, 1.0, 1.0, 1.0,...</td>\n",
       "      <td>0.309351</td>\n",
       "      <td>[[1.0, 1.0, 1.0, 1.0, 1.0, 1.0, 1.0, 1.0, 1.0,...</td>\n",
       "      <td>0.313759</td>\n",
       "      <td>[[1.0, 1.0, 1.0, 1.0, 1.0, 1.0, 1.0, 1.0, 1.0,...</td>\n",
       "      <td>0.365163</td>\n",
       "      <td>[[1.0, 1.0, 1.0, 1.0, 1.0, 1.0, 1.0, 1.0, 1.0,...</td>\n",
       "      <td>0.373392</td>\n",
       "    </tr>\n",
       "    <tr>\n",
       "      <th>30</th>\n",
       "      <td>Feature</td>\n",
       "      <td>Polygon</td>\n",
       "      <td>[[[-75.6469826482682, -14.196068495618299], [-...</td>\n",
       "      <td>[{'value': 1808.8183141168263, 'variety': {}, ...</td>\n",
       "      <td>6.423337</td>\n",
       "      <td>[2019]</td>\n",
       "      <td>[hass, fuerte, zutano]</td>\n",
       "      <td>[{'level_name': 'empresa', 'name': 'agricola c...</td>\n",
       "      <td>90243</td>\n",
       "      <td>lote AGRICOLA CHAPI.DON ERNESTO.PAL-6.25</td>\n",
       "      <td>...</td>\n",
       "      <td>[[1.0, 1.0, 1.0, 1.0, 1.0, 1.0, 1.0, 1.0, 1.0,...</td>\n",
       "      <td>0.397642</td>\n",
       "      <td>[[1.0, 1.0, 1.0, 1.0, 1.0, 1.0, 1.0, 1.0, 1.0,...</td>\n",
       "      <td>0.393234</td>\n",
       "      <td>[[1.0, 1.0, 1.0, 1.0, 1.0, 1.0, 1.0, 1.0, 1.0,...</td>\n",
       "      <td>0.399479</td>\n",
       "      <td>[[1.0, 1.0, 1.0, 1.0, 1.0, 1.0, 1.0, 1.0, 1.0,...</td>\n",
       "      <td>0.441252</td>\n",
       "      <td>[[1.0, 1.0, 1.0, 1.0, 1.0, 1.0, 1.0, 1.0, 1.0,...</td>\n",
       "      <td>0.452564</td>\n",
       "    </tr>\n",
       "    <tr>\n",
       "      <th>31</th>\n",
       "      <td>Feature</td>\n",
       "      <td>Polygon</td>\n",
       "      <td>[[[-75.64964409685477, -14.19702703200722], [-...</td>\n",
       "      <td>[{'value': 1151.5213313888864, 'variety': {}, ...</td>\n",
       "      <td>6.329574</td>\n",
       "      <td>[2019]</td>\n",
       "      <td>[hass, fuerte, zutano]</td>\n",
       "      <td>[{'level_name': 'empresa', 'name': 'agricola c...</td>\n",
       "      <td>90244</td>\n",
       "      <td>lote AGRICOLA CHAPI.DON ERNESTO.PAL-6.26</td>\n",
       "      <td>...</td>\n",
       "      <td>[[1.0, 1.0, 1.0, 1.0, 1.0, 1.0, 1.0, 1.0, 1.0,...</td>\n",
       "      <td>0.301113</td>\n",
       "      <td>[[1.0, 1.0, 1.0, 1.0, 1.0, 1.0, 1.0, 1.0, 1.0,...</td>\n",
       "      <td>0.305756</td>\n",
       "      <td>[[1.0, 1.0, 1.0, 1.0, 1.0, 1.0, 1.0, 1.0, 1.0,...</td>\n",
       "      <td>0.320687</td>\n",
       "      <td>[[1.0, 1.0, 1.0, 1.0, 1.0, 1.0, 1.0, 1.0, 1.0,...</td>\n",
       "      <td>0.338643</td>\n",
       "      <td>[[1.0, 1.0, 1.0, 1.0, 1.0, 1.0, 1.0, 1.0, 1.0,...</td>\n",
       "      <td>0.331260</td>\n",
       "    </tr>\n",
       "    <tr>\n",
       "      <th>32</th>\n",
       "      <td>Feature</td>\n",
       "      <td>Polygon</td>\n",
       "      <td>[[[-75.64898805011781, -14.198813508297691], [...</td>\n",
       "      <td>[{'value': 755.4045733546169, 'variety': {}, '...</td>\n",
       "      <td>6.302737</td>\n",
       "      <td>[2019]</td>\n",
       "      <td>[hass, fuerte, zutano]</td>\n",
       "      <td>[{'level_name': 'empresa', 'name': 'agricola c...</td>\n",
       "      <td>90249</td>\n",
       "      <td>lote AGRICOLA CHAPI.DON ERNESTO.PAL-6.32</td>\n",
       "      <td>...</td>\n",
       "      <td>[[1.0, 1.0, 1.0, 1.0, 1.0, 1.0, 1.0, 1.0, 1.0,...</td>\n",
       "      <td>0.333141</td>\n",
       "      <td>[[1.0, 1.0, 1.0, 1.0, 1.0, 1.0, 1.0, 1.0, 1.0,...</td>\n",
       "      <td>0.335666</td>\n",
       "      <td>[[1.0, 1.0, 1.0, 1.0, 1.0, 1.0, 1.0, 1.0, 1.0,...</td>\n",
       "      <td>0.344372</td>\n",
       "      <td>[[1.0, 1.0, 1.0, 1.0, 1.0, 1.0, 1.0, 1.0, 1.0,...</td>\n",
       "      <td>0.376692</td>\n",
       "      <td>[[1.0, 1.0, 1.0, 1.0, 1.0, 1.0, 1.0, 1.0, 1.0,...</td>\n",
       "      <td>0.379664</td>\n",
       "    </tr>\n",
       "  </tbody>\n",
       "</table>\n",
       "<p>33 rows × 191 columns</p>\n",
       "</div>"
      ],
      "text/plain": [
       "       type geometry.type                               geometry.coordinates  \\\n",
       "0   Feature       Polygon  [[[-75.6396578867764, -14.199701335951724], [-...   \n",
       "1   Feature       Polygon  [[[-75.64231663022875, -14.20062882414364], [-...   \n",
       "2   Feature       Polygon  [[[-75.63898926117189, -14.201527268326426], [...   \n",
       "3   Feature       Polygon  [[[-75.64164955317383, -14.202454024468352], [...   \n",
       "4   Feature       Polygon  [[[-75.64164955317383, -14.202454024468352], [...   \n",
       "5   Feature       Polygon  [[[-75.64431888131925, -14.203383890611855], [...   \n",
       "6   Feature       Polygon  [[[-75.63765710540375, -14.20516513033943], [-...   \n",
       "7   Feature       Polygon  [[[-75.64031869971863, -14.206095306337506], [...   \n",
       "8   Feature       Polygon  [[[-75.64031869971863, -14.206095306337506], [...   \n",
       "9   Feature       Polygon  [[[-75.64298986878343, -14.20702879053244], [-...   \n",
       "10  Feature       Polygon  [[[-75.63632248518424, -14.208809605114135], [...   \n",
       "11  Feature       Polygon  [[[-75.63898670766262, -14.209739586312066], [...   \n",
       "12  Feature       Polygon  [[[-75.63565550101005, -14.210630908493748], [...   \n",
       "13  Feature       Polygon  [[[-75.63832148728072, -14.211559560260621], [...   \n",
       "14  Feature       Polygon  [[[-75.63498773608408, -14.212454314475199], [...   \n",
       "15  Feature       Polygon  [[[-75.63765440850564, -14.213384589206255], [...   \n",
       "16  Feature       Polygon  [[[-75.63765440850564, -14.213384589206255], [...   \n",
       "17  Feature       Polygon  [[[-75.64033173320622, -14.214318541860234], [...   \n",
       "18  Feature       Polygon  [[[-75.64434649855319, -14.19514832766311], [-...   \n",
       "19  Feature       Polygon  [[[-75.6523179645351, -14.19796021341869], [-7...   \n",
       "20  Feature       Polygon  [[[-75.64364239237688, -14.19694295233761], [-...   \n",
       "21  Feature       Polygon  [[[-75.64632350714204, -14.197881148780363], [...   \n",
       "22  Feature       Polygon  [[[-75.65166673445216, -14.19973524297276], [-...   \n",
       "23  Feature       Polygon  [[[-75.64497315728985, -14.193291049214046], [...   \n",
       "24  Feature       Polygon  [[[-75.64769678112165, -14.194238756458473], [...   \n",
       "25  Feature       Polygon  [[[-75.6503776656775, -14.195171553670908], [-...   \n",
       "26  Feature       Polygon  [[[-75.64166749773169, -14.194213164268845], [...   \n",
       "27  Feature       Polygon  [[[-75.64701007809187, -14.196107720636288], [...   \n",
       "28  Feature       Polygon  [[[-75.64968970670726, -14.19704295019232], [-...   \n",
       "29  Feature       Polygon  [[[-75.64430202199843, -14.195132802468311], [...   \n",
       "30  Feature       Polygon  [[[-75.6469826482682, -14.196068495618299], [-...   \n",
       "31  Feature       Polygon  [[[-75.64964409685477, -14.19702703200722], [-...   \n",
       "32  Feature       Polygon  [[[-75.64898805011781, -14.198813508297691], [...   \n",
       "\n",
       "                                    properties.values  \\\n",
       "0   [{'value': 3581.158766439885, 'variety': {}, '...   \n",
       "1   [{'value': 4037.3751791811173, 'variety': {}, ...   \n",
       "2   [{'value': 4658.420440484501, 'variety': {}, '...   \n",
       "3   [{'value': 4196.272165747293, 'variety': {}, '...   \n",
       "4   [{'value': 4744.580970357842, 'variety': {}, '...   \n",
       "5   [{'value': 4914.518933170159, 'variety': {}, '...   \n",
       "6   [{'value': 3081.5154889943, 'variety': {}, 'me...   \n",
       "7   [{'value': 2970.0807760737507, 'variety': {}, ...   \n",
       "8   [{'value': 4789.354613313465, 'variety': {}, '...   \n",
       "9   [{'value': 4222.732171703558, 'variety': {}, '...   \n",
       "10  [{'value': 6276.873684788184, 'variety': {}, '...   \n",
       "11  [{'value': 5119.125264626776, 'variety': {}, '...   \n",
       "12  [{'value': 5492.066598919182, 'variety': {}, '...   \n",
       "13  [{'value': 5500.603222883152, 'variety': {}, '...   \n",
       "14  [{'value': 5779.100809810456, 'variety': {}, '...   \n",
       "15  [{'value': 5194.8620884443, 'variety': {}, 'me...   \n",
       "16  [{'value': 5348.496340542419, 'variety': {}, '...   \n",
       "17  [{'value': 5390.6656650079785, 'variety': {}, ...   \n",
       "18  [{'value': 4245.59610452465, 'variety': {}, 'm...   \n",
       "19  [{'value': 4589.172339437979, 'variety': {}, '...   \n",
       "20  [{'value': 4703.701322623691, 'variety': {}, '...   \n",
       "21  [{'value': 4719.9518967964505, 'variety': {}, ...   \n",
       "22  [{'value': 5116.360841332233, 'variety': {}, '...   \n",
       "23  [{'value': 537.1202632311536, 'variety': {}, '...   \n",
       "24  [{'value': 758.980571201504, 'variety': {}, 'm...   \n",
       "25  [{'value': 791.561625424644, 'variety': {}, 'm...   \n",
       "26  [{'value': 767.2799291882275, 'variety': {}, '...   \n",
       "27  [{'value': 1474.8459764210165, 'variety': {}, ...   \n",
       "28  [{'value': 920.4547379474349, 'variety': {}, '...   \n",
       "29  [{'value': 746.8765918999529, 'variety': {}, '...   \n",
       "30  [{'value': 1808.8183141168263, 'variety': {}, ...   \n",
       "31  [{'value': 1151.5213313888864, 'variety': {}, ...   \n",
       "32  [{'value': 755.4045733546169, 'variety': {}, '...   \n",
       "\n",
       "    properties.unit.state.area properties.unit.state.year_of_planting  \\\n",
       "0                     6.530601                                 [2019]   \n",
       "1                     6.555069                                 [2019]   \n",
       "2                     6.533254                                 [2019]   \n",
       "3                     6.551013                                 [2019]   \n",
       "4                     6.534646                                 [2019]   \n",
       "5                     6.562506                                 [2019]   \n",
       "6                     6.498691                                 [2019]   \n",
       "7                     6.525776                                 [2019]   \n",
       "8                     6.561207                                 [2019]   \n",
       "9                     6.569781                                 [2019]   \n",
       "10                    6.500289                                 [2019]   \n",
       "11                    6.536344                                 [2019]   \n",
       "12                    6.529297                                 [2019]   \n",
       "13                    6.548133                                 [2019]   \n",
       "14                    6.544873                                 [2019]   \n",
       "15                    6.575069                                 [2019]   \n",
       "16                    6.304632                                 [2019]   \n",
       "17                    6.333013                                 [2019]   \n",
       "18                    6.372246                                 [2019]   \n",
       "19                    6.302315                                 [2019]   \n",
       "20                    6.355310                                 [2019]   \n",
       "21                    6.330826                                 [2019]   \n",
       "22                    6.287884                                 [2019]   \n",
       "23                    6.237954                                 [2019]   \n",
       "24                    6.226690                                 [2019]   \n",
       "25                    6.191944                                 [2019]   \n",
       "26                    6.334700                                 [2019]   \n",
       "27                    6.469184                                 [2019]   \n",
       "28                    6.448333                                 [2019]   \n",
       "29                    6.423636                                 [2019]   \n",
       "30                    6.423337                                 [2019]   \n",
       "31                    6.329574                                 [2019]   \n",
       "32                    6.302737                                 [2019]   \n",
       "\n",
       "   properties.unit.state.variety  \\\n",
       "0         [hass, fuerte, zutano]   \n",
       "1         [hass, fuerte, zutano]   \n",
       "2         [hass, fuerte, zutano]   \n",
       "3         [hass, fuerte, zutano]   \n",
       "4         [hass, fuerte, zutano]   \n",
       "5         [hass, fuerte, zutano]   \n",
       "6         [hass, fuerte, zutano]   \n",
       "7         [hass, fuerte, zutano]   \n",
       "8         [hass, fuerte, zutano]   \n",
       "9         [hass, fuerte, zutano]   \n",
       "10        [hass, fuerte, zutano]   \n",
       "11        [hass, fuerte, zutano]   \n",
       "12        [hass, fuerte, zutano]   \n",
       "13        [hass, fuerte, zutano]   \n",
       "14        [hass, fuerte, zutano]   \n",
       "15        [hass, fuerte, zutano]   \n",
       "16        [hass, fuerte, zutano]   \n",
       "17        [hass, fuerte, zutano]   \n",
       "18        [hass, fuerte, zutano]   \n",
       "19        [hass, fuerte, zutano]   \n",
       "20        [hass, fuerte, zutano]   \n",
       "21        [hass, fuerte, zutano]   \n",
       "22        [hass, fuerte, zutano]   \n",
       "23        [hass, fuerte, zutano]   \n",
       "24        [hass, fuerte, zutano]   \n",
       "25        [hass, fuerte, zutano]   \n",
       "26        [hass, fuerte, zutano]   \n",
       "27        [hass, fuerte, zutano]   \n",
       "28        [hass, fuerte, zutano]   \n",
       "29        [hass, fuerte, zutano]   \n",
       "30        [hass, fuerte, zutano]   \n",
       "31        [hass, fuerte, zutano]   \n",
       "32        [hass, fuerte, zutano]   \n",
       "\n",
       "                             properties.unit.metadata  properties.unit.id  \\\n",
       "0   [{'level_name': 'empresa', 'name': 'agricola c...               90214   \n",
       "1   [{'level_name': 'empresa', 'name': 'agricola c...               90215   \n",
       "2   [{'level_name': 'empresa', 'name': 'agricola c...               90216   \n",
       "3   [{'level_name': 'empresa', 'name': 'agricola c...               90217   \n",
       "4   [{'level_name': 'empresa', 'name': 'agricola c...               90218   \n",
       "5   [{'level_name': 'empresa', 'name': 'agricola c...               90219   \n",
       "6   [{'level_name': 'empresa', 'name': 'agricola c...               90221   \n",
       "7   [{'level_name': 'empresa', 'name': 'agricola c...               90222   \n",
       "8   [{'level_name': 'empresa', 'name': 'agricola c...               90224   \n",
       "9   [{'level_name': 'empresa', 'name': 'agricola c...               90225   \n",
       "10  [{'level_name': 'empresa', 'name': 'agricola c...               90227   \n",
       "11  [{'level_name': 'empresa', 'name': 'agricola c...               90228   \n",
       "12  [{'level_name': 'empresa', 'name': 'agricola c...               90229   \n",
       "13  [{'level_name': 'empresa', 'name': 'agricola c...               90230   \n",
       "14  [{'level_name': 'empresa', 'name': 'agricola c...               90231   \n",
       "15  [{'level_name': 'empresa', 'name': 'agricola c...               90232   \n",
       "16  [{'level_name': 'empresa', 'name': 'agricola c...               90233   \n",
       "17  [{'level_name': 'empresa', 'name': 'agricola c...               90234   \n",
       "18  [{'level_name': 'empresa', 'name': 'agricola c...               90250   \n",
       "19  [{'level_name': 'empresa', 'name': 'agricola c...               90251   \n",
       "20  [{'level_name': 'empresa', 'name': 'agricola c...               90246   \n",
       "21  [{'level_name': 'empresa', 'name': 'agricola c...               90247   \n",
       "22  [{'level_name': 'empresa', 'name': 'agricola c...               90248   \n",
       "23  [{'level_name': 'empresa', 'name': 'agricola c...               90236   \n",
       "24  [{'level_name': 'empresa', 'name': 'agricola c...               90237   \n",
       "25  [{'level_name': 'empresa', 'name': 'agricola c...               90238   \n",
       "26  [{'level_name': 'empresa', 'name': 'agricola c...               90239   \n",
       "27  [{'level_name': 'empresa', 'name': 'agricola c...               90240   \n",
       "28  [{'level_name': 'empresa', 'name': 'agricola c...               90241   \n",
       "29  [{'level_name': 'empresa', 'name': 'agricola c...               90242   \n",
       "30  [{'level_name': 'empresa', 'name': 'agricola c...               90243   \n",
       "31  [{'level_name': 'empresa', 'name': 'agricola c...               90244   \n",
       "32  [{'level_name': 'empresa', 'name': 'agricola c...               90249   \n",
       "\n",
       "                   properties.unit.full_name  ...  \\\n",
       "0   lote AGRICOLA CHAPI.DON ERNESTO.PAL-1.36  ...   \n",
       "1   lote AGRICOLA CHAPI.DON ERNESTO.PAL-1.37  ...   \n",
       "2   lote AGRICOLA CHAPI.DON ERNESTO.PAL-1.42  ...   \n",
       "3   lote AGRICOLA CHAPI.DON ERNESTO.PAL-1.43  ...   \n",
       "4   lote AGRICOLA CHAPI.DON ERNESTO.PAL-1.48  ...   \n",
       "5   lote AGRICOLA CHAPI.DON ERNESTO.PAL-1.49  ...   \n",
       "6   lote AGRICOLA CHAPI.DON ERNESTO.PAL-2.54  ...   \n",
       "7   lote AGRICOLA CHAPI.DON ERNESTO.PAL-2.55  ...   \n",
       "8   lote AGRICOLA CHAPI.DON ERNESTO.PAL-3.60  ...   \n",
       "9   lote AGRICOLA CHAPI.DON ERNESTO.PAL-3.61  ...   \n",
       "10  lote AGRICOLA CHAPI.DON ERNESTO.PAL-4.66  ...   \n",
       "11  lote AGRICOLA CHAPI.DON ERNESTO.PAL-4.67  ...   \n",
       "12  lote AGRICOLA CHAPI.DON ERNESTO.PAL-4.72  ...   \n",
       "13  lote AGRICOLA CHAPI.DON ERNESTO.PAL-4.73  ...   \n",
       "14  lote AGRICOLA CHAPI.DON ERNESTO.PAL-4.78  ...   \n",
       "15  lote AGRICOLA CHAPI.DON ERNESTO.PAL-4.79  ...   \n",
       "16  lote AGRICOLA CHAPI.DON ERNESTO.PAL-4.84  ...   \n",
       "17  lote AGRICOLA CHAPI.DON ERNESTO.PAL-4.85  ...   \n",
       "18  lote AGRICOLA CHAPI.DON ERNESTO.PAL-5.19  ...   \n",
       "19  lote AGRICOLA CHAPI.DON ERNESTO.PAL-5.27  ...   \n",
       "20  lote AGRICOLA CHAPI.DON ERNESTO.PAL-5.30  ...   \n",
       "21  lote AGRICOLA CHAPI.DON ERNESTO.PAL-5.31  ...   \n",
       "22  lote AGRICOLA CHAPI.DON ERNESTO.PAL-5.33  ...   \n",
       "23  lote AGRICOLA CHAPI.DON ERNESTO.PAL-6.13  ...   \n",
       "24  lote AGRICOLA CHAPI.DON ERNESTO.PAL-6.14  ...   \n",
       "25  lote AGRICOLA CHAPI.DON ERNESTO.PAL-6.15  ...   \n",
       "26  lote AGRICOLA CHAPI.DON ERNESTO.PAL-6.18  ...   \n",
       "27  lote AGRICOLA CHAPI.DON ERNESTO.PAL-6.20  ...   \n",
       "28  lote AGRICOLA CHAPI.DON ERNESTO.PAL-6.21  ...   \n",
       "29  lote AGRICOLA CHAPI.DON ERNESTO.PAL-6.24  ...   \n",
       "30  lote AGRICOLA CHAPI.DON ERNESTO.PAL-6.25  ...   \n",
       "31  lote AGRICOLA CHAPI.DON ERNESTO.PAL-6.26  ...   \n",
       "32  lote AGRICOLA CHAPI.DON ERNESTO.PAL-6.32  ...   \n",
       "\n",
       "                                     2020-02-10_array 2020-02-10  \\\n",
       "0   [[1.0, 1.0, 1.0, 1.0, 1.0, 1.0, 1.0, 1.0, 1.0,...   0.594447   \n",
       "1   [[1.0, 1.0, 1.0, 1.0, 1.0, 1.0, 1.0, 1.0, 1.0,...   0.594103   \n",
       "2   [[1.0, 1.0, 1.0, 1.0, 1.0, 1.0, 1.0, 1.0, 1.0,...   0.608672   \n",
       "3   [[1.0, 1.0, 1.0, 1.0, 1.0, 1.0, 1.0, 1.0, 1.0,...   0.607753   \n",
       "4   [[1.0, 1.0, 1.0, 1.0, 1.0, 1.0, 1.0, 1.0, 1.0,...   0.620011   \n",
       "5   [[1.0, 1.0, 1.0, 1.0, 1.0, 1.0, 1.0, 1.0, 1.0,...   0.624000   \n",
       "6   [[1.0, 1.0, 1.0, 1.0, 1.0, 1.0, 1.0, 1.0, 1.0,...   0.613881   \n",
       "7   [[1.0, 1.0, 1.0, 1.0, 1.0, 1.0, 1.0, 1.0, 1.0,...   0.619242   \n",
       "8   [[1.0, 1.0, 1.0, 1.0, 1.0, 1.0, 1.0, 1.0, 1.0,...   0.586352   \n",
       "9   [[1.0, 1.0, 1.0, 1.0, 1.0, 1.0, 1.0, 1.0, 1.0,...   0.582008   \n",
       "10  [[1.0, 1.0, 1.0, 1.0, 1.0, 1.0, 1.0, 1.0, 1.0,...   0.569640   \n",
       "11  [[1.0, 1.0, 1.0, 1.0, 1.0, 1.0, 1.0, 1.0, 1.0,...   0.581051   \n",
       "12  [[1.0, 1.0, 1.0, 1.0, 1.0, 1.0, 1.0, 1.0, 1.0,...   0.607967   \n",
       "13  [[1.0, 1.0, 1.0, 1.0, 1.0, 1.0, 1.0, 1.0, 1.0,...   0.611271   \n",
       "14  [[1.0, 1.0, 1.0, 1.0, 1.0, 1.0, 1.0, 1.0, 1.0,...   0.620903   \n",
       "15  [[1.0, 1.0, 1.0, 1.0, 1.0, 1.0, 1.0, 1.0, 1.0,...   0.632569   \n",
       "16  [[1.0, 1.0, 1.0, 1.0, 1.0, 1.0, 1.0, 1.0, 1.0,...   0.594099   \n",
       "17  [[1.0, 1.0, 1.0, 1.0, 1.0, 1.0, 1.0, 1.0, 1.0,...   0.610499   \n",
       "18  [[1.0, 1.0, 1.0, 1.0, 1.0, 1.0, 1.0, 1.0, 1.0,...   0.423144   \n",
       "19  [[1.0, 1.0, 1.0, 1.0, 1.0, 1.0, 1.0, 1.0, 1.0,...   0.422826   \n",
       "20  [[1.0, 1.0, 1.0, 1.0, 1.0, 1.0, 1.0, 1.0, 1.0,...   0.446591   \n",
       "21  [[1.0, 1.0, 1.0, 1.0, 1.0, 1.0, 1.0, 1.0, 1.0,...   0.430928   \n",
       "22  [[1.0, 1.0, 1.0, 1.0, 1.0, 1.0, 1.0, 1.0, 1.0,...   0.446316   \n",
       "23  [[1.0, 1.0, 1.0, 1.0, 1.0, 1.0, 1.0, 1.0, 1.0,...   0.285528   \n",
       "24  [[1.0, 1.0, 1.0, 1.0, 1.0, 1.0, 1.0, 1.0, 1.0,...   0.273172   \n",
       "25  [[1.0, 1.0, 1.0, 1.0, 1.0, 1.0, 1.0, 1.0, 1.0,...   0.269381   \n",
       "26  [[1.0, 1.0, 1.0, 1.0, 1.0, 1.0, 1.0, 1.0, 1.0,...   0.328287   \n",
       "27  [[1.0, 1.0, 1.0, 1.0, 1.0, 1.0, 1.0, 1.0, 1.0,...   0.367120   \n",
       "28  [[1.0, 1.0, 1.0, 1.0, 1.0, 1.0, 1.0, 1.0, 1.0,...   0.313297   \n",
       "29  [[1.0, 1.0, 1.0, 1.0, 1.0, 1.0, 1.0, 1.0, 1.0,...   0.313858   \n",
       "30  [[1.0, 1.0, 1.0, 1.0, 1.0, 1.0, 1.0, 1.0, 1.0,...   0.397642   \n",
       "31  [[1.0, 1.0, 1.0, 1.0, 1.0, 1.0, 1.0, 1.0, 1.0,...   0.301113   \n",
       "32  [[1.0, 1.0, 1.0, 1.0, 1.0, 1.0, 1.0, 1.0, 1.0,...   0.333141   \n",
       "\n",
       "                                     2020-02-15_array 2020-02-15  \\\n",
       "0   [[1.0, 1.0, 1.0, 1.0, 1.0, 1.0, 1.0, 1.0, 1.0,...   0.585075   \n",
       "1   [[1.0, 1.0, 1.0, 1.0, 1.0, 1.0, 1.0, 1.0, 1.0,...   0.587701   \n",
       "2   [[1.0, 1.0, 1.0, 1.0, 1.0, 1.0, 1.0, 1.0, 1.0,...   0.593903   \n",
       "3   [[1.0, 1.0, 1.0, 1.0, 1.0, 1.0, 1.0, 1.0, 1.0,...   0.595797   \n",
       "4   [[1.0, 1.0, 1.0, 1.0, 1.0, 1.0, 1.0, 1.0, 1.0,...   0.603345   \n",
       "5   [[1.0, 1.0, 1.0, 1.0, 1.0, 1.0, 1.0, 1.0, 1.0,...   0.606458   \n",
       "6   [[1.0, 1.0, 1.0, 1.0, 1.0, 1.0, 1.0, 1.0, 1.0,...   0.590397   \n",
       "7   [[1.0, 1.0, 1.0, 1.0, 1.0, 1.0, 1.0, 1.0, 1.0,...   0.597623   \n",
       "8   [[1.0, 1.0, 1.0, 1.0, 1.0, 1.0, 1.0, 1.0, 1.0,...   0.560072   \n",
       "9   [[1.0, 1.0, 1.0, 1.0, 1.0, 1.0, 1.0, 1.0, 1.0,...   0.561150   \n",
       "10  [[1.0, 1.0, 1.0, 1.0, 1.0, 1.0, 1.0, 1.0, 1.0,...   0.548865   \n",
       "11  [[1.0, 1.0, 1.0, 1.0, 1.0, 1.0, 1.0, 1.0, 1.0,...   0.560429   \n",
       "12  [[1.0, 1.0, 1.0, 1.0, 1.0, 1.0, 1.0, 1.0, 1.0,...   0.594334   \n",
       "13  [[1.0, 1.0, 1.0, 1.0, 1.0, 1.0, 1.0, 1.0, 1.0,...   0.597917   \n",
       "14  [[1.0, 1.0, 1.0, 1.0, 1.0, 1.0, 1.0, 1.0, 1.0,...   0.610825   \n",
       "15  [[1.0, 1.0, 1.0, 1.0, 1.0, 1.0, 1.0, 1.0, 1.0,...   0.620516   \n",
       "16  [[1.0, 1.0, 1.0, 1.0, 1.0, 1.0, 1.0, 1.0, 1.0,...   0.587340   \n",
       "17  [[1.0, 1.0, 1.0, 1.0, 1.0, 1.0, 1.0, 1.0, 1.0,...   0.601929   \n",
       "18  [[1.0, 1.0, 1.0, 1.0, 1.0, 1.0, 1.0, 1.0, 1.0,...   0.419319   \n",
       "19  [[1.0, 1.0, 1.0, 1.0, 1.0, 1.0, 1.0, 1.0, 1.0,...   0.416353   \n",
       "20  [[1.0, 1.0, 1.0, 1.0, 1.0, 1.0, 1.0, 1.0, 1.0,...   0.444560   \n",
       "21  [[1.0, 1.0, 1.0, 1.0, 1.0, 1.0, 1.0, 1.0, 1.0,...   0.429132   \n",
       "22  [[1.0, 1.0, 1.0, 1.0, 1.0, 1.0, 1.0, 1.0, 1.0,...   0.443658   \n",
       "23  [[1.0, 1.0, 1.0, 1.0, 1.0, 1.0, 1.0, 1.0, 1.0,...   0.279715   \n",
       "24  [[1.0, 1.0, 1.0, 1.0, 1.0, 1.0, 1.0, 1.0, 1.0,...   0.268644   \n",
       "25  [[1.0, 1.0, 1.0, 1.0, 1.0, 1.0, 1.0, 1.0, 1.0,...   0.268726   \n",
       "26  [[1.0, 1.0, 1.0, 1.0, 1.0, 1.0, 1.0, 1.0, 1.0,...   0.319118   \n",
       "27  [[1.0, 1.0, 1.0, 1.0, 1.0, 1.0, 1.0, 1.0, 1.0,...   0.363346   \n",
       "28  [[1.0, 1.0, 1.0, 1.0, 1.0, 1.0, 1.0, 1.0, 1.0,...   0.312059   \n",
       "29  [[1.0, 1.0, 1.0, 1.0, 1.0, 1.0, 1.0, 1.0, 1.0,...   0.309351   \n",
       "30  [[1.0, 1.0, 1.0, 1.0, 1.0, 1.0, 1.0, 1.0, 1.0,...   0.393234   \n",
       "31  [[1.0, 1.0, 1.0, 1.0, 1.0, 1.0, 1.0, 1.0, 1.0,...   0.305756   \n",
       "32  [[1.0, 1.0, 1.0, 1.0, 1.0, 1.0, 1.0, 1.0, 1.0,...   0.335666   \n",
       "\n",
       "                                     2020-03-11_array 2020-03-11  \\\n",
       "0   [[1.0, 1.0, 1.0, 1.0, 1.0, 1.0, 1.0, 1.0, 1.0,...   0.587418   \n",
       "1   [[1.0, 1.0, 1.0, 1.0, 1.0, 1.0, 1.0, 1.0, 1.0,...   0.585747   \n",
       "2   [[1.0, 1.0, 1.0, 1.0, 1.0, 1.0, 1.0, 1.0, 1.0,...   0.600877   \n",
       "3   [[1.0, 1.0, 1.0, 1.0, 1.0, 1.0, 1.0, 1.0, 1.0,...   0.601193   \n",
       "4   [[1.0, 1.0, 1.0, 1.0, 1.0, 1.0, 1.0, 1.0, 1.0,...   0.614018   \n",
       "5   [[1.0, 1.0, 1.0, 1.0, 1.0, 1.0, 1.0, 1.0, 1.0,...   0.610833   \n",
       "6   [[1.0, 1.0, 1.0, 1.0, 1.0, 1.0, 1.0, 1.0, 1.0,...   0.605137   \n",
       "7   [[1.0, 1.0, 1.0, 1.0, 1.0, 1.0, 1.0, 1.0, 1.0,...   0.604936   \n",
       "8   [[1.0, 1.0, 1.0, 1.0, 1.0, 1.0, 1.0, 1.0, 1.0,...   0.575251   \n",
       "9   [[1.0, 1.0, 1.0, 1.0, 1.0, 1.0, 1.0, 1.0, 1.0,...   0.561151   \n",
       "10  [[1.0, 1.0, 1.0, 1.0, 1.0, 1.0, 1.0, 1.0, 1.0,...   0.553014   \n",
       "11  [[1.0, 1.0, 1.0, 1.0, 1.0, 1.0, 1.0, 1.0, 1.0,...   0.562898   \n",
       "12  [[1.0, 1.0, 1.0, 1.0, 1.0, 1.0, 1.0, 1.0, 1.0,...   0.592131   \n",
       "13  [[1.0, 1.0, 1.0, 1.0, 1.0, 1.0, 1.0, 1.0, 1.0,...   0.596103   \n",
       "14  [[1.0, 1.0, 1.0, 1.0, 1.0, 1.0, 1.0, 1.0, 1.0,...   0.612160   \n",
       "15  [[1.0, 1.0, 1.0, 1.0, 1.0, 1.0, 1.0, 1.0, 1.0,...   0.622821   \n",
       "16  [[1.0, 1.0, 1.0, 1.0, 1.0, 1.0, 1.0, 1.0, 1.0,...   0.580381   \n",
       "17  [[1.0, 1.0, 1.0, 1.0, 1.0, 1.0, 1.0, 1.0, 1.0,...   0.603528   \n",
       "18  [[1.0, 1.0, 1.0, 1.0, 1.0, 1.0, 1.0, 1.0, 1.0,...   0.416034   \n",
       "19  [[1.0, 1.0, 1.0, 1.0, 1.0, 1.0, 1.0, 1.0, 1.0,...   0.410405   \n",
       "20  [[1.0, 1.0, 1.0, 1.0, 1.0, 1.0, 1.0, 1.0, 1.0,...   0.437734   \n",
       "21  [[1.0, 1.0, 1.0, 1.0, 1.0, 1.0, 1.0, 1.0, 1.0,...   0.418058   \n",
       "22  [[1.0, 1.0, 1.0, 1.0, 1.0, 1.0, 1.0, 1.0, 1.0,...   0.436547   \n",
       "23  [[1.0, 1.0, 1.0, 1.0, 1.0, 1.0, 1.0, 1.0, 1.0,...   0.291143   \n",
       "24  [[1.0, 1.0, 1.0, 1.0, 1.0, 1.0, 1.0, 1.0, 1.0,...   0.285139   \n",
       "25  [[1.0, 1.0, 1.0, 1.0, 1.0, 1.0, 1.0, 1.0, 1.0,...   0.293205   \n",
       "26  [[1.0, 1.0, 1.0, 1.0, 1.0, 1.0, 1.0, 1.0, 1.0,...   0.330677   \n",
       "27  [[1.0, 1.0, 1.0, 1.0, 1.0, 1.0, 1.0, 1.0, 1.0,...   0.377239   \n",
       "28  [[1.0, 1.0, 1.0, 1.0, 1.0, 1.0, 1.0, 1.0, 1.0,...   0.325276   \n",
       "29  [[1.0, 1.0, 1.0, 1.0, 1.0, 1.0, 1.0, 1.0, 1.0,...   0.313759   \n",
       "30  [[1.0, 1.0, 1.0, 1.0, 1.0, 1.0, 1.0, 1.0, 1.0,...   0.399479   \n",
       "31  [[1.0, 1.0, 1.0, 1.0, 1.0, 1.0, 1.0, 1.0, 1.0,...   0.320687   \n",
       "32  [[1.0, 1.0, 1.0, 1.0, 1.0, 1.0, 1.0, 1.0, 1.0,...   0.344372   \n",
       "\n",
       "                                     2020-04-15_array 2020-04-15  \\\n",
       "0   [[1.0, 1.0, 1.0, 1.0, 1.0, 1.0, 1.0, 1.0, 1.0,...   0.623925   \n",
       "1   [[1.0, 1.0, 1.0, 1.0, 1.0, 1.0, 1.0, 1.0, 1.0,...   0.622790   \n",
       "2   [[1.0, 1.0, 1.0, 1.0, 1.0, 1.0, 1.0, 1.0, 1.0,...   0.628707   \n",
       "3   [[1.0, 1.0, 1.0, 1.0, 1.0, 1.0, 1.0, 1.0, 1.0,...   0.622388   \n",
       "4   [[1.0, 1.0, 1.0, 1.0, 1.0, 1.0, 1.0, 1.0, 1.0,...   0.634250   \n",
       "5   [[1.0, 1.0, 1.0, 1.0, 1.0, 1.0, 1.0, 1.0, 1.0,...   0.628968   \n",
       "6   [[1.0, 1.0, 1.0, 1.0, 1.0, 1.0, 1.0, 1.0, 1.0,...   0.615242   \n",
       "7   [[1.0, 1.0, 1.0, 1.0, 1.0, 1.0, 1.0, 1.0, 1.0,...   0.615917   \n",
       "8   [[1.0, 1.0, 1.0, 1.0, 1.0, 1.0, 1.0, 1.0, 1.0,...   0.587824   \n",
       "9   [[1.0, 1.0, 1.0, 1.0, 1.0, 1.0, 1.0, 1.0, 1.0,...   0.582440   \n",
       "10  [[1.0, 1.0, 1.0, 1.0, 1.0, 1.0, 1.0, 1.0, 1.0,...   0.576665   \n",
       "11  [[1.0, 1.0, 1.0, 1.0, 1.0, 1.0, 1.0, 1.0, 1.0,...   0.582903   \n",
       "12  [[1.0, 1.0, 1.0, 1.0, 1.0, 1.0, 1.0, 1.0, 1.0,...   0.613801   \n",
       "13  [[1.0, 1.0, 1.0, 1.0, 1.0, 1.0, 1.0, 1.0, 1.0,...   0.616189   \n",
       "14  [[1.0, 1.0, 1.0, 1.0, 1.0, 1.0, 1.0, 1.0, 1.0,...   0.629628   \n",
       "15  [[1.0, 1.0, 1.0, 1.0, 1.0, 1.0, 1.0, 1.0, 1.0,...   0.639436   \n",
       "16  [[1.0, 1.0, 1.0, 1.0, 1.0, 1.0, 1.0, 1.0, 1.0,...   0.595026   \n",
       "17  [[1.0, 1.0, 1.0, 1.0, 1.0, 1.0, 1.0, 1.0, 1.0,...   0.611830   \n",
       "18  [[1.0, 1.0, 1.0, 1.0, 1.0, 1.0, 1.0, 1.0, 1.0,...   0.444886   \n",
       "19  [[1.0, 1.0, 1.0, 1.0, 1.0, 1.0, 1.0, 1.0, 1.0,...   0.433540   \n",
       "20  [[1.0, 1.0, 1.0, 1.0, 1.0, 1.0, 1.0, 1.0, 1.0,...   0.467246   \n",
       "21  [[1.0, 1.0, 1.0, 1.0, 1.0, 1.0, 1.0, 1.0, 1.0,...   0.447084   \n",
       "22  [[1.0, 1.0, 1.0, 1.0, 1.0, 1.0, 1.0, 1.0, 1.0,...   0.454179   \n",
       "23  [[1.0, 1.0, 1.0, 1.0, 1.0, 1.0, 1.0, 1.0, 1.0,...   0.345177   \n",
       "24  [[1.0, 1.0, 1.0, 1.0, 1.0, 1.0, 1.0, 1.0, 1.0,...   0.337190   \n",
       "25  [[1.0, 1.0, 1.0, 1.0, 1.0, 1.0, 1.0, 1.0, 1.0,...   0.341936   \n",
       "26  [[1.0, 1.0, 1.0, 1.0, 1.0, 1.0, 1.0, 1.0, 1.0,...   0.381690   \n",
       "27  [[1.0, 1.0, 1.0, 1.0, 1.0, 1.0, 1.0, 1.0, 1.0,...   0.420472   \n",
       "28  [[1.0, 1.0, 1.0, 1.0, 1.0, 1.0, 1.0, 1.0, 1.0,...   0.370825   \n",
       "29  [[1.0, 1.0, 1.0, 1.0, 1.0, 1.0, 1.0, 1.0, 1.0,...   0.365163   \n",
       "30  [[1.0, 1.0, 1.0, 1.0, 1.0, 1.0, 1.0, 1.0, 1.0,...   0.441252   \n",
       "31  [[1.0, 1.0, 1.0, 1.0, 1.0, 1.0, 1.0, 1.0, 1.0,...   0.338643   \n",
       "32  [[1.0, 1.0, 1.0, 1.0, 1.0, 1.0, 1.0, 1.0, 1.0,...   0.376692   \n",
       "\n",
       "                                     2020-04-20_array 2020-04-20  \n",
       "0   [[1.0, 1.0, 1.0, 1.0, 1.0, 1.0, 1.0, 1.0, 1.0,...   0.649108  \n",
       "1   [[1.0, 1.0, 1.0, 1.0, 1.0, 1.0, 1.0, 1.0, 1.0,...   0.650104  \n",
       "2   [[1.0, 1.0, 1.0, 1.0, 1.0, 1.0, 1.0, 1.0, 1.0,...   0.660342  \n",
       "3   [[1.0, 1.0, 1.0, 1.0, 1.0, 1.0, 1.0, 1.0, 1.0,...   0.655480  \n",
       "4   [[1.0, 1.0, 1.0, 1.0, 1.0, 1.0, 1.0, 1.0, 1.0,...   0.672965  \n",
       "5   [[1.0, 1.0, 1.0, 1.0, 1.0, 1.0, 1.0, 1.0, 1.0,...   0.665730  \n",
       "6   [[1.0, 1.0, 1.0, 1.0, 1.0, 1.0, 1.0, 1.0, 1.0,...   0.652566  \n",
       "7   [[1.0, 1.0, 1.0, 1.0, 1.0, 1.0, 1.0, 1.0, 1.0,...   0.650880  \n",
       "8   [[1.0, 1.0, 1.0, 1.0, 1.0, 1.0, 1.0, 1.0, 1.0,...   0.625330  \n",
       "9   [[1.0, 1.0, 1.0, 1.0, 1.0, 1.0, 1.0, 1.0, 1.0,...   0.617909  \n",
       "10  [[1.0, 1.0, 1.0, 1.0, 1.0, 1.0, 1.0, 1.0, 1.0,...   0.617708  \n",
       "11  [[1.0, 1.0, 1.0, 1.0, 1.0, 1.0, 1.0, 1.0, 1.0,...   0.627583  \n",
       "12  [[1.0, 1.0, 1.0, 1.0, 1.0, 1.0, 1.0, 1.0, 1.0,...   0.651111  \n",
       "13  [[1.0, 1.0, 1.0, 1.0, 1.0, 1.0, 1.0, 1.0, 1.0,...   0.655810  \n",
       "14  [[1.0, 1.0, 1.0, 1.0, 1.0, 1.0, 1.0, 1.0, 1.0,...   0.667310  \n",
       "15  [[1.0, 1.0, 1.0, 1.0, 1.0, 1.0, 1.0, 1.0, 1.0,...   0.680620  \n",
       "16  [[1.0, 1.0, 1.0, 1.0, 1.0, 1.0, 1.0, 1.0, 1.0,...   0.634006  \n",
       "17  [[1.0, 1.0, 1.0, 1.0, 1.0, 1.0, 1.0, 1.0, 1.0,...   0.660302  \n",
       "18  [[1.0, 1.0, 1.0, 1.0, 1.0, 1.0, 1.0, 1.0, 1.0,...   0.453776  \n",
       "19  [[1.0, 1.0, 1.0, 1.0, 1.0, 1.0, 1.0, 1.0, 1.0,...   0.448870  \n",
       "20  [[1.0, 1.0, 1.0, 1.0, 1.0, 1.0, 1.0, 1.0, 1.0,...   0.481543  \n",
       "21  [[1.0, 1.0, 1.0, 1.0, 1.0, 1.0, 1.0, 1.0, 1.0,...   0.460328  \n",
       "22  [[1.0, 1.0, 1.0, 1.0, 1.0, 1.0, 1.0, 1.0, 1.0,...   0.477763  \n",
       "23  [[1.0, 1.0, 1.0, 1.0, 1.0, 1.0, 1.0, 1.0, 1.0,...   0.350875  \n",
       "24  [[1.0, 1.0, 1.0, 1.0, 1.0, 1.0, 1.0, 1.0, 1.0,...   0.324875  \n",
       "25  [[1.0, 1.0, 1.0, 1.0, 1.0, 1.0, 1.0, 1.0, 1.0,...   0.334321  \n",
       "26  [[1.0, 1.0, 1.0, 1.0, 1.0, 1.0, 1.0, 1.0, 1.0,...   0.392911  \n",
       "27  [[1.0, 1.0, 1.0, 1.0, 1.0, 1.0, 1.0, 1.0, 1.0,...   0.423330  \n",
       "28  [[1.0, 1.0, 1.0, 1.0, 1.0, 1.0, 1.0, 1.0, 1.0,...   0.370396  \n",
       "29  [[1.0, 1.0, 1.0, 1.0, 1.0, 1.0, 1.0, 1.0, 1.0,...   0.373392  \n",
       "30  [[1.0, 1.0, 1.0, 1.0, 1.0, 1.0, 1.0, 1.0, 1.0,...   0.452564  \n",
       "31  [[1.0, 1.0, 1.0, 1.0, 1.0, 1.0, 1.0, 1.0, 1.0,...   0.331260  \n",
       "32  [[1.0, 1.0, 1.0, 1.0, 1.0, 1.0, 1.0, 1.0, 1.0,...   0.379664  \n",
       "\n",
       "[33 rows x 191 columns]"
      ]
     },
     "execution_count": 10,
     "metadata": {},
     "output_type": "execute_result"
    }
   ],
   "source": [
    "df_data"
   ]
  },
  {
   "cell_type": "code",
   "execution_count": 13,
   "metadata": {},
   "outputs": [
    {
     "data": {
      "text/html": [
       "<div>\n",
       "<style scoped>\n",
       "    .dataframe tbody tr th:only-of-type {\n",
       "        vertical-align: middle;\n",
       "    }\n",
       "\n",
       "    .dataframe tbody tr th {\n",
       "        vertical-align: top;\n",
       "    }\n",
       "\n",
       "    .dataframe thead th {\n",
       "        text-align: right;\n",
       "    }\n",
       "</style>\n",
       "<table border=\"1\" class=\"dataframe\">\n",
       "  <thead>\n",
       "    <tr style=\"text-align: right;\">\n",
       "      <th></th>\n",
       "      <th>properties.unit.state.area</th>\n",
       "      <th>properties.unit.id</th>\n",
       "      <th>2016-07-15</th>\n",
       "      <th>2016-09-13</th>\n",
       "      <th>2016-11-22</th>\n",
       "      <th>2016-12-02</th>\n",
       "      <th>2016-12-22</th>\n",
       "      <th>2017-01-01</th>\n",
       "      <th>2017-02-20</th>\n",
       "      <th>2017-04-01</th>\n",
       "      <th>...</th>\n",
       "      <th>2019-11-17</th>\n",
       "      <th>2019-12-07</th>\n",
       "      <th>2019-12-17</th>\n",
       "      <th>2019-12-27</th>\n",
       "      <th>2020-02-05</th>\n",
       "      <th>2020-02-10</th>\n",
       "      <th>2020-02-15</th>\n",
       "      <th>2020-03-11</th>\n",
       "      <th>2020-04-15</th>\n",
       "      <th>2020-04-20</th>\n",
       "    </tr>\n",
       "  </thead>\n",
       "  <tbody>\n",
       "    <tr>\n",
       "      <th>count</th>\n",
       "      <td>33.000000</td>\n",
       "      <td>33.000000</td>\n",
       "      <td>30.000000</td>\n",
       "      <td>27.000000</td>\n",
       "      <td>28.000000</td>\n",
       "      <td>27.000000</td>\n",
       "      <td>27.000000</td>\n",
       "      <td>26.000000</td>\n",
       "      <td>24.000000</td>\n",
       "      <td>24.000000</td>\n",
       "      <td>...</td>\n",
       "      <td>33.000000</td>\n",
       "      <td>33.000000</td>\n",
       "      <td>33.000000</td>\n",
       "      <td>33.000000</td>\n",
       "      <td>33.000000</td>\n",
       "      <td>33.000000</td>\n",
       "      <td>33.000000</td>\n",
       "      <td>33.000000</td>\n",
       "      <td>33.000000</td>\n",
       "      <td>33.000000</td>\n",
       "    </tr>\n",
       "    <tr>\n",
       "      <th>mean</th>\n",
       "      <td>6.434269</td>\n",
       "      <td>90232.909091</td>\n",
       "      <td>0.455755</td>\n",
       "      <td>0.426877</td>\n",
       "      <td>0.507662</td>\n",
       "      <td>0.489531</td>\n",
       "      <td>0.469888</td>\n",
       "      <td>0.474038</td>\n",
       "      <td>0.519918</td>\n",
       "      <td>0.520639</td>\n",
       "      <td>...</td>\n",
       "      <td>0.460241</td>\n",
       "      <td>0.453779</td>\n",
       "      <td>0.476877</td>\n",
       "      <td>0.485428</td>\n",
       "      <td>0.465598</td>\n",
       "      <td>0.491843</td>\n",
       "      <td>0.482191</td>\n",
       "      <td>0.486950</td>\n",
       "      <td>0.514967</td>\n",
       "      <td>0.537901</td>\n",
       "    </tr>\n",
       "    <tr>\n",
       "      <th>std</th>\n",
       "      <td>0.119440</td>\n",
       "      <td>11.336786</td>\n",
       "      <td>0.190395</td>\n",
       "      <td>0.143901</td>\n",
       "      <td>0.221135</td>\n",
       "      <td>0.193776</td>\n",
       "      <td>0.180455</td>\n",
       "      <td>0.171250</td>\n",
       "      <td>0.173757</td>\n",
       "      <td>0.166001</td>\n",
       "      <td>...</td>\n",
       "      <td>0.166364</td>\n",
       "      <td>0.145905</td>\n",
       "      <td>0.146822</td>\n",
       "      <td>0.135946</td>\n",
       "      <td>0.118699</td>\n",
       "      <td>0.133040</td>\n",
       "      <td>0.127277</td>\n",
       "      <td>0.124192</td>\n",
       "      <td>0.114048</td>\n",
       "      <td>0.130466</td>\n",
       "    </tr>\n",
       "    <tr>\n",
       "      <th>min</th>\n",
       "      <td>6.191944</td>\n",
       "      <td>90214.000000</td>\n",
       "      <td>0.203571</td>\n",
       "      <td>0.201993</td>\n",
       "      <td>0.203846</td>\n",
       "      <td>0.201364</td>\n",
       "      <td>0.203394</td>\n",
       "      <td>0.202460</td>\n",
       "      <td>0.200854</td>\n",
       "      <td>0.217155</td>\n",
       "      <td>...</td>\n",
       "      <td>0.228292</td>\n",
       "      <td>0.237624</td>\n",
       "      <td>0.245169</td>\n",
       "      <td>0.267559</td>\n",
       "      <td>0.261637</td>\n",
       "      <td>0.269381</td>\n",
       "      <td>0.268644</td>\n",
       "      <td>0.285139</td>\n",
       "      <td>0.337190</td>\n",
       "      <td>0.324875</td>\n",
       "    </tr>\n",
       "    <tr>\n",
       "      <th>25%</th>\n",
       "      <td>6.330826</td>\n",
       "      <td>90224.000000</td>\n",
       "      <td>0.223614</td>\n",
       "      <td>0.246096</td>\n",
       "      <td>0.221436</td>\n",
       "      <td>0.235692</td>\n",
       "      <td>0.232803</td>\n",
       "      <td>0.243460</td>\n",
       "      <td>0.507172</td>\n",
       "      <td>0.501256</td>\n",
       "      <td>...</td>\n",
       "      <td>0.283129</td>\n",
       "      <td>0.317854</td>\n",
       "      <td>0.345917</td>\n",
       "      <td>0.367561</td>\n",
       "      <td>0.352991</td>\n",
       "      <td>0.367120</td>\n",
       "      <td>0.363346</td>\n",
       "      <td>0.377239</td>\n",
       "      <td>0.420472</td>\n",
       "      <td>0.423330</td>\n",
       "    </tr>\n",
       "    <tr>\n",
       "      <th>50%</th>\n",
       "      <td>6.469184</td>\n",
       "      <td>90233.000000</td>\n",
       "      <td>0.597329</td>\n",
       "      <td>0.522298</td>\n",
       "      <td>0.660009</td>\n",
       "      <td>0.615734</td>\n",
       "      <td>0.588359</td>\n",
       "      <td>0.581606</td>\n",
       "      <td>0.614721</td>\n",
       "      <td>0.612547</td>\n",
       "      <td>...</td>\n",
       "      <td>0.583068</td>\n",
       "      <td>0.556322</td>\n",
       "      <td>0.576954</td>\n",
       "      <td>0.574817</td>\n",
       "      <td>0.545701</td>\n",
       "      <td>0.581051</td>\n",
       "      <td>0.560072</td>\n",
       "      <td>0.561151</td>\n",
       "      <td>0.582440</td>\n",
       "      <td>0.617909</td>\n",
       "    </tr>\n",
       "    <tr>\n",
       "      <th>75%</th>\n",
       "      <td>6.536344</td>\n",
       "      <td>90242.000000</td>\n",
       "      <td>0.608997</td>\n",
       "      <td>0.531056</td>\n",
       "      <td>0.672041</td>\n",
       "      <td>0.629245</td>\n",
       "      <td>0.600378</td>\n",
       "      <td>0.591623</td>\n",
       "      <td>0.624135</td>\n",
       "      <td>0.620913</td>\n",
       "      <td>...</td>\n",
       "      <td>0.607893</td>\n",
       "      <td>0.580026</td>\n",
       "      <td>0.603445</td>\n",
       "      <td>0.600299</td>\n",
       "      <td>0.569329</td>\n",
       "      <td>0.608672</td>\n",
       "      <td>0.594334</td>\n",
       "      <td>0.600877</td>\n",
       "      <td>0.616189</td>\n",
       "      <td>0.652566</td>\n",
       "    </tr>\n",
       "    <tr>\n",
       "      <th>max</th>\n",
       "      <td>6.575069</td>\n",
       "      <td>90251.000000</td>\n",
       "      <td>0.634761</td>\n",
       "      <td>0.543809</td>\n",
       "      <td>0.686018</td>\n",
       "      <td>0.644637</td>\n",
       "      <td>0.614079</td>\n",
       "      <td>0.604310</td>\n",
       "      <td>0.633505</td>\n",
       "      <td>0.629007</td>\n",
       "      <td>...</td>\n",
       "      <td>0.647146</td>\n",
       "      <td>0.623079</td>\n",
       "      <td>0.646210</td>\n",
       "      <td>0.639688</td>\n",
       "      <td>0.587165</td>\n",
       "      <td>0.632569</td>\n",
       "      <td>0.620516</td>\n",
       "      <td>0.622821</td>\n",
       "      <td>0.639436</td>\n",
       "      <td>0.680620</td>\n",
       "    </tr>\n",
       "  </tbody>\n",
       "</table>\n",
       "<p>8 rows × 91 columns</p>\n",
       "</div>"
      ],
      "text/plain": [
       "       properties.unit.state.area  properties.unit.id  2016-07-15  2016-09-13  \\\n",
       "count                   33.000000           33.000000   30.000000   27.000000   \n",
       "mean                     6.434269        90232.909091    0.455755    0.426877   \n",
       "std                      0.119440           11.336786    0.190395    0.143901   \n",
       "min                      6.191944        90214.000000    0.203571    0.201993   \n",
       "25%                      6.330826        90224.000000    0.223614    0.246096   \n",
       "50%                      6.469184        90233.000000    0.597329    0.522298   \n",
       "75%                      6.536344        90242.000000    0.608997    0.531056   \n",
       "max                      6.575069        90251.000000    0.634761    0.543809   \n",
       "\n",
       "       2016-11-22  2016-12-02  2016-12-22  2017-01-01  2017-02-20  2017-04-01  \\\n",
       "count   28.000000   27.000000   27.000000   26.000000   24.000000   24.000000   \n",
       "mean     0.507662    0.489531    0.469888    0.474038    0.519918    0.520639   \n",
       "std      0.221135    0.193776    0.180455    0.171250    0.173757    0.166001   \n",
       "min      0.203846    0.201364    0.203394    0.202460    0.200854    0.217155   \n",
       "25%      0.221436    0.235692    0.232803    0.243460    0.507172    0.501256   \n",
       "50%      0.660009    0.615734    0.588359    0.581606    0.614721    0.612547   \n",
       "75%      0.672041    0.629245    0.600378    0.591623    0.624135    0.620913   \n",
       "max      0.686018    0.644637    0.614079    0.604310    0.633505    0.629007   \n",
       "\n",
       "       ...  2019-11-17  2019-12-07  2019-12-17  2019-12-27  2020-02-05  \\\n",
       "count  ...   33.000000   33.000000   33.000000   33.000000   33.000000   \n",
       "mean   ...    0.460241    0.453779    0.476877    0.485428    0.465598   \n",
       "std    ...    0.166364    0.145905    0.146822    0.135946    0.118699   \n",
       "min    ...    0.228292    0.237624    0.245169    0.267559    0.261637   \n",
       "25%    ...    0.283129    0.317854    0.345917    0.367561    0.352991   \n",
       "50%    ...    0.583068    0.556322    0.576954    0.574817    0.545701   \n",
       "75%    ...    0.607893    0.580026    0.603445    0.600299    0.569329   \n",
       "max    ...    0.647146    0.623079    0.646210    0.639688    0.587165   \n",
       "\n",
       "       2020-02-10  2020-02-15  2020-03-11  2020-04-15  2020-04-20  \n",
       "count   33.000000   33.000000   33.000000   33.000000   33.000000  \n",
       "mean     0.491843    0.482191    0.486950    0.514967    0.537901  \n",
       "std      0.133040    0.127277    0.124192    0.114048    0.130466  \n",
       "min      0.269381    0.268644    0.285139    0.337190    0.324875  \n",
       "25%      0.367120    0.363346    0.377239    0.420472    0.423330  \n",
       "50%      0.581051    0.560072    0.561151    0.582440    0.617909  \n",
       "75%      0.608672    0.594334    0.600877    0.616189    0.652566  \n",
       "max      0.632569    0.620516    0.622821    0.639436    0.680620  \n",
       "\n",
       "[8 rows x 91 columns]"
      ]
     },
     "execution_count": 13,
     "metadata": {},
     "output_type": "execute_result"
    }
   ],
   "source": [
    "df_data.describe()"
   ]
  },
  {
   "cell_type": "code",
   "execution_count": 28,
   "metadata": {},
   "outputs": [],
   "source": [
    "df_data.to_csv(\"outputs\\\\df_data.csv\", index = False)"
   ]
  }
 ],
 "metadata": {
  "kernelspec": {
   "display_name": "Python 3",
   "language": "python",
   "name": "python3"
  },
  "language_info": {
   "codemirror_mode": {
    "name": "ipython",
    "version": 3
   },
   "file_extension": ".py",
   "mimetype": "text/x-python",
   "name": "python",
   "nbconvert_exporter": "python",
   "pygments_lexer": "ipython3",
   "version": "3.6.5"
  }
 },
 "nbformat": 4,
 "nbformat_minor": 2
}
